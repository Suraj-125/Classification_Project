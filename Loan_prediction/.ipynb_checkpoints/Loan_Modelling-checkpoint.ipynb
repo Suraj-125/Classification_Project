{
 "cells": [
  {
   "cell_type": "code",
   "execution_count": 1,
   "id": "02eb5047-2be5-4f16-99a2-982f160587e4",
   "metadata": {},
   "outputs": [],
   "source": [
    "import numpy as np\n",
    "import pandas as pd\n",
    "import matplotlib.pyplot as plt\n",
    "import seaborn as sns\n",
    "\n",
    "import warnings\n",
    "warnings.simplefilter(\"ignore\")"
   ]
  },
  {
   "cell_type": "code",
   "execution_count": 2,
   "id": "c0deca4d-e8f6-4a38-a544-991e6da6443e",
   "metadata": {},
   "outputs": [
    {
     "data": {
      "text/html": [
       "<div>\n",
       "<style scoped>\n",
       "    .dataframe tbody tr th:only-of-type {\n",
       "        vertical-align: middle;\n",
       "    }\n",
       "\n",
       "    .dataframe tbody tr th {\n",
       "        vertical-align: top;\n",
       "    }\n",
       "\n",
       "    .dataframe thead th {\n",
       "        text-align: right;\n",
       "    }\n",
       "</style>\n",
       "<table border=\"1\" class=\"dataframe\">\n",
       "  <thead>\n",
       "    <tr style=\"text-align: right;\">\n",
       "      <th></th>\n",
       "      <th>Credit Policy</th>\n",
       "      <th>Purpose</th>\n",
       "      <th>Interest Rate</th>\n",
       "      <th>Installment</th>\n",
       "      <th>Annual Income</th>\n",
       "      <th>DTI</th>\n",
       "      <th>Fico</th>\n",
       "      <th>Days_CR_Line</th>\n",
       "      <th>Revolve Balance</th>\n",
       "      <th>Revolve Util</th>\n",
       "      <th>Inq_6months</th>\n",
       "      <th>Delinq_2years</th>\n",
       "      <th>Public Records</th>\n",
       "      <th>Not Fully Paid</th>\n",
       "    </tr>\n",
       "  </thead>\n",
       "  <tbody>\n",
       "    <tr>\n",
       "      <th>0</th>\n",
       "      <td>1</td>\n",
       "      <td>debt_consolidation</td>\n",
       "      <td>0.1189</td>\n",
       "      <td>829.10</td>\n",
       "      <td>11.350407</td>\n",
       "      <td>19.48</td>\n",
       "      <td>737</td>\n",
       "      <td>75.099656</td>\n",
       "      <td>13.033213</td>\n",
       "      <td>52.1</td>\n",
       "      <td>0.0</td>\n",
       "      <td>0</td>\n",
       "      <td>0</td>\n",
       "      <td>0</td>\n",
       "    </tr>\n",
       "    <tr>\n",
       "      <th>1</th>\n",
       "      <td>1</td>\n",
       "      <td>credit_card</td>\n",
       "      <td>0.1071</td>\n",
       "      <td>228.22</td>\n",
       "      <td>11.082143</td>\n",
       "      <td>14.29</td>\n",
       "      <td>707</td>\n",
       "      <td>52.535702</td>\n",
       "      <td>13.541261</td>\n",
       "      <td>76.7</td>\n",
       "      <td>0.0</td>\n",
       "      <td>0</td>\n",
       "      <td>0</td>\n",
       "      <td>0</td>\n",
       "    </tr>\n",
       "    <tr>\n",
       "      <th>2</th>\n",
       "      <td>1</td>\n",
       "      <td>debt_consolidation</td>\n",
       "      <td>0.1357</td>\n",
       "      <td>366.86</td>\n",
       "      <td>10.373491</td>\n",
       "      <td>11.63</td>\n",
       "      <td>682</td>\n",
       "      <td>68.629440</td>\n",
       "      <td>7.697642</td>\n",
       "      <td>25.6</td>\n",
       "      <td>1.0</td>\n",
       "      <td>0</td>\n",
       "      <td>0</td>\n",
       "      <td>0</td>\n",
       "    </tr>\n",
       "    <tr>\n",
       "      <th>3</th>\n",
       "      <td>1</td>\n",
       "      <td>debt_consolidation</td>\n",
       "      <td>0.1008</td>\n",
       "      <td>162.34</td>\n",
       "      <td>11.350407</td>\n",
       "      <td>8.10</td>\n",
       "      <td>712</td>\n",
       "      <td>51.961123</td>\n",
       "      <td>13.545689</td>\n",
       "      <td>73.2</td>\n",
       "      <td>1.0</td>\n",
       "      <td>0</td>\n",
       "      <td>0</td>\n",
       "      <td>0</td>\n",
       "    </tr>\n",
       "    <tr>\n",
       "      <th>4</th>\n",
       "      <td>1</td>\n",
       "      <td>credit_card</td>\n",
       "      <td>0.1426</td>\n",
       "      <td>102.92</td>\n",
       "      <td>11.299732</td>\n",
       "      <td>14.97</td>\n",
       "      <td>667</td>\n",
       "      <td>63.765194</td>\n",
       "      <td>8.297449</td>\n",
       "      <td>39.5</td>\n",
       "      <td>0.0</td>\n",
       "      <td>1</td>\n",
       "      <td>0</td>\n",
       "      <td>0</td>\n",
       "    </tr>\n",
       "  </tbody>\n",
       "</table>\n",
       "</div>"
      ],
      "text/plain": [
       "   Credit Policy             Purpose  Interest Rate  Installment  \\\n",
       "0              1  debt_consolidation         0.1189       829.10   \n",
       "1              1         credit_card         0.1071       228.22   \n",
       "2              1  debt_consolidation         0.1357       366.86   \n",
       "3              1  debt_consolidation         0.1008       162.34   \n",
       "4              1         credit_card         0.1426       102.92   \n",
       "\n",
       "   Annual Income    DTI  Fico  Days_CR_Line  Revolve Balance  Revolve Util  \\\n",
       "0      11.350407  19.48   737     75.099656        13.033213          52.1   \n",
       "1      11.082143  14.29   707     52.535702        13.541261          76.7   \n",
       "2      10.373491  11.63   682     68.629440         7.697642          25.6   \n",
       "3      11.350407   8.10   712     51.961123        13.545689          73.2   \n",
       "4      11.299732  14.97   667     63.765194         8.297449          39.5   \n",
       "\n",
       "   Inq_6months  Delinq_2years  Public Records  Not Fully Paid  \n",
       "0          0.0              0               0               0  \n",
       "1          0.0              0               0               0  \n",
       "2          1.0              0               0               0  \n",
       "3          1.0              0               0               0  \n",
       "4          0.0              1               0               0  "
      ]
     },
     "execution_count": 2,
     "metadata": {},
     "output_type": "execute_result"
    }
   ],
   "source": [
    "df = pd.read_csv(\"Loan_Analyzed.csv\")\n",
    "df.head()"
   ]
  },
  {
   "cell_type": "code",
   "execution_count": 3,
   "id": "4bb18712-5175-4de9-9742-97d237a6c2ec",
   "metadata": {},
   "outputs": [
    {
     "data": {
      "text/plain": [
       "(9578, 14)"
      ]
     },
     "execution_count": 3,
     "metadata": {},
     "output_type": "execute_result"
    }
   ],
   "source": [
    "df.shape"
   ]
  },
  {
   "cell_type": "code",
   "execution_count": 7,
   "id": "0803c7c0-be71-4937-b3e3-3544db4c40e8",
   "metadata": {},
   "outputs": [],
   "source": [
    "X = df.drop(\"Credit Policy\", axis = 1)\n",
    "y = df[\"Credit Policy\"]"
   ]
  },
  {
   "cell_type": "markdown",
   "id": "478b3c8b-a6f6-4866-9086-2efbc06dce3a",
   "metadata": {},
   "source": [
    "# ***Libraries***"
   ]
  },
  {
   "cell_type": "code",
   "execution_count": 13,
   "id": "ad1145c9-9b2b-4f4e-b140-5dfa698f8ab3",
   "metadata": {},
   "outputs": [],
   "source": [
    "from sklearn.model_selection import train_test_split, cross_val_score, GridSearchCV\n",
    "from sklearn.pipeline import Pipeline\n",
    "from sklearn.compose import ColumnTransformer\n",
    "from sklearn.preprocessing import StandardScaler, OneHotEncoder\n",
    "from sklearn.metrics import accuracy_score, confusion_matrix, classification_report, mean_absolute_error"
   ]
  },
  {
   "cell_type": "code",
   "execution_count": 9,
   "id": "5095b114-3e69-4ed2-82d6-b46bac35e097",
   "metadata": {},
   "outputs": [],
   "source": [
    "from sklearn.linear_model import LogisticRegression\n",
    "from sklearn.svm import SVC\n",
    "from sklearn.neighbors import KNeighborsClassifier\n",
    "from sklearn.tree import DecisionTreeClassifier\n",
    "from sklearn.ensemble import RandomForestClassifier, AdaBoostClassifier, GradientBoostingClassifier\n",
    "from xgboost import XGBClassifier"
   ]
  },
  {
   "cell_type": "markdown",
   "id": "2f411474-a32a-4bc4-ba0f-dd39d4b3114a",
   "metadata": {},
   "source": [
    "***Train_Test_Split***"
   ]
  },
  {
   "cell_type": "code",
   "execution_count": 10,
   "id": "3cdb7eeb-d53a-4315-8cf6-7e6ee4dc7caf",
   "metadata": {},
   "outputs": [],
   "source": [
    "X_train, X_test, y_train, y_test = train_test_split(X, y, test_size = 0.2, random_state = 82)"
   ]
  },
  {
   "cell_type": "markdown",
   "id": "ba65e733-32b1-4bd2-a70a-ceb2af69318c",
   "metadata": {},
   "source": [
    "# ***LogisticRegression***"
   ]
  },
  {
   "cell_type": "code",
   "execution_count": 21,
   "id": "3b0e92cb-560f-4e70-804e-667164cb0ebe",
   "metadata": {},
   "outputs": [
    {
     "name": "stdout",
     "output_type": "stream",
     "text": [
      "Training Accuracy : 0.8761419994779431\n",
      "Testing Accuracy : 0.8950939457202505\n",
      "CV Score : 0.874968108062997\n",
      "MAE : 0.10490605427974947\n"
     ]
    }
   ],
   "source": [
    "step1 = ColumnTransformer(transformers = [\n",
    "    (\"col_tnf\", OneHotEncoder(sparse = False, drop = \"first\"), [0]),\n",
    "    (\"scaler\", StandardScaler(), [1, 2, 3, 4, 5, 6, 7, 8, 9, 10])\n",
    "], remainder = \"passthrough\")\n",
    "\n",
    "model = LogisticRegression()\n",
    "\n",
    "pipe = Pipeline([\n",
    "    (\"scaler\", step1),\n",
    "    (\"model\", model)\n",
    "])\n",
    "\n",
    "pipe.fit(X_train, y_train)\n",
    "pred_test = pipe.predict(X_test)\n",
    "print(\"Training Accuracy :\", pipe.score(X_train, y_train))\n",
    "print(\"Testing Accuracy :\", pipe.score(X_test, y_test))\n",
    "print(\"CV Score :\", cross_val_score(pipe, X_train, y_train, cv = 5).mean())\n",
    "print(\"MAE :\", mean_absolute_error(y_test, pred_test))"
   ]
  },
  {
   "cell_type": "code",
   "execution_count": 22,
   "id": "dd6ed2c9-0c44-48f7-9edf-d7d0620a9a4b",
   "metadata": {},
   "outputs": [
    {
     "data": {
      "text/plain": [
       "array([[ 201,  149],\n",
       "       [  52, 1514]], dtype=int64)"
      ]
     },
     "execution_count": 22,
     "metadata": {},
     "output_type": "execute_result"
    }
   ],
   "source": [
    "confusion_matrix(y_test, pred_test)"
   ]
  },
  {
   "cell_type": "code",
   "execution_count": 23,
   "id": "13c3c480-5ce4-4142-8171-bd7bc2574cd3",
   "metadata": {},
   "outputs": [
    {
     "name": "stdout",
     "output_type": "stream",
     "text": [
      "              precision    recall  f1-score   support\n",
      "\n",
      "           0       0.79      0.57      0.67       350\n",
      "           1       0.91      0.97      0.94      1566\n",
      "\n",
      "    accuracy                           0.90      1916\n",
      "   macro avg       0.85      0.77      0.80      1916\n",
      "weighted avg       0.89      0.90      0.89      1916\n",
      "\n"
     ]
    }
   ],
   "source": [
    "print(classification_report(y_test, pred_test))"
   ]
  },
  {
   "cell_type": "markdown",
   "id": "0cb3519f-b629-4368-ad45-2b77bbad22ac",
   "metadata": {},
   "source": [
    "# ***SVM - SVC***"
   ]
  },
  {
   "cell_type": "code",
   "execution_count": 24,
   "id": "16ea1db4-f568-467c-ae2a-b1de28b12028",
   "metadata": {},
   "outputs": [
    {
     "name": "stdout",
     "output_type": "stream",
     "text": [
      "Training Accuracy : 0.9862960062646828\n",
      "Testing Accuracy : 0.9634655532359081\n",
      "CV Score : 0.9449243705493929\n",
      "MAE : 0.03653444676409186\n"
     ]
    }
   ],
   "source": [
    "step1 = ColumnTransformer(transformers = [\n",
    "    (\"col_tnf\", OneHotEncoder(sparse = False, drop = \"first\"), [0]),\n",
    "    (\"scaler\", StandardScaler(), [1, 2, 3, 4, 5, 6, 7, 8, 9, 10])\n",
    "], remainder = \"passthrough\")\n",
    "\n",
    "model = SVC(C = 10, kernel = \"rbf\")\n",
    "\n",
    "pipe = Pipeline([\n",
    "    (\"scaler\", step1),\n",
    "    (\"model\", model)\n",
    "])\n",
    "\n",
    "pipe.fit(X_train, y_train)\n",
    "pred_test = pipe.predict(X_test)\n",
    "print(\"Training Accuracy :\", pipe.score(X_train, y_train))\n",
    "print(\"Testing Accuracy :\", pipe.score(X_test, y_test))\n",
    "print(\"CV Score :\", cross_val_score(pipe, X_train, y_train, cv = 5).mean())\n",
    "print(\"MAE :\", mean_absolute_error(y_test, pred_test))"
   ]
  },
  {
   "cell_type": "code",
   "execution_count": 25,
   "id": "24f34c5e-3f84-4dec-98e1-0e1e8c0c8e65",
   "metadata": {},
   "outputs": [
    {
     "data": {
      "text/plain": [
       "array([[ 306,   44],\n",
       "       [  26, 1540]], dtype=int64)"
      ]
     },
     "execution_count": 25,
     "metadata": {},
     "output_type": "execute_result"
    }
   ],
   "source": [
    "confusion_matrix(y_test, pred_test)"
   ]
  },
  {
   "cell_type": "code",
   "execution_count": 26,
   "id": "300cc121-416c-48af-8c3d-c977d544916a",
   "metadata": {},
   "outputs": [
    {
     "name": "stdout",
     "output_type": "stream",
     "text": [
      "              precision    recall  f1-score   support\n",
      "\n",
      "           0       0.92      0.87      0.90       350\n",
      "           1       0.97      0.98      0.98      1566\n",
      "\n",
      "    accuracy                           0.96      1916\n",
      "   macro avg       0.95      0.93      0.94      1916\n",
      "weighted avg       0.96      0.96      0.96      1916\n",
      "\n"
     ]
    }
   ],
   "source": [
    "print(classification_report(y_test, pred_test))"
   ]
  },
  {
   "cell_type": "markdown",
   "id": "d10b5056-f633-4b03-a6b0-fc6f88f8b2fc",
   "metadata": {},
   "source": [
    "# ***KNeighborsClassifier***"
   ]
  },
  {
   "cell_type": "code",
   "execution_count": 30,
   "id": "6db36bda-622b-4740-b6a9-e9715e045088",
   "metadata": {},
   "outputs": [
    {
     "name": "stdout",
     "output_type": "stream",
     "text": [
      "Training Accuracy : 0.9250848342469329\n",
      "Testing Accuracy : 0.9117954070981211\n",
      "CV Score : 0.9006782891274469\n",
      "MAE : 0.08820459290187892\n"
     ]
    }
   ],
   "source": [
    "step1 = ColumnTransformer(transformers = [\n",
    "    (\"col_tnf\", OneHotEncoder(sparse = False, drop = \"first\"), [0]),\n",
    "    (\"scaler\", StandardScaler(), [1, 2, 3, 4, 5, 6, 7, 8, 9, 10])\n",
    "], remainder = \"passthrough\")\n",
    "\n",
    "model = KNeighborsClassifier(n_neighbors = 8)\n",
    "\n",
    "pipe = Pipeline([\n",
    "    (\"scaler\", step1),\n",
    "    (\"model\", model)\n",
    "])\n",
    "\n",
    "pipe.fit(X_train, y_train)\n",
    "pred_test = pipe.predict(X_test)\n",
    "print(\"Training Accuracy :\", pipe.score(X_train, y_train))\n",
    "print(\"Testing Accuracy :\", pipe.score(X_test, y_test))\n",
    "print(\"CV Score :\", cross_val_score(pipe, X_train, y_train, cv = 5).mean())\n",
    "print(\"MAE :\", mean_absolute_error(y_test, pred_test))"
   ]
  },
  {
   "cell_type": "code",
   "execution_count": 31,
   "id": "dddbcfdc-c6af-404c-b484-30d7649d2767",
   "metadata": {},
   "outputs": [
    {
     "data": {
      "text/plain": [
       "array([[ 214,  136],\n",
       "       [  33, 1533]], dtype=int64)"
      ]
     },
     "execution_count": 31,
     "metadata": {},
     "output_type": "execute_result"
    }
   ],
   "source": [
    "confusion_matrix(y_test, pred_test)"
   ]
  },
  {
   "cell_type": "code",
   "execution_count": 32,
   "id": "e596327f-ffe2-4808-bb45-3cdadc270a6b",
   "metadata": {},
   "outputs": [
    {
     "name": "stdout",
     "output_type": "stream",
     "text": [
      "              precision    recall  f1-score   support\n",
      "\n",
      "           0       0.87      0.61      0.72       350\n",
      "           1       0.92      0.98      0.95      1566\n",
      "\n",
      "    accuracy                           0.91      1916\n",
      "   macro avg       0.89      0.80      0.83      1916\n",
      "weighted avg       0.91      0.91      0.91      1916\n",
      "\n"
     ]
    }
   ],
   "source": [
    "print(classification_report(y_test, pred_test))"
   ]
  },
  {
   "cell_type": "markdown",
   "id": "eb483ea4-3cd1-4faf-b573-4669c65b5514",
   "metadata": {},
   "source": [
    "# ***DecisionTreeClassifier***"
   ]
  },
  {
   "cell_type": "code",
   "execution_count": 33,
   "id": "f1a31273-65e4-49ab-bed4-d2c8bde7563d",
   "metadata": {},
   "outputs": [
    {
     "name": "stdout",
     "output_type": "stream",
     "text": [
      "Training Accuracy : 1.0\n",
      "Testing Accuracy : 0.9916492693110647\n",
      "CV Score : 0.9899505057575805\n",
      "MAE : 0.008350730688935281\n"
     ]
    }
   ],
   "source": [
    "step1 = ColumnTransformer(transformers = [\n",
    "    (\"col_tnf\", OneHotEncoder(sparse = False, drop = \"first\"), [0]),\n",
    "    (\"scaler\", StandardScaler(), [1, 2, 3, 4, 5, 6, 7, 8, 9, 10])\n",
    "], remainder = \"passthrough\")\n",
    "\n",
    "model = DecisionTreeClassifier(max_depth = 29, criterion = \"entropy\", random_state = 1)\n",
    "\n",
    "pipe = Pipeline([\n",
    "    (\"scaler\", step1),\n",
    "    (\"model\", model)\n",
    "])\n",
    "\n",
    "pipe.fit(X_train, y_train)\n",
    "pred_test = pipe.predict(X_test)\n",
    "print(\"Training Accuracy :\", pipe.score(X_train, y_train))\n",
    "print(\"Testing Accuracy :\", pipe.score(X_test, y_test))\n",
    "print(\"CV Score :\", cross_val_score(pipe, X_train, y_train, cv = 5).mean())\n",
    "print(\"MAE :\", mean_absolute_error(y_test, pred_test))"
   ]
  },
  {
   "cell_type": "code",
   "execution_count": 34,
   "id": "5b577fb0-486e-4168-9f51-ab1ad4d8a9af",
   "metadata": {},
   "outputs": [
    {
     "data": {
      "text/plain": [
       "array([[ 339,   11],\n",
       "       [   5, 1561]], dtype=int64)"
      ]
     },
     "execution_count": 34,
     "metadata": {},
     "output_type": "execute_result"
    }
   ],
   "source": [
    "confusion_matrix(y_test, pred_test)"
   ]
  },
  {
   "cell_type": "code",
   "execution_count": 35,
   "id": "536973be-de05-4a28-82d8-54c605fd5ef9",
   "metadata": {},
   "outputs": [
    {
     "name": "stdout",
     "output_type": "stream",
     "text": [
      "              precision    recall  f1-score   support\n",
      "\n",
      "           0       0.99      0.97      0.98       350\n",
      "           1       0.99      1.00      0.99      1566\n",
      "\n",
      "    accuracy                           0.99      1916\n",
      "   macro avg       0.99      0.98      0.99      1916\n",
      "weighted avg       0.99      0.99      0.99      1916\n",
      "\n"
     ]
    }
   ],
   "source": [
    "print(classification_report(y_test, pred_test))"
   ]
  },
  {
   "cell_type": "markdown",
   "id": "f81d9633-2d75-4bfa-b4fe-d466ff5174a5",
   "metadata": {},
   "source": [
    "# ***RandomForestClassifier***"
   ]
  },
  {
   "cell_type": "code",
   "execution_count": 36,
   "id": "ec7f7b52-60cc-4c84-831d-1c2066a1581a",
   "metadata": {},
   "outputs": [
    {
     "name": "stdout",
     "output_type": "stream",
     "text": [
      "Training Accuracy : 1.0\n",
      "Testing Accuracy : 0.9869519832985386\n",
      "CV Score : 0.9881231701522127\n",
      "MAE : 0.013048016701461378\n"
     ]
    }
   ],
   "source": [
    "step1 = ColumnTransformer(transformers = [\n",
    "    (\"col_tnf\", OneHotEncoder(sparse = False, drop = \"first\"), [0]),\n",
    "    (\"scaler\", StandardScaler(), [1, 2, 3, 4, 5, 6, 7, 8, 9, 10])\n",
    "], remainder = \"passthrough\")\n",
    "\n",
    "model = RandomForestClassifier(n_estimators = 35, random_state = 0)\n",
    "\n",
    "pipe = Pipeline([\n",
    "    (\"scaler\", step1),\n",
    "    (\"model\", model)\n",
    "])\n",
    "\n",
    "pipe.fit(X_train, y_train)\n",
    "pred_test = pipe.predict(X_test)\n",
    "print(\"Training Accuracy :\", pipe.score(X_train, y_train))\n",
    "print(\"Testing Accuracy :\", pipe.score(X_test, y_test))\n",
    "print(\"CV Score :\", cross_val_score(pipe, X_train, y_train, cv = 5).mean())\n",
    "print(\"MAE :\", mean_absolute_error(y_test, pred_test))"
   ]
  },
  {
   "cell_type": "code",
   "execution_count": 37,
   "id": "82a448f5-f818-4781-93fb-e3d263c102c7",
   "metadata": {},
   "outputs": [
    {
     "data": {
      "text/plain": [
       "array([[ 330,   20],\n",
       "       [   5, 1561]], dtype=int64)"
      ]
     },
     "execution_count": 37,
     "metadata": {},
     "output_type": "execute_result"
    }
   ],
   "source": [
    "confusion_matrix(y_test, pred_test)"
   ]
  },
  {
   "cell_type": "code",
   "execution_count": 38,
   "id": "871ccb61-d7aa-4951-81df-36eafe087390",
   "metadata": {},
   "outputs": [
    {
     "name": "stdout",
     "output_type": "stream",
     "text": [
      "              precision    recall  f1-score   support\n",
      "\n",
      "           0       0.99      0.94      0.96       350\n",
      "           1       0.99      1.00      0.99      1566\n",
      "\n",
      "    accuracy                           0.99      1916\n",
      "   macro avg       0.99      0.97      0.98      1916\n",
      "weighted avg       0.99      0.99      0.99      1916\n",
      "\n"
     ]
    }
   ],
   "source": [
    "print(classification_report(y_test, pred_test))"
   ]
  },
  {
   "cell_type": "markdown",
   "id": "dac3ea84-1242-4bab-b523-dc203a2461d3",
   "metadata": {},
   "source": [
    "# ***AdaBoostClassifier***"
   ]
  },
  {
   "cell_type": "code",
   "execution_count": 39,
   "id": "3094b159-b20a-46a7-b9b7-2eefac6796f9",
   "metadata": {},
   "outputs": [
    {
     "name": "stdout",
     "output_type": "stream",
     "text": [
      "Training Accuracy : 0.9829026363873662\n",
      "Testing Accuracy : 0.9832985386221295\n",
      "CV Score : 0.9813363615770712\n",
      "MAE : 0.016701461377870562\n"
     ]
    }
   ],
   "source": [
    "step1 = ColumnTransformer(transformers = [\n",
    "    (\"col_tnf\", OneHotEncoder(sparse = False, drop = \"first\"), [0]),\n",
    "    (\"scaler\", StandardScaler(), [1, 2, 3, 4, 5, 6, 7, 8, 9, 10])\n",
    "], remainder = \"passthrough\")\n",
    "\n",
    "model = AdaBoostClassifier(n_estimators = 16, random_state = 0, learning_rate = 0.8)\n",
    "\n",
    "pipe = Pipeline([\n",
    "    (\"scaler\", step1),\n",
    "    (\"model\", model)\n",
    "])\n",
    "\n",
    "pipe.fit(X_train, y_train)\n",
    "pred_test = pipe.predict(X_test)\n",
    "print(\"Training Accuracy :\", pipe.score(X_train, y_train))\n",
    "print(\"Testing Accuracy :\", pipe.score(X_test, y_test))\n",
    "print(\"CV Score :\", cross_val_score(pipe, X_train, y_train, cv = 5).mean())\n",
    "print(\"MAE :\", mean_absolute_error(y_test, pred_test))"
   ]
  },
  {
   "cell_type": "code",
   "execution_count": 40,
   "id": "6bf286f2-0fc9-4f1e-8e28-9476b4e016c2",
   "metadata": {},
   "outputs": [
    {
     "data": {
      "text/plain": [
       "array([[ 324,   26],\n",
       "       [   6, 1560]], dtype=int64)"
      ]
     },
     "execution_count": 40,
     "metadata": {},
     "output_type": "execute_result"
    }
   ],
   "source": [
    "confusion_matrix(y_test, pred_test)"
   ]
  },
  {
   "cell_type": "code",
   "execution_count": 41,
   "id": "bd2e6168-c082-4a02-80f7-b3ca3b543ef2",
   "metadata": {},
   "outputs": [
    {
     "name": "stdout",
     "output_type": "stream",
     "text": [
      "              precision    recall  f1-score   support\n",
      "\n",
      "           0       0.98      0.93      0.95       350\n",
      "           1       0.98      1.00      0.99      1566\n",
      "\n",
      "    accuracy                           0.98      1916\n",
      "   macro avg       0.98      0.96      0.97      1916\n",
      "weighted avg       0.98      0.98      0.98      1916\n",
      "\n"
     ]
    }
   ],
   "source": [
    "print(classification_report(y_test, pred_test))"
   ]
  },
  {
   "cell_type": "markdown",
   "id": "fa883756-b06b-483e-a2ae-476fe51d815e",
   "metadata": {},
   "source": [
    "# ***GradientBoostingClassifier***"
   ]
  },
  {
   "cell_type": "code",
   "execution_count": 42,
   "id": "a5ffc753-579d-4cfd-8644-daadcdc599a4",
   "metadata": {},
   "outputs": [
    {
     "name": "stdout",
     "output_type": "stream",
     "text": [
      "Training Accuracy : 0.9945184025058731\n",
      "Testing Accuracy : 0.9921711899791231\n",
      "CV Score : 0.9912554778340393\n",
      "MAE : 0.007828810020876827\n"
     ]
    }
   ],
   "source": [
    "step1 = ColumnTransformer(transformers = [\n",
    "    (\"col_tnf\", OneHotEncoder(sparse = False, drop = \"first\"), [0]),\n",
    "    (\"scaler\", StandardScaler(), [1, 2, 3, 4, 5, 6, 7, 8, 9, 10])\n",
    "], remainder = \"passthrough\")\n",
    "\n",
    "model = GradientBoostingClassifier(n_estimators = 15, random_state = 0, learning_rate = 0.5)\n",
    "\n",
    "pipe = Pipeline([\n",
    "    (\"scaler\", step1),\n",
    "    (\"model\", model)\n",
    "])\n",
    "\n",
    "pipe.fit(X_train, y_train)\n",
    "pred_test = pipe.predict(X_test)\n",
    "print(\"Training Accuracy :\", pipe.score(X_train, y_train))\n",
    "print(\"Testing Accuracy :\", pipe.score(X_test, y_test))\n",
    "print(\"CV Score :\", cross_val_score(pipe, X_train, y_train, cv = 5).mean())\n",
    "print(\"MAE :\", mean_absolute_error(y_test, pred_test))"
   ]
  },
  {
   "cell_type": "code",
   "execution_count": 43,
   "id": "9a766cff-bb1e-4104-93b1-706fefda5949",
   "metadata": {},
   "outputs": [
    {
     "data": {
      "text/plain": [
       "array([[ 339,   11],\n",
       "       [   4, 1562]], dtype=int64)"
      ]
     },
     "execution_count": 43,
     "metadata": {},
     "output_type": "execute_result"
    }
   ],
   "source": [
    "confusion_matrix(y_test, pred_test)"
   ]
  },
  {
   "cell_type": "code",
   "execution_count": 44,
   "id": "512b2508-e467-41ca-8115-4977baccb441",
   "metadata": {},
   "outputs": [
    {
     "name": "stdout",
     "output_type": "stream",
     "text": [
      "              precision    recall  f1-score   support\n",
      "\n",
      "           0       0.99      0.97      0.98       350\n",
      "           1       0.99      1.00      1.00      1566\n",
      "\n",
      "    accuracy                           0.99      1916\n",
      "   macro avg       0.99      0.98      0.99      1916\n",
      "weighted avg       0.99      0.99      0.99      1916\n",
      "\n"
     ]
    }
   ],
   "source": [
    "print(classification_report(y_test, pred_test))"
   ]
  },
  {
   "cell_type": "markdown",
   "id": "d19a56c2-f8a3-46c9-a4ce-e3c3f18f2dea",
   "metadata": {},
   "source": [
    "# ***XGBClassifier***"
   ]
  },
  {
   "cell_type": "code",
   "execution_count": 45,
   "id": "c670bcd8-aad6-4c5a-9e8d-de1ad3f49cc8",
   "metadata": {},
   "outputs": [
    {
     "name": "stdout",
     "output_type": "stream",
     "text": [
      "Training Accuracy : 0.9992169146436961\n",
      "Testing Accuracy : 0.9911273486430062\n",
      "CV Score : 0.99125573331017\n",
      "MAE : 0.008872651356993737\n"
     ]
    }
   ],
   "source": [
    "step1 = ColumnTransformer(transformers = [\n",
    "    (\"col_tnf\", OneHotEncoder(sparse = False, drop = \"first\"), [0]),\n",
    "    (\"scaler\", StandardScaler(), [1, 2, 3, 4, 5, 6, 7, 8, 9, 10])\n",
    "], remainder = \"passthrough\")\n",
    "\n",
    "model = XGBClassifier(n_estimators = 34, random_state = 0, learning_rate = 0.3, gamma = 0.3)\n",
    "\n",
    "pipe = Pipeline([\n",
    "    (\"scaler\", step1),\n",
    "    (\"model\", model)\n",
    "])\n",
    "\n",
    "pipe.fit(X_train, y_train)\n",
    "pred_test = pipe.predict(X_test)\n",
    "print(\"Training Accuracy :\", pipe.score(X_train, y_train))\n",
    "print(\"Testing Accuracy :\", pipe.score(X_test, y_test))\n",
    "print(\"CV Score :\", cross_val_score(pipe, X_train, y_train, cv = 5).mean())\n",
    "print(\"MAE :\", mean_absolute_error(y_test, pred_test))"
   ]
  },
  {
   "cell_type": "code",
   "execution_count": 46,
   "id": "a645d411-1729-463e-9dfc-fe739a20a7e8",
   "metadata": {},
   "outputs": [
    {
     "data": {
      "text/plain": [
       "array([[ 336,   14],\n",
       "       [   3, 1563]], dtype=int64)"
      ]
     },
     "execution_count": 46,
     "metadata": {},
     "output_type": "execute_result"
    }
   ],
   "source": [
    "confusion_matrix(y_test, pred_test)"
   ]
  },
  {
   "cell_type": "code",
   "execution_count": 47,
   "id": "b3fa300c-ff67-4bbe-8414-a2d79871f69f",
   "metadata": {},
   "outputs": [
    {
     "name": "stdout",
     "output_type": "stream",
     "text": [
      "              precision    recall  f1-score   support\n",
      "\n",
      "           0       0.99      0.96      0.98       350\n",
      "           1       0.99      1.00      0.99      1566\n",
      "\n",
      "    accuracy                           0.99      1916\n",
      "   macro avg       0.99      0.98      0.98      1916\n",
      "weighted avg       0.99      0.99      0.99      1916\n",
      "\n"
     ]
    }
   ],
   "source": [
    "print(classification_report(y_test, pred_test))"
   ]
  },
  {
   "cell_type": "markdown",
   "id": "d8c29b1b-ec5a-4a70-8235-ecbad656b115",
   "metadata": {},
   "source": [
    "# ***FINAL MODEL***"
   ]
  },
  {
   "cell_type": "code",
   "execution_count": 69,
   "id": "784c2389-5826-4cb7-91c2-606e87d967c7",
   "metadata": {},
   "outputs": [
    {
     "name": "stdout",
     "output_type": "stream",
     "text": [
      "Training Accuracy : 1.0\n",
      "Testing Accuracy : 0.9916492693110647\n",
      "CV Score : 0.9899505057575805\n",
      "MAE : 0.008350730688935281\n"
     ]
    }
   ],
   "source": [
    "step1 = ColumnTransformer(transformers = [\n",
    "    (\"col_tnf\", OneHotEncoder(sparse = False, drop = \"first\"), [0]),\n",
    "    (\"scaler\", StandardScaler(), [1, 2, 3, 4, 5, 6, 7, 8, 9, 10])\n",
    "], remainder = \"passthrough\")\n",
    "\n",
    "model = DecisionTreeClassifier(max_depth = 29, criterion = \"entropy\", random_state = 1)\n",
    "\n",
    "dt_pipe = Pipeline([\n",
    "    (\"scaler\", step1),\n",
    "    (\"model\", model)\n",
    "])\n",
    "\n",
    "dt_pipe.fit(X_train, y_train)\n",
    "pred_test = dt_pipe.predict(X_test)\n",
    "print(\"Training Accuracy :\", dt_pipe.score(X_train, y_train))\n",
    "print(\"Testing Accuracy :\", dt_pipe.score(X_test, y_test))\n",
    "print(\"CV Score :\", cross_val_score(dt_pipe, X_train, y_train, cv = 5).mean())\n",
    "print(\"MAE :\", mean_absolute_error(y_test, pred_test))"
   ]
  },
  {
   "cell_type": "code",
   "execution_count": 147,
   "id": "6716635b-d095-45e4-9c0c-4b9bd95afa61",
   "metadata": {},
   "outputs": [
    {
     "data": {
      "text/plain": [
       "array([0], dtype=int64)"
      ]
     },
     "execution_count": 147,
     "metadata": {},
     "output_type": "execute_result"
    }
   ],
   "source": [
    "final = pd.DataFrame({\n",
    "    \"Purpose\": \"credit_card\",\n",
    "    \"Interest Rate\": 11.32,\n",
    "    \"Installment\": 5600,\n",
    "    \"Annual Income\": 890000,\n",
    "    \"DTI\": 567,\n",
    "    \"Fico\": 500,\n",
    "    \"Days_CR_Line\": 110,\n",
    "    \"Revolve Balance\": 8000,\n",
    "    \"Revolve Util\": 67,\n",
    "    \"Inq_6months\": 5,\n",
    "    \"Delinq_2years\": 4,\n",
    "    \"Public Records\": 8,\n",
    "    \"Not Fully Paid\": 1,\n",
    "}, index = [0])\n",
    "\n",
    "final[\"Interest Rate\"] = final[\"Interest Rate\"]/100\n",
    "final[\"Inq_6months\"] = final[\"Inq_6months\"].clip(upper = 5)\n",
    "final[\"Delinq_2years\"] = final[\"Delinq_2years\"].clip(upper = 3)\n",
    "final[\"Public Records\"] = final[\"Public Records\"].clip(upper = 1)\n",
    "loaded.predict(final)"
   ]
  },
  {
   "cell_type": "code",
   "execution_count": null,
   "id": "7e55eeb1-afdb-455c-88c6-3ca8f84ff8de",
   "metadata": {},
   "outputs": [],
   "source": []
  },
  {
   "cell_type": "code",
   "execution_count": null,
   "id": "7e9d41e2-b454-40c3-815b-55bac81ee6ed",
   "metadata": {},
   "outputs": [],
   "source": []
  },
  {
   "cell_type": "code",
   "execution_count": null,
   "id": "90dbbead-49fc-4188-9b78-b99c4141696c",
   "metadata": {},
   "outputs": [],
   "source": []
  },
  {
   "cell_type": "code",
   "execution_count": null,
   "id": "1e022098-4d11-4747-bf68-0db9bf6714f3",
   "metadata": {},
   "outputs": [],
   "source": []
  },
  {
   "cell_type": "code",
   "execution_count": null,
   "id": "06195055-f063-4977-a9c4-498c696400e5",
   "metadata": {},
   "outputs": [],
   "source": []
  },
  {
   "cell_type": "code",
   "execution_count": null,
   "id": "00dd93fb-8875-495e-aab1-8315fa88ff63",
   "metadata": {},
   "outputs": [],
   "source": []
  },
  {
   "cell_type": "code",
   "execution_count": null,
   "id": "7e1f6845-6817-4d58-a367-b7c21b0a77b4",
   "metadata": {},
   "outputs": [],
   "source": []
  },
  {
   "cell_type": "code",
   "execution_count": null,
   "id": "6dc1aafb-c925-4837-99fc-74870c40efff",
   "metadata": {},
   "outputs": [],
   "source": []
  },
  {
   "cell_type": "code",
   "execution_count": null,
   "id": "cea79286-771b-4999-be48-9ad57abe0b9c",
   "metadata": {},
   "outputs": [],
   "source": []
  },
  {
   "cell_type": "code",
   "execution_count": null,
   "id": "a554015b-b53d-4484-86e5-0b9335bd43cb",
   "metadata": {},
   "outputs": [],
   "source": []
  },
  {
   "cell_type": "code",
   "execution_count": null,
   "id": "919b8520-d1b2-42e4-b4c2-ee2d1bcf7416",
   "metadata": {},
   "outputs": [],
   "source": []
  },
  {
   "cell_type": "code",
   "execution_count": null,
   "id": "69072a67-765d-4176-ac48-5ae4dddadb62",
   "metadata": {},
   "outputs": [],
   "source": []
  },
  {
   "cell_type": "code",
   "execution_count": null,
   "id": "7aee1a21-0787-4b53-a1b3-138c3422eda9",
   "metadata": {},
   "outputs": [],
   "source": []
  },
  {
   "cell_type": "code",
   "execution_count": 104,
   "id": "02ec4378-f853-4017-9b4a-1c1d9225c542",
   "metadata": {},
   "outputs": [
    {
     "data": {
      "text/plain": [
       "array([1], dtype=int64)"
      ]
     },
     "execution_count": 104,
     "metadata": {},
     "output_type": "execute_result"
    }
   ],
   "source": [
    "loaded.predict(final)"
   ]
  },
  {
   "cell_type": "code",
   "execution_count": 50,
   "id": "99c6f93a-b38f-4799-8d12-316c15ea2a12",
   "metadata": {},
   "outputs": [],
   "source": [
    "import pickle\n",
    "with open(\"loan_dt_model.pkl\", \"wb\") as file:\n",
    "    pickle.dump(pipe, file)"
   ]
  },
  {
   "cell_type": "code",
   "execution_count": 55,
   "id": "a2e06ea0-91b4-4c13-88a5-1e89c40dce14",
   "metadata": {},
   "outputs": [],
   "source": [
    "with open(\"loan_dt_model.pkl\", \"rb\") as file:\n",
    "    loaded = pickle.load(file)"
   ]
  },
  {
   "cell_type": "code",
   "execution_count": null,
   "id": "40e53e7a-b3f4-42be-a3a6-8d2ca07724ad",
   "metadata": {},
   "outputs": [],
   "source": []
  }
 ],
 "metadata": {
  "kernelspec": {
   "display_name": "Python 3 (ipykernel)",
   "language": "python",
   "name": "python3"
  },
  "language_info": {
   "codemirror_mode": {
    "name": "ipython",
    "version": 3
   },
   "file_extension": ".py",
   "mimetype": "text/x-python",
   "name": "python",
   "nbconvert_exporter": "python",
   "pygments_lexer": "ipython3",
   "version": "3.11.5"
  }
 },
 "nbformat": 4,
 "nbformat_minor": 5
}
