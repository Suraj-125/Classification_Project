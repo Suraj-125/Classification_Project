{
 "cells": [
  {
   "cell_type": "code",
   "execution_count": 1,
   "id": "338bd5b9-b3ef-4d61-ad55-8aaccf6dbdb9",
   "metadata": {},
   "outputs": [],
   "source": [
    "import numpy as np\n",
    "import pandas as pd\n",
    "\n",
    "import warnings\n",
    "warnings.simplefilter(\"ignore\")"
   ]
  },
  {
   "cell_type": "code",
   "execution_count": 2,
   "id": "27d904ca-52a1-47c6-a412-18ac3edc80c9",
   "metadata": {},
   "outputs": [
    {
     "data": {
      "text/html": [
       "<div>\n",
       "<style scoped>\n",
       "    .dataframe tbody tr th:only-of-type {\n",
       "        vertical-align: middle;\n",
       "    }\n",
       "\n",
       "    .dataframe tbody tr th {\n",
       "        vertical-align: top;\n",
       "    }\n",
       "\n",
       "    .dataframe thead th {\n",
       "        text-align: right;\n",
       "    }\n",
       "</style>\n",
       "<table border=\"1\" class=\"dataframe\">\n",
       "  <thead>\n",
       "    <tr style=\"text-align: right;\">\n",
       "      <th></th>\n",
       "      <th>Credit Policy</th>\n",
       "      <th>Purpose</th>\n",
       "      <th>Interest Rate</th>\n",
       "      <th>Installment</th>\n",
       "      <th>Annual Income</th>\n",
       "      <th>DTI</th>\n",
       "      <th>Fico</th>\n",
       "      <th>Days_CR_Line</th>\n",
       "      <th>Revolve Balance</th>\n",
       "      <th>Revolve Util</th>\n",
       "      <th>Inq_6months</th>\n",
       "      <th>Delinq_2years</th>\n",
       "      <th>Public Records</th>\n",
       "      <th>Not Fully Paid</th>\n",
       "    </tr>\n",
       "  </thead>\n",
       "  <tbody>\n",
       "    <tr>\n",
       "      <th>0</th>\n",
       "      <td>1</td>\n",
       "      <td>debt_consolidation</td>\n",
       "      <td>0.1189</td>\n",
       "      <td>829.10</td>\n",
       "      <td>11.350407</td>\n",
       "      <td>19.48</td>\n",
       "      <td>737</td>\n",
       "      <td>75.099656</td>\n",
       "      <td>13.033213</td>\n",
       "      <td>52.1</td>\n",
       "      <td>0.0</td>\n",
       "      <td>0</td>\n",
       "      <td>0</td>\n",
       "      <td>0</td>\n",
       "    </tr>\n",
       "    <tr>\n",
       "      <th>1</th>\n",
       "      <td>1</td>\n",
       "      <td>credit_card</td>\n",
       "      <td>0.1071</td>\n",
       "      <td>228.22</td>\n",
       "      <td>11.082143</td>\n",
       "      <td>14.29</td>\n",
       "      <td>707</td>\n",
       "      <td>52.535702</td>\n",
       "      <td>13.541261</td>\n",
       "      <td>76.7</td>\n",
       "      <td>0.0</td>\n",
       "      <td>0</td>\n",
       "      <td>0</td>\n",
       "      <td>0</td>\n",
       "    </tr>\n",
       "    <tr>\n",
       "      <th>2</th>\n",
       "      <td>1</td>\n",
       "      <td>debt_consolidation</td>\n",
       "      <td>0.1357</td>\n",
       "      <td>366.86</td>\n",
       "      <td>10.373491</td>\n",
       "      <td>11.63</td>\n",
       "      <td>682</td>\n",
       "      <td>68.629440</td>\n",
       "      <td>7.697642</td>\n",
       "      <td>25.6</td>\n",
       "      <td>1.0</td>\n",
       "      <td>0</td>\n",
       "      <td>0</td>\n",
       "      <td>0</td>\n",
       "    </tr>\n",
       "    <tr>\n",
       "      <th>3</th>\n",
       "      <td>1</td>\n",
       "      <td>debt_consolidation</td>\n",
       "      <td>0.1008</td>\n",
       "      <td>162.34</td>\n",
       "      <td>11.350407</td>\n",
       "      <td>8.10</td>\n",
       "      <td>712</td>\n",
       "      <td>51.961123</td>\n",
       "      <td>13.545689</td>\n",
       "      <td>73.2</td>\n",
       "      <td>1.0</td>\n",
       "      <td>0</td>\n",
       "      <td>0</td>\n",
       "      <td>0</td>\n",
       "    </tr>\n",
       "    <tr>\n",
       "      <th>4</th>\n",
       "      <td>1</td>\n",
       "      <td>credit_card</td>\n",
       "      <td>0.1426</td>\n",
       "      <td>102.92</td>\n",
       "      <td>11.299732</td>\n",
       "      <td>14.97</td>\n",
       "      <td>667</td>\n",
       "      <td>63.765194</td>\n",
       "      <td>8.297449</td>\n",
       "      <td>39.5</td>\n",
       "      <td>0.0</td>\n",
       "      <td>1</td>\n",
       "      <td>0</td>\n",
       "      <td>0</td>\n",
       "    </tr>\n",
       "  </tbody>\n",
       "</table>\n",
       "</div>"
      ],
      "text/plain": [
       "   Credit Policy             Purpose  Interest Rate  Installment  \\\n",
       "0              1  debt_consolidation         0.1189       829.10   \n",
       "1              1         credit_card         0.1071       228.22   \n",
       "2              1  debt_consolidation         0.1357       366.86   \n",
       "3              1  debt_consolidation         0.1008       162.34   \n",
       "4              1         credit_card         0.1426       102.92   \n",
       "\n",
       "   Annual Income    DTI  Fico  Days_CR_Line  Revolve Balance  Revolve Util  \\\n",
       "0      11.350407  19.48   737     75.099656        13.033213          52.1   \n",
       "1      11.082143  14.29   707     52.535702        13.541261          76.7   \n",
       "2      10.373491  11.63   682     68.629440         7.697642          25.6   \n",
       "3      11.350407   8.10   712     51.961123        13.545689          73.2   \n",
       "4      11.299732  14.97   667     63.765194         8.297449          39.5   \n",
       "\n",
       "   Inq_6months  Delinq_2years  Public Records  Not Fully Paid  \n",
       "0          0.0              0               0               0  \n",
       "1          0.0              0               0               0  \n",
       "2          1.0              0               0               0  \n",
       "3          1.0              0               0               0  \n",
       "4          0.0              1               0               0  "
      ]
     },
     "execution_count": 2,
     "metadata": {},
     "output_type": "execute_result"
    }
   ],
   "source": [
    "df = pd.read_csv(\"Loan_Analyzed.csv\")\n",
    "df.head()"
   ]
  },
  {
   "cell_type": "code",
   "execution_count": 3,
   "id": "dcdfa227-b06f-4c52-8658-258b98a640f4",
   "metadata": {},
   "outputs": [],
   "source": [
    "X = df.drop(\"Credit Policy\", axis = 1)\n",
    "y = df[\"Credit Policy\"]"
   ]
  },
  {
   "cell_type": "markdown",
   "id": "8d2020b8-69b8-4cce-a407-9034f9e9ad52",
   "metadata": {},
   "source": [
    "# Train Test Split"
   ]
  },
  {
   "cell_type": "code",
   "execution_count": 4,
   "id": "57d8d935-1f07-4d6c-b733-bebafb9037c9",
   "metadata": {},
   "outputs": [],
   "source": [
    "from sklearn.model_selection import train_test_split, GridSearchCV, cross_val_score\n",
    "from sklearn.preprocessing import StandardScaler, OneHotEncoder\n",
    "from sklearn.compose import ColumnTransformer\n",
    "from sklearn.pipeline import Pipeline\n",
    "from sklearn.linear_model import LogisticRegression\n",
    "from sklearn.svm import SVC\n",
    "from sklearn.neighbors import KNeighborsClassifier\n",
    "from sklearn.tree import DecisionTreeClassifier\n",
    "from sklearn.ensemble import RandomForestClassifier, AdaBoostClassifier, GradientBoostingClassifier\n",
    "from xgboost import XGBClassifier\n",
    "from sklearn.metrics import accuracy_score, confusion_matrix, classification_report, mean_absolute_error"
   ]
  },
  {
   "cell_type": "markdown",
   "id": "5f3aa40b-1bf9-48dd-9d8f-277e8ccefb15",
   "metadata": {},
   "source": [
    "***Finding Best Random State***"
   ]
  },
  {
   "cell_type": "code",
   "execution_count": 9,
   "id": "8025c408-ca7c-4ae7-9701-9f5f4b488585",
   "metadata": {},
   "outputs": [],
   "source": [
    "train = []\n",
    "test = []\n",
    "train_acc = []\n",
    "test_acc = []\n",
    "cv = []\n",
    "mae = []\n",
    "\n",
    "for i in range(100):\n",
    "    X_train, X_test, y_train, y_test = train_test_split(X, y, test_size = 0.2, random_state = i)\n",
    "\n",
    "    step = ColumnTransformer(transformers = [\n",
    "        (\"col_tnf\", OneHotEncoder(sparse = False, drop = \"first\"), [0]),\n",
    "        (\"scaler\", StandardScaler(), [1, 2, 3, 4, 5, 6, 7, 8, 9, 10])\n",
    "    ], remainder = \"passthrough\")\n",
    "\n",
    "    pipe = Pipeline([\n",
    "        (\"step\", step),\n",
    "        (\"model\", LogisticRegression())\n",
    "    ])\n",
    "\n",
    "    pipe.fit(X_train, y_train)\n",
    "    pred_train = pipe.predict(X_train)\n",
    "    pred_test = pipe.predict(X_test)\n",
    "\n",
    "    train_accuracy = pipe.score(X_train, y_train)\n",
    "    test_accuracy = pipe.score(X_test, y_test)\n",
    "\n",
    "    train_score = accuracy_score(y_train, pred_train)\n",
    "    test_score = accuracy_score(y_test, pred_test)\n",
    "\n",
    "    mae_score = mean_absolute_error(y_test, pred_test)\n",
    "    cv_score = cross_val_score(pipe, X_train, y_train, cv = 5).mean()\n",
    "\n",
    "    train.append(train_accuracy)\n",
    "    test.append(test_accuracy)\n",
    "    train_acc.append(train_score)\n",
    "    test_acc.append(test_score)\n",
    "    cv.append(cv_score)\n",
    "    mae.append(mae_score)\n",
    "\n",
    "ff = pd.DataFrame({\n",
    "    \"Train Model\": train,\n",
    "    \"Test Model\": test,\n",
    "    \"Train acc\": train_acc,\n",
    "    \"Test acc\": test_acc,\n",
    "    \"CV\": cv,\n",
    "    \"MAE\": mae\n",
    "})"
   ]
  },
  {
   "cell_type": "code",
   "execution_count": 10,
   "id": "dc573d60-2d9a-4ea1-8db2-dd791812e576",
   "metadata": {},
   "outputs": [
    {
     "data": {
      "text/html": [
       "<div>\n",
       "<style scoped>\n",
       "    .dataframe tbody tr th:only-of-type {\n",
       "        vertical-align: middle;\n",
       "    }\n",
       "\n",
       "    .dataframe tbody tr th {\n",
       "        vertical-align: top;\n",
       "    }\n",
       "\n",
       "    .dataframe thead th {\n",
       "        text-align: right;\n",
       "    }\n",
       "</style>\n",
       "<table border=\"1\" class=\"dataframe\">\n",
       "  <thead>\n",
       "    <tr style=\"text-align: right;\">\n",
       "      <th></th>\n",
       "      <th>Train Model</th>\n",
       "      <th>Test Model</th>\n",
       "      <th>Train acc</th>\n",
       "      <th>Test acc</th>\n",
       "      <th>CV</th>\n",
       "      <th>MAE</th>\n",
       "    </tr>\n",
       "  </thead>\n",
       "  <tbody>\n",
       "    <tr>\n",
       "      <th>82</th>\n",
       "      <td>0.876142</td>\n",
       "      <td>0.895094</td>\n",
       "      <td>0.876142</td>\n",
       "      <td>0.895094</td>\n",
       "      <td>0.874968</td>\n",
       "      <td>0.104906</td>\n",
       "    </tr>\n",
       "    <tr>\n",
       "      <th>70</th>\n",
       "      <td>0.873140</td>\n",
       "      <td>0.894572</td>\n",
       "      <td>0.873140</td>\n",
       "      <td>0.894572</td>\n",
       "      <td>0.871575</td>\n",
       "      <td>0.105428</td>\n",
       "    </tr>\n",
       "    <tr>\n",
       "      <th>65</th>\n",
       "      <td>0.877839</td>\n",
       "      <td>0.892484</td>\n",
       "      <td>0.877839</td>\n",
       "      <td>0.892484</td>\n",
       "      <td>0.878232</td>\n",
       "      <td>0.107516</td>\n",
       "    </tr>\n",
       "    <tr>\n",
       "      <th>51</th>\n",
       "      <td>0.876273</td>\n",
       "      <td>0.890919</td>\n",
       "      <td>0.876273</td>\n",
       "      <td>0.890919</td>\n",
       "      <td>0.874706</td>\n",
       "      <td>0.109081</td>\n",
       "    </tr>\n",
       "    <tr>\n",
       "      <th>55</th>\n",
       "      <td>0.877447</td>\n",
       "      <td>0.890397</td>\n",
       "      <td>0.877447</td>\n",
       "      <td>0.890397</td>\n",
       "      <td>0.875098</td>\n",
       "      <td>0.109603</td>\n",
       "    </tr>\n",
       "    <tr>\n",
       "      <th>...</th>\n",
       "      <td>...</td>\n",
       "      <td>...</td>\n",
       "      <td>...</td>\n",
       "      <td>...</td>\n",
       "      <td>...</td>\n",
       "      <td>...</td>\n",
       "    </tr>\n",
       "    <tr>\n",
       "      <th>99</th>\n",
       "      <td>0.882798</td>\n",
       "      <td>0.867432</td>\n",
       "      <td>0.882798</td>\n",
       "      <td>0.867432</td>\n",
       "      <td>0.881494</td>\n",
       "      <td>0.132568</td>\n",
       "    </tr>\n",
       "    <tr>\n",
       "      <th>98</th>\n",
       "      <td>0.883190</td>\n",
       "      <td>0.866910</td>\n",
       "      <td>0.883190</td>\n",
       "      <td>0.866910</td>\n",
       "      <td>0.881232</td>\n",
       "      <td>0.133090</td>\n",
       "    </tr>\n",
       "    <tr>\n",
       "      <th>2</th>\n",
       "      <td>0.883712</td>\n",
       "      <td>0.866388</td>\n",
       "      <td>0.883712</td>\n",
       "      <td>0.866388</td>\n",
       "      <td>0.881493</td>\n",
       "      <td>0.133612</td>\n",
       "    </tr>\n",
       "    <tr>\n",
       "      <th>54</th>\n",
       "      <td>0.886975</td>\n",
       "      <td>0.864301</td>\n",
       "      <td>0.886975</td>\n",
       "      <td>0.864301</td>\n",
       "      <td>0.884885</td>\n",
       "      <td>0.135699</td>\n",
       "    </tr>\n",
       "    <tr>\n",
       "      <th>88</th>\n",
       "      <td>0.884364</td>\n",
       "      <td>0.861691</td>\n",
       "      <td>0.884364</td>\n",
       "      <td>0.861691</td>\n",
       "      <td>0.882145</td>\n",
       "      <td>0.138309</td>\n",
       "    </tr>\n",
       "  </tbody>\n",
       "</table>\n",
       "<p>100 rows × 6 columns</p>\n",
       "</div>"
      ],
      "text/plain": [
       "    Train Model  Test Model  Train acc  Test acc        CV       MAE\n",
       "82     0.876142    0.895094   0.876142  0.895094  0.874968  0.104906\n",
       "70     0.873140    0.894572   0.873140  0.894572  0.871575  0.105428\n",
       "65     0.877839    0.892484   0.877839  0.892484  0.878232  0.107516\n",
       "51     0.876273    0.890919   0.876273  0.890919  0.874706  0.109081\n",
       "55     0.877447    0.890397   0.877447  0.890397  0.875098  0.109603\n",
       "..          ...         ...        ...       ...       ...       ...\n",
       "99     0.882798    0.867432   0.882798  0.867432  0.881494  0.132568\n",
       "98     0.883190    0.866910   0.883190  0.866910  0.881232  0.133090\n",
       "2      0.883712    0.866388   0.883712  0.866388  0.881493  0.133612\n",
       "54     0.886975    0.864301   0.886975  0.864301  0.884885  0.135699\n",
       "88     0.884364    0.861691   0.884364  0.861691  0.882145  0.138309\n",
       "\n",
       "[100 rows x 6 columns]"
      ]
     },
     "execution_count": 10,
     "metadata": {},
     "output_type": "execute_result"
    }
   ],
   "source": [
    "ff.sort_values(by = \"MAE\", ascending = True)"
   ]
  },
  {
   "cell_type": "code",
   "execution_count": 10,
   "id": "03c0959a-f976-46f2-a609-7f14a72da67b",
   "metadata": {},
   "outputs": [],
   "source": [
    "X_train, X_test, y_train, y_test = train_test_split(X, y, test_size = 0.2, random_state = 82)"
   ]
  },
  {
   "cell_type": "markdown",
   "id": "8d595edf-fbce-48f5-b0c9-93c8dc080463",
   "metadata": {},
   "source": [
    "# ***GridSearchCV - SVC***"
   ]
  },
  {
   "cell_type": "code",
   "execution_count": 13,
   "id": "edd6068a-da10-4945-9a74-a320d096ebb4",
   "metadata": {},
   "outputs": [
    {
     "data": {
      "text/plain": [
       "{'C': 10, 'kernel': 'rbf'}"
      ]
     },
     "execution_count": 13,
     "metadata": {},
     "output_type": "execute_result"
    }
   ],
   "source": [
    "step = ColumnTransformer(transformers = [\n",
    "    (\"col_tnf\", OneHotEncoder(sparse = False, drop = \"first\"), [0]),\n",
    "    (\"scaler\", StandardScaler(), [1, 2, 3, 4, 5, 6, 7, 8, 9, 10])\n",
    "], remainder = \"passthrough\")\n",
    "\n",
    "pipe = Pipeline([\n",
    "    (\"step\", step),\n",
    "    (\"model\", SVC())\n",
    "])\n",
    "\n",
    "svc_param_grid = {\"model__C\": [0.001, 0.1, 0, 10, 100], \"model__kernel\": [\"linear\", \"poly\", \"sigmoid\", \"rbf\"]}\n",
    "\n",
    "svc_grid = GridSearchCV(pipe, svc_param_grid, cv = 5, scoring = \"accuracy\")\n",
    "\n",
    "svc_grid.fit(X_train, y_train)\n",
    "\n",
    "svc_grid.best_params_"
   ]
  },
  {
   "cell_type": "markdown",
   "id": "e2add75a-2f90-403b-a907-6f86ba660594",
   "metadata": {},
   "source": [
    "# ***KNeighborsClassifier***"
   ]
  },
  {
   "cell_type": "code",
   "execution_count": 11,
   "id": "aa6be942-8f23-428a-8f88-7dbbeb19d069",
   "metadata": {},
   "outputs": [
    {
     "data": {
      "text/plain": [
       "{'model__n_neighbors': 8}"
      ]
     },
     "execution_count": 11,
     "metadata": {},
     "output_type": "execute_result"
    }
   ],
   "source": [
    "step = ColumnTransformer(transformers = [\n",
    "    (\"col_tnf\", OneHotEncoder(sparse = False, drop = \"first\"), [0]),\n",
    "    (\"scaler\", StandardScaler(), [1, 2, 3, 4, 5, 6, 7, 8, 9, 10])\n",
    "], remainder = \"passthrough\")\n",
    "\n",
    "pipe = Pipeline([\n",
    "    (\"step\", step),\n",
    "    (\"model\", KNeighborsClassifier())\n",
    "])\n",
    "\n",
    "knn_param_grid = {\"model__n_neighbors\": list(range(1, 20))}\n",
    "\n",
    "knn_grid = GridSearchCV(pipe, knn_param_grid, cv = 5, scoring = \"accuracy\")\n",
    "\n",
    "knn_grid.fit(X_train, y_train)\n",
    "\n",
    "knn_grid.best_params_"
   ]
  },
  {
   "cell_type": "markdown",
   "id": "1d265340-6ad2-4ec6-9db3-4f4c5ffe5db2",
   "metadata": {},
   "source": [
    "# ***DecisionTreeClassifier***"
   ]
  },
  {
   "cell_type": "code",
   "execution_count": 19,
   "id": "f11ebb7b-9bbb-4c98-9fd3-f856136aefc6",
   "metadata": {},
   "outputs": [
    {
     "data": {
      "text/plain": [
       "{'criterion': 'entropy', 'max_depth': 29}"
      ]
     },
     "execution_count": 19,
     "metadata": {},
     "output_type": "execute_result"
    }
   ],
   "source": [
    "step = ColumnTransformer(transformers = [\n",
    "    (\"col_tnf\", OneHotEncoder(sparse = False, drop = \"first\"), [0]),\n",
    "    (\"scaler\", StandardScaler(), [1, 2, 3, 4, 5, 6, 7, 8, 9, 10])\n",
    "], remainder = \"passthrough\")\n",
    "\n",
    "pipe = Pipeline([\n",
    "    (\"step\", step),\n",
    "    (\"model\", DecisionTreeClassifier())\n",
    "])\n",
    "\n",
    "decision_param_grid = {\"model__max_depth\": list(range(19, 40)), \"model__criterion\": [\"gini\", \"entropy\"]}\n",
    "\n",
    "decision_grid = GridSearchCV(pipe, decision_param_grid, cv = 5, scoring = \"accuracy\")\n",
    "\n",
    "decision_grid.fit(X_train, y_train)\n",
    "\n",
    "decision_grid.best_params_"
   ]
  },
  {
   "cell_type": "markdown",
   "id": "6b11df2d-16e1-4c98-9d6e-112e3c416bd0",
   "metadata": {},
   "source": [
    "# ***RandomForestClassifier***"
   ]
  },
  {
   "cell_type": "code",
   "execution_count": 22,
   "id": "6bd99edd-bbca-4154-a8cc-2039d6fade1a",
   "metadata": {},
   "outputs": [
    {
     "data": {
      "text/plain": [
       "{'n_estimators': 35}"
      ]
     },
     "execution_count": 22,
     "metadata": {},
     "output_type": "execute_result"
    }
   ],
   "source": [
    "step = ColumnTransformer(transformers = [\n",
    "    (\"col_tnf\", OneHotEncoder(sparse = False, drop = \"first\"), [0]),\n",
    "    (\"scaler\", StandardScaler(), [1, 2, 3, 4, 5, 6, 7, 8, 9, 10])\n",
    "], remainder = \"passthrough\")\n",
    "\n",
    "pipe = Pipeline([\n",
    "    (\"step\", step),\n",
    "    (\"model\", RandomForestClassifier())\n",
    "])\n",
    "\n",
    "random_param_grid = {\"model__n_estimators\": list(range(19, 40))}\n",
    "\n",
    "random_grid = GridSearchCV(pipe, random_param_grid, cv = 5, scoring = \"accuracy\")\n",
    "\n",
    "random_grid.fit(X_train, y_train)\n",
    "\n",
    "random_grid.best_params_"
   ]
  },
  {
   "cell_type": "markdown",
   "id": "d3112746-361f-4f85-9d73-8c788d1e4975",
   "metadata": {},
   "source": [
    "# ***AdaBoostClassifier***"
   ]
  },
  {
   "cell_type": "code",
   "execution_count": 23,
   "id": "97ff5093-3de0-4132-b108-39eff55adb2b",
   "metadata": {},
   "outputs": [
    {
     "data": {
      "text/plain": [
       "{'n_estimators': 16}"
      ]
     },
     "execution_count": 23,
     "metadata": {},
     "output_type": "execute_result"
    }
   ],
   "source": [
    "step = ColumnTransformer(transformers = [\n",
    "    (\"col_tnf\", OneHotEncoder(sparse = False, drop = \"first\"), [0]),\n",
    "    (\"scaler\", StandardScaler(), [1, 2, 3, 4, 5, 6, 7, 8, 9, 10])\n",
    "], remainder = \"passthrough\")\n",
    "\n",
    "pipe = Pipeline([\n",
    "    (\"step\", step),\n",
    "    (\"model\", AdaBoostClassifier())\n",
    "])\n",
    "\n",
    "ada_param_grid = {\"model__n_estimators\": list(range(1, 20))}\n",
    "\n",
    "ada_grid = GridSearchCV(pipe, ada_param_grid, cv = 5, scoring = \"accuracy\")\n",
    "\n",
    "ada_grid.fit(X_train, y_train)\n",
    "\n",
    "ada_grid.best_params_"
   ]
  },
  {
   "cell_type": "markdown",
   "id": "2faa80df-d3de-45ce-a612-029bde2b3293",
   "metadata": {},
   "source": [
    "# ***GradientBoostingClassifier***"
   ]
  },
  {
   "cell_type": "code",
   "execution_count": 26,
   "id": "531bc089-9c1c-4bab-9375-299c21021c1b",
   "metadata": {},
   "outputs": [
    {
     "data": {
      "text/plain": [
       "{'learning_rate': 0.5, 'n_estimators': 15}"
      ]
     },
     "execution_count": 26,
     "metadata": {},
     "output_type": "execute_result"
    }
   ],
   "source": [
    "step = ColumnTransformer(transformers = [\n",
    "    (\"col_tnf\", OneHotEncoder(sparse = False, drop = \"first\"), [0]),\n",
    "    (\"scaler\", StandardScaler(), [1, 2, 3, 4, 5, 6, 7, 8, 9, 10])\n",
    "], remainder = \"passthrough\")\n",
    "\n",
    "pipe = Pipeline([\n",
    "    (\"step\", step),\n",
    "    (\"model\", GradientBoostingClassifier())\n",
    "])\n",
    "\n",
    "gradient_param_grid = {\"model__n_estimators\": list(range(9, 20)), \"model__learning_rate\" : [0, 0.1, 0.2, 0.3, 0.4, 0.5, 0.6, 0.7, 0.8, 0.9, 1]}\n",
    "\n",
    "gradient_grid = GridSearchCV(pipe, gradient_param_grid, cv = 5, scoring = \"accuracy\")\n",
    "\n",
    "gradient_grid.fit(X_train, y_train)\n",
    "\n",
    "gradient_grid.best_params_"
   ]
  },
  {
   "cell_type": "markdown",
   "id": "cdd3e4a7-2fb8-48d0-8d7d-458271203b31",
   "metadata": {},
   "source": [
    "# ***XGBClassifier***"
   ]
  },
  {
   "cell_type": "code",
   "execution_count": 28,
   "id": "dfc4d487-ff41-42af-a250-5de11ebebf1f",
   "metadata": {},
   "outputs": [
    {
     "data": {
      "text/plain": [
       "{'gamma': 0.3, 'learning_rate': 0.3, 'n_estimators': 34}"
      ]
     },
     "execution_count": 28,
     "metadata": {},
     "output_type": "execute_result"
    }
   ],
   "source": [
    "step = ColumnTransformer(transformers = [\n",
    "    (\"col_tnf\", OneHotEncoder(sparse = False, drop = \"first\"), [0]),\n",
    "    (\"scaler\", StandardScaler(), [1, 2, 3, 4, 5, 6, 7, 8, 9, 10])\n",
    "], remainder = \"passthrough\")\n",
    "\n",
    "pipe = Pipeline([\n",
    "    (\"step\", step),\n",
    "    (\"model\", XGBClassifier())\n",
    "])\n",
    "\n",
    "xgb_param_grid = {\"model__n_estimators\": list(range(19, 40)), \"model__learning_rate\" : [0, 0.1, 0.2, 0.3, 0.4, 0.5],\n",
    "                 \"model__gamma\": [0, 0.1, 0.2, 0.3, 0.4, 0.5]}\n",
    "\n",
    "xgb_grid = GridSearchCV(pipe, xgb_param_grid, cv = 5, scoring = \"accuracy\")\n",
    "\n",
    "xgb_grid.fit(X_train, y_train)\n",
    "\n",
    "xgb_grid.best_params_"
   ]
  },
  {
   "cell_type": "code",
   "execution_count": null,
   "id": "e97f4c4e-11fc-4b54-adea-8b96e4e1d290",
   "metadata": {},
   "outputs": [],
   "source": []
  }
 ],
 "metadata": {
  "kernelspec": {
   "display_name": "Python 3 (ipykernel)",
   "language": "python",
   "name": "python3"
  },
  "language_info": {
   "codemirror_mode": {
    "name": "ipython",
    "version": 3
   },
   "file_extension": ".py",
   "mimetype": "text/x-python",
   "name": "python",
   "nbconvert_exporter": "python",
   "pygments_lexer": "ipython3",
   "version": "3.11.5"
  }
 },
 "nbformat": 4,
 "nbformat_minor": 5
}
