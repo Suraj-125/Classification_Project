{
 "cells": [
  {
   "cell_type": "code",
   "execution_count": 1,
   "id": "c0b37f9b-0cb6-49c4-8607-e79313f411d5",
   "metadata": {},
   "outputs": [],
   "source": [
    "import numpy as np\n",
    "import pandas as pd\n",
    "import matplotlib.pyplot as plt\n",
    "import seaborn as sns\n",
    "\n",
    "import warnings\n",
    "warnings.simplefilter(\"ignore\")"
   ]
  },
  {
   "cell_type": "code",
   "execution_count": 4,
   "id": "dd554d90-6304-4a8b-9fc3-e65899082eb0",
   "metadata": {},
   "outputs": [],
   "source": [
    "df = pd.read_csv(\"Churn_analyzed.csv\")\n",
    "df.drop(\"Unnamed: 0\", axis =1, inplace = True)"
   ]
  },
  {
   "cell_type": "code",
   "execution_count": 5,
   "id": "b75a0138-9549-4abf-815d-7c05300744b8",
   "metadata": {},
   "outputs": [
    {
     "data": {
      "text/html": [
       "<div>\n",
       "<style scoped>\n",
       "    .dataframe tbody tr th:only-of-type {\n",
       "        vertical-align: middle;\n",
       "    }\n",
       "\n",
       "    .dataframe tbody tr th {\n",
       "        vertical-align: top;\n",
       "    }\n",
       "\n",
       "    .dataframe thead th {\n",
       "        text-align: right;\n",
       "    }\n",
       "</style>\n",
       "<table border=\"1\" class=\"dataframe\">\n",
       "  <thead>\n",
       "    <tr style=\"text-align: right;\">\n",
       "      <th></th>\n",
       "      <th>CreditScore</th>\n",
       "      <th>Geography</th>\n",
       "      <th>Gender</th>\n",
       "      <th>Age</th>\n",
       "      <th>Tenure</th>\n",
       "      <th>Balance</th>\n",
       "      <th>NumOfProducts</th>\n",
       "      <th>HasCrCard</th>\n",
       "      <th>IsActiveMember</th>\n",
       "      <th>EstimatedSalary</th>\n",
       "      <th>Exited</th>\n",
       "    </tr>\n",
       "  </thead>\n",
       "  <tbody>\n",
       "    <tr>\n",
       "      <th>0</th>\n",
       "      <td>619</td>\n",
       "      <td>France</td>\n",
       "      <td>0</td>\n",
       "      <td>6.480741</td>\n",
       "      <td>2</td>\n",
       "      <td>0.00</td>\n",
       "      <td>1</td>\n",
       "      <td>1</td>\n",
       "      <td>1</td>\n",
       "      <td>101348.88</td>\n",
       "      <td>1</td>\n",
       "    </tr>\n",
       "    <tr>\n",
       "      <th>1</th>\n",
       "      <td>608</td>\n",
       "      <td>Spain</td>\n",
       "      <td>0</td>\n",
       "      <td>6.403124</td>\n",
       "      <td>1</td>\n",
       "      <td>83807.86</td>\n",
       "      <td>1</td>\n",
       "      <td>0</td>\n",
       "      <td>1</td>\n",
       "      <td>112542.58</td>\n",
       "      <td>0</td>\n",
       "    </tr>\n",
       "    <tr>\n",
       "      <th>2</th>\n",
       "      <td>502</td>\n",
       "      <td>France</td>\n",
       "      <td>0</td>\n",
       "      <td>6.480741</td>\n",
       "      <td>8</td>\n",
       "      <td>159660.80</td>\n",
       "      <td>3</td>\n",
       "      <td>1</td>\n",
       "      <td>0</td>\n",
       "      <td>113931.57</td>\n",
       "      <td>1</td>\n",
       "    </tr>\n",
       "    <tr>\n",
       "      <th>3</th>\n",
       "      <td>699</td>\n",
       "      <td>France</td>\n",
       "      <td>0</td>\n",
       "      <td>6.244998</td>\n",
       "      <td>1</td>\n",
       "      <td>0.00</td>\n",
       "      <td>2</td>\n",
       "      <td>0</td>\n",
       "      <td>0</td>\n",
       "      <td>93826.63</td>\n",
       "      <td>0</td>\n",
       "    </tr>\n",
       "    <tr>\n",
       "      <th>4</th>\n",
       "      <td>850</td>\n",
       "      <td>Spain</td>\n",
       "      <td>0</td>\n",
       "      <td>6.557439</td>\n",
       "      <td>2</td>\n",
       "      <td>125510.82</td>\n",
       "      <td>1</td>\n",
       "      <td>1</td>\n",
       "      <td>1</td>\n",
       "      <td>79084.10</td>\n",
       "      <td>0</td>\n",
       "    </tr>\n",
       "  </tbody>\n",
       "</table>\n",
       "</div>"
      ],
      "text/plain": [
       "   CreditScore Geography  Gender       Age  Tenure    Balance  NumOfProducts  \\\n",
       "0          619    France       0  6.480741       2       0.00              1   \n",
       "1          608     Spain       0  6.403124       1   83807.86              1   \n",
       "2          502    France       0  6.480741       8  159660.80              3   \n",
       "3          699    France       0  6.244998       1       0.00              2   \n",
       "4          850     Spain       0  6.557439       2  125510.82              1   \n",
       "\n",
       "   HasCrCard  IsActiveMember  EstimatedSalary  Exited  \n",
       "0          1               1        101348.88       1  \n",
       "1          0               1        112542.58       0  \n",
       "2          1               0        113931.57       1  \n",
       "3          0               0         93826.63       0  \n",
       "4          1               1         79084.10       0  "
      ]
     },
     "execution_count": 5,
     "metadata": {},
     "output_type": "execute_result"
    }
   ],
   "source": [
    "df.head()"
   ]
  },
  {
   "cell_type": "markdown",
   "id": "4088df03-b63a-4ce7-a254-63ed2f7a0ecf",
   "metadata": {},
   "source": [
    "***Train-Test-Split***"
   ]
  },
  {
   "cell_type": "code",
   "execution_count": 6,
   "id": "433d08d5-d09c-42f5-8e75-f51e4864004c",
   "metadata": {},
   "outputs": [],
   "source": [
    "X = df.drop(\"Exited\", axis = 1)\n",
    "y = df[\"Exited\"]"
   ]
  },
  {
   "cell_type": "code",
   "execution_count": 8,
   "id": "e15d4cc5-b4d6-4397-884e-2ac4f32cb885",
   "metadata": {},
   "outputs": [],
   "source": [
    "from sklearn.model_selection import train_test_split, GridSearchCV, cross_val_score\n",
    "from sklearn.preprocessing import StandardScaler, OneHotEncoder\n",
    "from sklearn.pipeline import Pipeline\n",
    "from sklearn.compose import ColumnTransformer\n",
    "from sklearn.metrics import accuracy_score, confusion_matrix, classification_report, mean_absolute_error"
   ]
  },
  {
   "cell_type": "code",
   "execution_count": 9,
   "id": "9bedd04f-334d-4eb4-8cac-9aceefefe39c",
   "metadata": {},
   "outputs": [],
   "source": [
    "from sklearn.linear_model import LogisticRegression\n",
    "from sklearn.svm import SVC\n",
    "from sklearn.neighbors import KNeighborsClassifier\n",
    "from sklearn.tree import DecisionTreeClassifier\n",
    "from sklearn.ensemble import RandomForestClassifier, AdaBoostClassifier, GradientBoostingClassifier\n",
    "from xgboost import XGBClassifier"
   ]
  },
  {
   "cell_type": "code",
   "execution_count": 10,
   "id": "68133fde-ec5c-4580-8a1c-3cd39db8b883",
   "metadata": {},
   "outputs": [],
   "source": [
    "X_train, X_test, y_train, y_test = train_test_split(X, y, test_size = 0.2, random_state = 39)"
   ]
  },
  {
   "cell_type": "markdown",
   "id": "d3b4447b-e2b2-4a20-830f-5c399d144db8",
   "metadata": {},
   "source": [
    "# ***LogisticRegression***"
   ]
  },
  {
   "cell_type": "code",
   "execution_count": 15,
   "id": "959f86bb-5c87-4f0d-8155-6d94fa9a604a",
   "metadata": {},
   "outputs": [
    {
     "name": "stdout",
     "output_type": "stream",
     "text": [
      "Training Accuracy : 0.808875\n",
      "Testing Accuracy : 0.833\n",
      "Cross Validation Score : 0.806875\n",
      "Mean Absolute Error : 0.167\n"
     ]
    }
   ],
   "source": [
    "step1 = ColumnTransformer(transformers = [\n",
    "    (\"col_tnf\", OneHotEncoder(sparse = False, drop = \"first\"), [1]),\n",
    "    (\"scaler\", StandardScaler(), [0, 3, 5, 9])\n",
    "], remainder = \"passthrough\")\n",
    "\n",
    "model = LogisticRegression()\n",
    "\n",
    "pipe = Pipeline([\n",
    "    (\"step1\", step1),\n",
    "    (\"model\", model)\n",
    "])\n",
    "\n",
    "pipe.fit(X_train, y_train)\n",
    "\n",
    "pred_train = pipe.predict(X_train)\n",
    "pred_test = pipe.predict(X_test)\n",
    "\n",
    "print(\"Training Accuracy :\", accuracy_score(y_train, pred_train))\n",
    "print(\"Testing Accuracy :\", accuracy_score(y_test, pred_test))\n",
    "score = cross_val_score(pipe, X_train, y_train, cv = 5).mean()\n",
    "print(\"Cross Validation Score :\", score)\n",
    "print(\"Mean Absolute Error :\", mean_absolute_error(y_test, pred_test))"
   ]
  },
  {
   "cell_type": "code",
   "execution_count": 16,
   "id": "99dc2221-b350-425c-a990-4db2b530ca9c",
   "metadata": {},
   "outputs": [
    {
     "data": {
      "text/plain": [
       "array([[1568,   49],\n",
       "       [ 285,   98]], dtype=int64)"
      ]
     },
     "execution_count": 16,
     "metadata": {},
     "output_type": "execute_result"
    }
   ],
   "source": [
    "confusion_matrix(y_test, pred_test)"
   ]
  },
  {
   "cell_type": "code",
   "execution_count": 17,
   "id": "9e2b7489-c289-4dfb-ab40-8fc024cb83d8",
   "metadata": {},
   "outputs": [
    {
     "name": "stdout",
     "output_type": "stream",
     "text": [
      "              precision    recall  f1-score   support\n",
      "\n",
      "           0       0.85      0.97      0.90      1617\n",
      "           1       0.67      0.26      0.37       383\n",
      "\n",
      "    accuracy                           0.83      2000\n",
      "   macro avg       0.76      0.61      0.64      2000\n",
      "weighted avg       0.81      0.83      0.80      2000\n",
      "\n"
     ]
    }
   ],
   "source": [
    "print(classification_report(y_test, pred_test))"
   ]
  },
  {
   "cell_type": "markdown",
   "id": "1b10c436-7b5e-41d8-92a6-067473902f02",
   "metadata": {},
   "source": [
    "# ***SVC***"
   ]
  },
  {
   "cell_type": "code",
   "execution_count": 59,
   "id": "cea8fbbf-be6b-4cae-8847-db2fffcf093c",
   "metadata": {},
   "outputs": [
    {
     "name": "stdout",
     "output_type": "stream",
     "text": [
      "Training Accuracy : 0.859125\n",
      "Testing Accuracy : 0.867\n",
      "Cross Validation Score : 0.85175\n",
      "Mean Absolute Error : 0.133\n"
     ]
    }
   ],
   "source": [
    "step1 = ColumnTransformer(transformers = [\n",
    "    (\"col_tnf\", OneHotEncoder(sparse = False, drop = \"first\"), [1]),\n",
    "    (\"scaler\", StandardScaler(), [0, 3, 5, 9])\n",
    "], remainder = \"passthrough\")\n",
    "\n",
    "model = SVC(C = 10, kernel = \"rbf\")\n",
    "\n",
    "pipe = Pipeline([\n",
    "    (\"step1\", step1),\n",
    "    (\"model\", model)\n",
    "])\n",
    "\n",
    "pipe.fit(X_train, y_train)\n",
    "\n",
    "pred_train = pipe.predict(X_train)\n",
    "pred_test = pipe.predict(X_test)\n",
    "\n",
    "print(\"Training Accuracy :\", accuracy_score(y_train, pred_train))\n",
    "print(\"Testing Accuracy :\", accuracy_score(y_test, pred_test))\n",
    "score = cross_val_score(pipe, X_train, y_train, cv = 5).mean()\n",
    "print(\"Cross Validation Score :\", score)\n",
    "print(\"Mean Absolute Error :\", mean_absolute_error(y_test, pred_test))"
   ]
  },
  {
   "cell_type": "code",
   "execution_count": 60,
   "id": "846a0a3d-ef2f-4958-a527-2cc844302f98",
   "metadata": {},
   "outputs": [
    {
     "data": {
      "text/plain": [
       "array([[1580,   37],\n",
       "       [ 229,  154]], dtype=int64)"
      ]
     },
     "execution_count": 60,
     "metadata": {},
     "output_type": "execute_result"
    }
   ],
   "source": [
    "confusion_matrix(y_test, pred_test)"
   ]
  },
  {
   "cell_type": "code",
   "execution_count": 56,
   "id": "46f99af7-9344-4d42-adc0-66df3fe517ca",
   "metadata": {},
   "outputs": [
    {
     "name": "stdout",
     "output_type": "stream",
     "text": [
      "              precision    recall  f1-score   support\n",
      "\n",
      "           0       0.88      0.97      0.92      1617\n",
      "           1       0.76      0.45      0.56       383\n",
      "\n",
      "    accuracy                           0.87      2000\n",
      "   macro avg       0.82      0.71      0.74      2000\n",
      "weighted avg       0.86      0.87      0.85      2000\n",
      "\n"
     ]
    }
   ],
   "source": [
    "print(classification_report(y_test, pred_test))"
   ]
  },
  {
   "cell_type": "markdown",
   "id": "151572fc-1e43-4d47-ad8f-f7cde15f2dd9",
   "metadata": {},
   "source": [
    "# ***KNeighborsClassifier***"
   ]
  },
  {
   "cell_type": "code",
   "execution_count": 26,
   "id": "219b2a34-b41f-4d0d-8ee4-0796c57bd79e",
   "metadata": {},
   "outputs": [
    {
     "name": "stdout",
     "output_type": "stream",
     "text": [
      "Training Accuracy : 0.849125\n",
      "Testing Accuracy : 0.836\n",
      "Cross Validation Score : 0.828125\n",
      "Mean Absolute Error : 0.164\n"
     ]
    }
   ],
   "source": [
    "step1 = ColumnTransformer(transformers = [\n",
    "    (\"col_tnf\", OneHotEncoder(sparse = False, drop = \"first\"), [1]),\n",
    "    (\"scaler\", StandardScaler(), [0, 3, 5, 9])\n",
    "], remainder = \"passthrough\")\n",
    "\n",
    "model = KNeighborsClassifier(n_neighbors = 11)\n",
    "\n",
    "pipe = Pipeline([\n",
    "    (\"step1\", step1),\n",
    "    (\"model\", model)\n",
    "])\n",
    "\n",
    "pipe.fit(X_train, y_train)\n",
    "\n",
    "pred_train = pipe.predict(X_train)\n",
    "pred_test = pipe.predict(X_test)\n",
    "\n",
    "print(\"Training Accuracy :\", accuracy_score(y_train, pred_train))\n",
    "print(\"Testing Accuracy :\", accuracy_score(y_test, pred_test))\n",
    "score = cross_val_score(pipe, X_train, y_train, cv = 5).mean()\n",
    "print(\"Cross Validation Score :\", score)\n",
    "print(\"Mean Absolute Error :\", mean_absolute_error(y_test, pred_test))"
   ]
  },
  {
   "cell_type": "code",
   "execution_count": 27,
   "id": "5324b6a7-b819-42aa-aa12-7a88159cd41d",
   "metadata": {},
   "outputs": [
    {
     "data": {
      "text/plain": [
       "array([[1565,   52],\n",
       "       [ 276,  107]], dtype=int64)"
      ]
     },
     "execution_count": 27,
     "metadata": {},
     "output_type": "execute_result"
    }
   ],
   "source": [
    "confusion_matrix(y_test, pred_test)"
   ]
  },
  {
   "cell_type": "code",
   "execution_count": 28,
   "id": "beaa05c7-35e8-451a-85ef-1697cb009de3",
   "metadata": {},
   "outputs": [
    {
     "name": "stdout",
     "output_type": "stream",
     "text": [
      "              precision    recall  f1-score   support\n",
      "\n",
      "           0       0.85      0.97      0.91      1617\n",
      "           1       0.67      0.28      0.39       383\n",
      "\n",
      "    accuracy                           0.84      2000\n",
      "   macro avg       0.76      0.62      0.65      2000\n",
      "weighted avg       0.82      0.84      0.81      2000\n",
      "\n"
     ]
    }
   ],
   "source": [
    "print(classification_report(y_test, pred_test))"
   ]
  },
  {
   "cell_type": "markdown",
   "id": "bad099d2-27a6-4cd5-9921-191d6b4e8ee7",
   "metadata": {},
   "source": [
    "# ***DecisionTreeClassifier***"
   ]
  },
  {
   "cell_type": "code",
   "execution_count": 31,
   "id": "fa62bb96-c2d7-49e4-ad3d-a2b4b3199e41",
   "metadata": {},
   "outputs": [
    {
     "name": "stdout",
     "output_type": "stream",
     "text": [
      "Training Accuracy : 0.86375\n",
      "Testing Accuracy : 0.87\n",
      "Cross Validation Score : 0.8553750000000001\n",
      "Mean Absolute Error : 0.13\n"
     ]
    }
   ],
   "source": [
    "step1 = ColumnTransformer(transformers = [\n",
    "    (\"col_tnf\", OneHotEncoder(sparse = False, drop = \"first\"), [1]),\n",
    "    (\"scaler\", StandardScaler(), [0, 3, 5, 9])\n",
    "], remainder = \"passthrough\")\n",
    "\n",
    "model = DecisionTreeClassifier(max_depth = 6, criterion = \"entropy\")\n",
    "\n",
    "pipe = Pipeline([\n",
    "    (\"step1\", step1),\n",
    "    (\"model\", model)\n",
    "])\n",
    "\n",
    "pipe.fit(X_train, y_train)\n",
    "\n",
    "pred_train = pipe.predict(X_train)\n",
    "pred_test = pipe.predict(X_test)\n",
    "\n",
    "print(\"Training Accuracy :\", accuracy_score(y_train, pred_train))\n",
    "print(\"Testing Accuracy :\", accuracy_score(y_test, pred_test))\n",
    "score = cross_val_score(pipe, X_train, y_train, cv = 5).mean()\n",
    "print(\"Cross Validation Score :\", score)\n",
    "print(\"Mean Absolute Error :\", mean_absolute_error(y_test, pred_test))"
   ]
  },
  {
   "cell_type": "code",
   "execution_count": 32,
   "id": "de25a8aa-5b64-41f0-a337-e74ec1d97a39",
   "metadata": {},
   "outputs": [
    {
     "data": {
      "text/plain": [
       "array([[1555,   62],\n",
       "       [ 198,  185]], dtype=int64)"
      ]
     },
     "execution_count": 32,
     "metadata": {},
     "output_type": "execute_result"
    }
   ],
   "source": [
    "confusion_matrix(y_test, pred_test)"
   ]
  },
  {
   "cell_type": "code",
   "execution_count": 33,
   "id": "b6bdac14-79b2-4d57-8f07-d037984e3c7a",
   "metadata": {},
   "outputs": [
    {
     "name": "stdout",
     "output_type": "stream",
     "text": [
      "              precision    recall  f1-score   support\n",
      "\n",
      "           0       0.89      0.96      0.92      1617\n",
      "           1       0.75      0.48      0.59       383\n",
      "\n",
      "    accuracy                           0.87      2000\n",
      "   macro avg       0.82      0.72      0.76      2000\n",
      "weighted avg       0.86      0.87      0.86      2000\n",
      "\n"
     ]
    }
   ],
   "source": [
    "print(classification_report(y_test, pred_test))"
   ]
  },
  {
   "cell_type": "markdown",
   "id": "d55c814c-c753-45f8-b720-9f2dc54e8dff",
   "metadata": {},
   "source": [
    "# ***RandomForestClassifier***"
   ]
  },
  {
   "cell_type": "code",
   "execution_count": 40,
   "id": "1ca540ee-dfc2-4964-b836-fc53e73ee184",
   "metadata": {},
   "outputs": [
    {
     "name": "stdout",
     "output_type": "stream",
     "text": [
      "Training Accuracy : 0.99525\n",
      "Testing Accuracy : 0.867\n",
      "Cross Validation Score : 0.852625\n",
      "Mean Absolute Error : 0.133\n"
     ]
    }
   ],
   "source": [
    "step1 = ColumnTransformer(transformers = [\n",
    "    (\"col_tnf\", OneHotEncoder(sparse = False, drop = \"first\"), [1]),\n",
    "    (\"scaler\", StandardScaler(), [0, 3, 5, 9])\n",
    "], remainder = \"passthrough\")\n",
    "\n",
    "model = RandomForestClassifier(n_estimators = 17)\n",
    "\n",
    "pipe = Pipeline([\n",
    "    (\"step1\", step1),\n",
    "    (\"model\", model)\n",
    "])\n",
    "\n",
    "pipe.fit(X_train, y_train)\n",
    "\n",
    "pred_train = pipe.predict(X_train)\n",
    "pred_test = pipe.predict(X_test)\n",
    "\n",
    "print(\"Training Accuracy :\", accuracy_score(y_train, pred_train))\n",
    "print(\"Testing Accuracy :\", accuracy_score(y_test, pred_test))\n",
    "score = cross_val_score(pipe, X_train, y_train, cv = 5).mean()\n",
    "print(\"Cross Validation Score :\", score)\n",
    "print(\"Mean Absolute Error :\", mean_absolute_error(y_test, pred_test))"
   ]
  },
  {
   "cell_type": "code",
   "execution_count": 41,
   "id": "63ef8d56-67d5-4a0a-b766-e77410f0466a",
   "metadata": {},
   "outputs": [
    {
     "data": {
      "text/plain": [
       "array([[1542,   75],\n",
       "       [ 191,  192]], dtype=int64)"
      ]
     },
     "execution_count": 41,
     "metadata": {},
     "output_type": "execute_result"
    }
   ],
   "source": [
    "confusion_matrix(y_test, pred_test)"
   ]
  },
  {
   "cell_type": "code",
   "execution_count": 42,
   "id": "ca6c5fdc-9384-4287-ade1-c43ed8856422",
   "metadata": {},
   "outputs": [
    {
     "name": "stdout",
     "output_type": "stream",
     "text": [
      "              precision    recall  f1-score   support\n",
      "\n",
      "           0       0.89      0.95      0.92      1617\n",
      "           1       0.72      0.50      0.59       383\n",
      "\n",
      "    accuracy                           0.87      2000\n",
      "   macro avg       0.80      0.73      0.76      2000\n",
      "weighted avg       0.86      0.87      0.86      2000\n",
      "\n"
     ]
    }
   ],
   "source": [
    "print(classification_report(y_test, pred_test))"
   ]
  },
  {
   "cell_type": "markdown",
   "id": "6719dfa5-1fc6-4739-9c89-e326b8f22e0f",
   "metadata": {},
   "source": [
    "# ***AdaBoostClassifier***"
   ]
  },
  {
   "cell_type": "code",
   "execution_count": 43,
   "id": "5031574f-c217-4a60-9451-e0fcd5010ca0",
   "metadata": {},
   "outputs": [
    {
     "name": "stdout",
     "output_type": "stream",
     "text": [
      "Training Accuracy : 0.85525\n",
      "Testing Accuracy : 0.8695\n",
      "Cross Validation Score : 0.853125\n",
      "Mean Absolute Error : 0.1305\n"
     ]
    }
   ],
   "source": [
    "step1 = ColumnTransformer(transformers = [\n",
    "    (\"col_tnf\", OneHotEncoder(sparse = False, drop = \"first\"), [1]),\n",
    "    (\"scaler\", StandardScaler(), [0, 3, 5, 9])\n",
    "], remainder = \"passthrough\")\n",
    "\n",
    "model = AdaBoostClassifier(n_estimators = 13)\n",
    "\n",
    "pipe = Pipeline([\n",
    "    (\"step1\", step1),\n",
    "    (\"model\", model)\n",
    "])\n",
    "\n",
    "pipe.fit(X_train, y_train)\n",
    "\n",
    "pred_train = pipe.predict(X_train)\n",
    "pred_test = pipe.predict(X_test)\n",
    "\n",
    "print(\"Training Accuracy :\", accuracy_score(y_train, pred_train))\n",
    "print(\"Testing Accuracy :\", accuracy_score(y_test, pred_test))\n",
    "score = cross_val_score(pipe, X_train, y_train, cv = 5).mean()\n",
    "print(\"Cross Validation Score :\", score)\n",
    "print(\"Mean Absolute Error :\", mean_absolute_error(y_test, pred_test))"
   ]
  },
  {
   "cell_type": "code",
   "execution_count": 44,
   "id": "6f88917b-2c41-466d-aeeb-52f052ebdd20",
   "metadata": {},
   "outputs": [
    {
     "data": {
      "text/plain": [
       "array([[1567,   50],\n",
       "       [ 211,  172]], dtype=int64)"
      ]
     },
     "execution_count": 44,
     "metadata": {},
     "output_type": "execute_result"
    }
   ],
   "source": [
    "confusion_matrix(y_test, pred_test)"
   ]
  },
  {
   "cell_type": "code",
   "execution_count": 45,
   "id": "02f1f608-9765-46ee-93df-f991eb69dc0d",
   "metadata": {},
   "outputs": [
    {
     "name": "stdout",
     "output_type": "stream",
     "text": [
      "              precision    recall  f1-score   support\n",
      "\n",
      "           0       0.88      0.97      0.92      1617\n",
      "           1       0.77      0.45      0.57       383\n",
      "\n",
      "    accuracy                           0.87      2000\n",
      "   macro avg       0.83      0.71      0.75      2000\n",
      "weighted avg       0.86      0.87      0.86      2000\n",
      "\n"
     ]
    }
   ],
   "source": [
    "print(classification_report(y_test, pred_test))"
   ]
  },
  {
   "cell_type": "markdown",
   "id": "1c085e0d-fc02-46e0-8590-261459f22e66",
   "metadata": {},
   "source": [
    "# ***GradientBoostingClassifier***"
   ]
  },
  {
   "cell_type": "code",
   "execution_count": 46,
   "id": "58359203-76d9-44a8-ae8e-81e6eaaa79b8",
   "metadata": {},
   "outputs": [
    {
     "name": "stdout",
     "output_type": "stream",
     "text": [
      "Training Accuracy : 0.866875\n",
      "Testing Accuracy : 0.871\n",
      "Cross Validation Score : 0.860625\n",
      "Mean Absolute Error : 0.129\n"
     ]
    }
   ],
   "source": [
    "step1 = ColumnTransformer(transformers = [\n",
    "    (\"col_tnf\", OneHotEncoder(sparse = False, drop = \"first\"), [1]),\n",
    "    (\"scaler\", StandardScaler(), [0, 3, 5, 9])\n",
    "], remainder = \"passthrough\")\n",
    "\n",
    "model = GradientBoostingClassifier(n_estimators = 15, learning_rate = 0.4)\n",
    "\n",
    "pipe = Pipeline([\n",
    "    (\"step1\", step1),\n",
    "    (\"model\", model)\n",
    "])\n",
    "\n",
    "pipe.fit(X_train, y_train)\n",
    "\n",
    "pred_train = pipe.predict(X_train)\n",
    "pred_test = pipe.predict(X_test)\n",
    "\n",
    "print(\"Training Accuracy :\", accuracy_score(y_train, pred_train))\n",
    "print(\"Testing Accuracy :\", accuracy_score(y_test, pred_test))\n",
    "score = cross_val_score(pipe, X_train, y_train, cv = 5).mean()\n",
    "print(\"Cross Validation Score :\", score)\n",
    "print(\"Mean Absolute Error :\", mean_absolute_error(y_test, pred_test))"
   ]
  },
  {
   "cell_type": "code",
   "execution_count": 47,
   "id": "a411d61d-530e-459e-ba60-39d3326b29f8",
   "metadata": {},
   "outputs": [
    {
     "data": {
      "text/plain": [
       "array([[1552,   65],\n",
       "       [ 193,  190]], dtype=int64)"
      ]
     },
     "execution_count": 47,
     "metadata": {},
     "output_type": "execute_result"
    }
   ],
   "source": [
    "confusion_matrix(y_test, pred_test)"
   ]
  },
  {
   "cell_type": "code",
   "execution_count": 48,
   "id": "7ed80c80-41e7-4413-bf2b-b5ef83834492",
   "metadata": {},
   "outputs": [
    {
     "name": "stdout",
     "output_type": "stream",
     "text": [
      "              precision    recall  f1-score   support\n",
      "\n",
      "           0       0.89      0.96      0.92      1617\n",
      "           1       0.75      0.50      0.60       383\n",
      "\n",
      "    accuracy                           0.87      2000\n",
      "   macro avg       0.82      0.73      0.76      2000\n",
      "weighted avg       0.86      0.87      0.86      2000\n",
      "\n"
     ]
    }
   ],
   "source": [
    "print(classification_report(y_test, pred_test))"
   ]
  },
  {
   "cell_type": "markdown",
   "id": "a0839a2a-4532-4113-895a-94af0931301c",
   "metadata": {},
   "source": [
    "# ***XGBClassifier***"
   ]
  },
  {
   "cell_type": "code",
   "execution_count": 49,
   "id": "ecea9869-b98b-487f-b1e2-db256f885256",
   "metadata": {},
   "outputs": [
    {
     "name": "stdout",
     "output_type": "stream",
     "text": [
      "Training Accuracy : 0.887\n",
      "Testing Accuracy : 0.87\n",
      "Cross Validation Score : 0.8602500000000001\n",
      "Mean Absolute Error : 0.13\n"
     ]
    }
   ],
   "source": [
    "step1 = ColumnTransformer(transformers = [\n",
    "    (\"col_tnf\", OneHotEncoder(sparse = False, drop = \"first\"), [1]),\n",
    "    (\"scaler\", StandardScaler(), [0, 3, 5, 9])\n",
    "], remainder = \"passthrough\")\n",
    "\n",
    "model = XGBClassifier(n_estimators = 15, learning_rate = 0.3, gamma = 0.4)\n",
    "\n",
    "pipe = Pipeline([\n",
    "    (\"step1\", step1),\n",
    "    (\"model\", model)\n",
    "])\n",
    "\n",
    "pipe.fit(X_train, y_train)\n",
    "\n",
    "pred_train = pipe.predict(X_train)\n",
    "pred_test = pipe.predict(X_test)\n",
    "\n",
    "print(\"Training Accuracy :\", accuracy_score(y_train, pred_train))\n",
    "print(\"Testing Accuracy :\", accuracy_score(y_test, pred_test))\n",
    "score = cross_val_score(pipe, X_train, y_train, cv = 5).mean()\n",
    "print(\"Cross Validation Score :\", score)\n",
    "print(\"Mean Absolute Error :\", mean_absolute_error(y_test, pred_test))"
   ]
  },
  {
   "cell_type": "code",
   "execution_count": 50,
   "id": "dd5973f8-1668-4ed2-9518-d70b627341ff",
   "metadata": {},
   "outputs": [
    {
     "data": {
      "text/plain": [
       "array([[1547,   70],\n",
       "       [ 190,  193]], dtype=int64)"
      ]
     },
     "execution_count": 50,
     "metadata": {},
     "output_type": "execute_result"
    }
   ],
   "source": [
    "confusion_matrix(y_test, pred_test)"
   ]
  },
  {
   "cell_type": "code",
   "execution_count": 53,
   "id": "1883a28a-684a-421e-ba79-35b8ec69f91a",
   "metadata": {},
   "outputs": [
    {
     "name": "stdout",
     "output_type": "stream",
     "text": [
      "              precision    recall  f1-score   support\n",
      "\n",
      "           0       0.89      0.96      0.92      1617\n",
      "           1       0.73      0.50      0.60       383\n",
      "\n",
      "    accuracy                           0.87      2000\n",
      "   macro avg       0.81      0.73      0.76      2000\n",
      "weighted avg       0.86      0.87      0.86      2000\n",
      "\n"
     ]
    }
   ],
   "source": [
    "print(classification_report(y_test, pred_test))"
   ]
  },
  {
   "cell_type": "markdown",
   "id": "49733c93-e52a-4ede-a17e-44078e296d31",
   "metadata": {},
   "source": [
    "# ***Final Model***"
   ]
  },
  {
   "cell_type": "code",
   "execution_count": 79,
   "id": "a6296d63-8be9-4351-82c3-dc0262d09171",
   "metadata": {},
   "outputs": [
    {
     "name": "stdout",
     "output_type": "stream",
     "text": [
      "Training Accuracy : 0.887\n",
      "Testing Accuracy : 0.87\n",
      "Cross Validation Score : 0.8602500000000001\n",
      "Mean Absolute Error : 0.13\n"
     ]
    }
   ],
   "source": [
    "step1 = ColumnTransformer(transformers = [\n",
    "    (\"col_tnf\", OneHotEncoder(sparse = False, drop = \"first\"), [1]),\n",
    "    (\"scaler\", StandardScaler(), [0, 3, 5, 9])\n",
    "], remainder = \"passthrough\")\n",
    "\n",
    "model = XGBClassifier(n_estimators = 15, learning_rate = 0.3, gamma = 0.4)\n",
    "\n",
    "pipe = Pipeline([\n",
    "    (\"step1\", step1),\n",
    "    (\"model\", model)\n",
    "])\n",
    "\n",
    "pipe.fit(X_train, y_train)\n",
    "\n",
    "pred_train = pipe.predict(X_train)\n",
    "pred_test = pipe.predict(X_test)\n",
    "\n",
    "print(\"Training Accuracy :\", accuracy_score(y_train, pred_train))\n",
    "print(\"Testing Accuracy :\", accuracy_score(y_test, pred_test))\n",
    "score = cross_val_score(pipe, X_train, y_train, cv = 5).mean()\n",
    "print(\"Cross Validation Score :\", score)\n",
    "print(\"Mean Absolute Error :\", mean_absolute_error(y_test, pred_test))"
   ]
  },
  {
   "cell_type": "code",
   "execution_count": 62,
   "id": "7881e783-4f65-43e9-b9d3-aac6da07d8dd",
   "metadata": {},
   "outputs": [
    {
     "data": {
      "text/plain": [
       "['xgb_model']"
      ]
     },
     "execution_count": 62,
     "metadata": {},
     "output_type": "execute_result"
    }
   ],
   "source": [
    "from joblib import dump\n",
    "dump(pipe, \"xgb_model\")"
   ]
  },
  {
   "cell_type": "markdown",
   "id": "0ff28de4-d55b-498b-afd1-cbadaa5a632d",
   "metadata": {},
   "source": [
    "# ***Predicting with New Data***"
   ]
  },
  {
   "cell_type": "code",
   "execution_count": 107,
   "id": "49c8c5d0-0f7f-4b56-bb9b-579e9419cdca",
   "metadata": {},
   "outputs": [
    {
     "name": "stdout",
     "output_type": "stream",
     "text": [
      "Employee will churn from the company\n"
     ]
    }
   ],
   "source": [
    "new_data = pd.DataFrame({\n",
    "    \"CreditScore\": 608,\n",
    "    \"Geography\": \"Spain\",\n",
    "    \"Gender\": 0,\n",
    "    \"Age\": 41,\n",
    "    \"Tenure\": 1,\n",
    "    \"Balance\": 500000,\n",
    "    \"NumOfProducts\": 4,\n",
    "    \"HasCrCard\": 0,\n",
    "    \"IsActiveMember\": 1,\n",
    "    \"EstimatedSalary\":112542.58,\n",
    "}, index = [0])\n",
    "\n",
    "pred = pipe.predict(new_data)[0]\n",
    "if pred == 0:\n",
    "    print(\"Employee wil not Churn from the company.\")\n",
    "else:\n",
    "    print(\"Employee will churn from the company\")"
   ]
  },
  {
   "cell_type": "code",
   "execution_count": null,
   "id": "0f80099f-afda-453c-a441-5c9f4115a0db",
   "metadata": {},
   "outputs": [],
   "source": []
  }
 ],
 "metadata": {
  "kernelspec": {
   "display_name": "Python 3 (ipykernel)",
   "language": "python",
   "name": "python3"
  },
  "language_info": {
   "codemirror_mode": {
    "name": "ipython",
    "version": 3
   },
   "file_extension": ".py",
   "mimetype": "text/x-python",
   "name": "python",
   "nbconvert_exporter": "python",
   "pygments_lexer": "ipython3",
   "version": "3.11.5"
  }
 },
 "nbformat": 4,
 "nbformat_minor": 5
}
