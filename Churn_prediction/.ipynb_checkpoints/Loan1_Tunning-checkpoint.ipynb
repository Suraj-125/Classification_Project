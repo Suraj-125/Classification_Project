{
 "cells": [
  {
   "cell_type": "code",
   "execution_count": 1,
   "id": "338bd5b9-b3ef-4d61-ad55-8aaccf6dbdb9",
   "metadata": {},
   "outputs": [],
   "source": [
    "import numpy as np\n",
    "import pandas as pd\n",
    "\n",
    "import warnings\n",
    "warnings.simplefilter(\"ignore\")"
   ]
  },
  {
   "cell_type": "code",
   "execution_count": 2,
   "id": "27d904ca-52a1-47c6-a412-18ac3edc80c9",
   "metadata": {},
   "outputs": [
    {
     "data": {
      "text/html": [
       "<div>\n",
       "<style scoped>\n",
       "    .dataframe tbody tr th:only-of-type {\n",
       "        vertical-align: middle;\n",
       "    }\n",
       "\n",
       "    .dataframe tbody tr th {\n",
       "        vertical-align: top;\n",
       "    }\n",
       "\n",
       "    .dataframe thead th {\n",
       "        text-align: right;\n",
       "    }\n",
       "</style>\n",
       "<table border=\"1\" class=\"dataframe\">\n",
       "  <thead>\n",
       "    <tr style=\"text-align: right;\">\n",
       "      <th></th>\n",
       "      <th>Unnamed: 0</th>\n",
       "      <th>CreditScore</th>\n",
       "      <th>Geography</th>\n",
       "      <th>Gender</th>\n",
       "      <th>Age</th>\n",
       "      <th>Tenure</th>\n",
       "      <th>Balance</th>\n",
       "      <th>NumOfProducts</th>\n",
       "      <th>HasCrCard</th>\n",
       "      <th>IsActiveMember</th>\n",
       "      <th>EstimatedSalary</th>\n",
       "      <th>Exited</th>\n",
       "    </tr>\n",
       "  </thead>\n",
       "  <tbody>\n",
       "    <tr>\n",
       "      <th>0</th>\n",
       "      <td>0</td>\n",
       "      <td>619</td>\n",
       "      <td>France</td>\n",
       "      <td>0</td>\n",
       "      <td>6.480741</td>\n",
       "      <td>2</td>\n",
       "      <td>0.00</td>\n",
       "      <td>1</td>\n",
       "      <td>1</td>\n",
       "      <td>1</td>\n",
       "      <td>101348.88</td>\n",
       "      <td>1</td>\n",
       "    </tr>\n",
       "    <tr>\n",
       "      <th>1</th>\n",
       "      <td>1</td>\n",
       "      <td>608</td>\n",
       "      <td>Spain</td>\n",
       "      <td>0</td>\n",
       "      <td>6.403124</td>\n",
       "      <td>1</td>\n",
       "      <td>83807.86</td>\n",
       "      <td>1</td>\n",
       "      <td>0</td>\n",
       "      <td>1</td>\n",
       "      <td>112542.58</td>\n",
       "      <td>0</td>\n",
       "    </tr>\n",
       "    <tr>\n",
       "      <th>2</th>\n",
       "      <td>2</td>\n",
       "      <td>502</td>\n",
       "      <td>France</td>\n",
       "      <td>0</td>\n",
       "      <td>6.480741</td>\n",
       "      <td>8</td>\n",
       "      <td>159660.80</td>\n",
       "      <td>3</td>\n",
       "      <td>1</td>\n",
       "      <td>0</td>\n",
       "      <td>113931.57</td>\n",
       "      <td>1</td>\n",
       "    </tr>\n",
       "    <tr>\n",
       "      <th>3</th>\n",
       "      <td>3</td>\n",
       "      <td>699</td>\n",
       "      <td>France</td>\n",
       "      <td>0</td>\n",
       "      <td>6.244998</td>\n",
       "      <td>1</td>\n",
       "      <td>0.00</td>\n",
       "      <td>2</td>\n",
       "      <td>0</td>\n",
       "      <td>0</td>\n",
       "      <td>93826.63</td>\n",
       "      <td>0</td>\n",
       "    </tr>\n",
       "    <tr>\n",
       "      <th>4</th>\n",
       "      <td>4</td>\n",
       "      <td>850</td>\n",
       "      <td>Spain</td>\n",
       "      <td>0</td>\n",
       "      <td>6.557439</td>\n",
       "      <td>2</td>\n",
       "      <td>125510.82</td>\n",
       "      <td>1</td>\n",
       "      <td>1</td>\n",
       "      <td>1</td>\n",
       "      <td>79084.10</td>\n",
       "      <td>0</td>\n",
       "    </tr>\n",
       "  </tbody>\n",
       "</table>\n",
       "</div>"
      ],
      "text/plain": [
       "   Unnamed: 0  CreditScore Geography  Gender       Age  Tenure    Balance  \\\n",
       "0           0          619    France       0  6.480741       2       0.00   \n",
       "1           1          608     Spain       0  6.403124       1   83807.86   \n",
       "2           2          502    France       0  6.480741       8  159660.80   \n",
       "3           3          699    France       0  6.244998       1       0.00   \n",
       "4           4          850     Spain       0  6.557439       2  125510.82   \n",
       "\n",
       "   NumOfProducts  HasCrCard  IsActiveMember  EstimatedSalary  Exited  \n",
       "0              1          1               1        101348.88       1  \n",
       "1              1          0               1        112542.58       0  \n",
       "2              3          1               0        113931.57       1  \n",
       "3              2          0               0         93826.63       0  \n",
       "4              1          1               1         79084.10       0  "
      ]
     },
     "execution_count": 2,
     "metadata": {},
     "output_type": "execute_result"
    }
   ],
   "source": [
    "df = pd.read_csv(\"Churn_analyzed.csv\")\n",
    "df.head()"
   ]
  },
  {
   "cell_type": "code",
   "execution_count": 19,
   "id": "dcdfa227-b06f-4c52-8658-258b98a640f4",
   "metadata": {},
   "outputs": [],
   "source": [
    "X = df.drop(columns = [\"Exited\", \"Unnamed: 0\"])\n",
    "X = pd.get_dummies(P, drop_first = True, dtype = int)\n",
    "y = df[\"Exited\"]"
   ]
  },
  {
   "cell_type": "markdown",
   "id": "8d2020b8-69b8-4cce-a407-9034f9e9ad52",
   "metadata": {},
   "source": [
    "# Train Test Split"
   ]
  },
  {
   "cell_type": "code",
   "execution_count": 8,
   "id": "22580b80-dc44-4fb6-8ade-c83ca23f70ed",
   "metadata": {},
   "outputs": [],
   "source": [
    "from sklearn.model_selection import train_test_split, GridSearchCV, cross_val_score\n",
    "from sklearn.preprocessing import StandardScaler, OneHotEncoder\n",
    "from sklearn.pipeline import Pipeline\n",
    "from sklearn.compose import ColumnTransformer\n",
    "from sklearn.metrics import accuracy_score, confusion_matrix, classification_report, mean_absolute_error"
   ]
  },
  {
   "cell_type": "code",
   "execution_count": 9,
   "id": "57d8d935-1f07-4d6c-b733-bebafb9037c9",
   "metadata": {},
   "outputs": [],
   "source": [
    "from sklearn.linear_model import LogisticRegression\n",
    "from sklearn.svm import SVC\n",
    "from sklearn.neighbors import KNeighborsClassifier\n",
    "from sklearn.tree import DecisionTreeClassifier\n",
    "from sklearn.ensemble import RandomForestClassifier, AdaBoostClassifier, GradientBoostingClassifier\n",
    "from xgboost import XGBClassifier"
   ]
  },
  {
   "cell_type": "code",
   "execution_count": 15,
   "id": "10b7a0cd-f92f-4cd0-a63b-cb1bd233f8fa",
   "metadata": {},
   "outputs": [],
   "source": [
    "sc = StandardScaler()"
   ]
  },
  {
   "cell_type": "markdown",
   "id": "5f3aa40b-1bf9-48dd-9d8f-277e8ccefb15",
   "metadata": {},
   "source": [
    "***Finding Best Random State***"
   ]
  },
  {
   "cell_type": "code",
   "execution_count": 20,
   "id": "8025c408-ca7c-4ae7-9701-9f5f4b488585",
   "metadata": {},
   "outputs": [],
   "source": [
    "train = []\n",
    "test = []\n",
    "train_acc = []\n",
    "test_acc = []\n",
    "cv = []\n",
    "mae = []\n",
    "\n",
    "for i in range(100):\n",
    "    X_train, X_test, y_train, y_test = train_test_split(P, y, test_size = 0.2, random_state = i)\n",
    "    X_train.loc[:, [\"CreditScore\", \"Age\", \"Balance\", \"EstimatedSalary\"]] = sc.fit_transform(X_train.loc[:, [\"CreditScore\", \"Age\", \"Balance\", \"EstimatedSalary\"]])\n",
    "    X_test.loc[:, [\"CreditScore\", \"Age\", \"Balance\", \"EstimatedSalary\"]] = sc.transform(X_test.loc[:, [\"CreditScore\", \"Age\", \"Balance\", \"EstimatedSalary\"]])\n",
    "    model = LogisticRegression().fit(X_train, y_train)\n",
    "    pred_train = model.predict(X_train)\n",
    "    pred_test = model.predict(X_test)\n",
    "\n",
    "    train_accuracy = model.score(X_train, y_train)\n",
    "    test_accuracy = model.score(X_test, y_test)\n",
    "\n",
    "    train_score = accuracy_score(y_train, pred_train)\n",
    "    test_score = accuracy_score(y_test, pred_test)\n",
    "\n",
    "    mae_score = mean_absolute_error(y_test, pred_test)\n",
    "    cv_score = cross_val_score(model, X_train, y_train, cv = 5).mean()\n",
    "\n",
    "    train.append(train_accuracy)\n",
    "    test.append(test_accuracy)\n",
    "    train_acc.append(train_score)\n",
    "    test_acc.append(test_score)\n",
    "    cv.append(cv_score)\n",
    "    mae.append(mae_score)\n",
    "\n",
    "ff = pd.DataFrame({\n",
    "    \"Train Model\": train,\n",
    "    \"Test Model\": test,\n",
    "    \"Train acc\": train_acc,\n",
    "    \"Test acc\": test_acc,\n",
    "    \"CV\": cv,\n",
    "    \"MAE\": mae\n",
    "})"
   ]
  },
  {
   "cell_type": "code",
   "execution_count": 21,
   "id": "dc573d60-2d9a-4ea1-8db2-dd791812e576",
   "metadata": {},
   "outputs": [
    {
     "data": {
      "text/html": [
       "<div>\n",
       "<style scoped>\n",
       "    .dataframe tbody tr th:only-of-type {\n",
       "        vertical-align: middle;\n",
       "    }\n",
       "\n",
       "    .dataframe tbody tr th {\n",
       "        vertical-align: top;\n",
       "    }\n",
       "\n",
       "    .dataframe thead th {\n",
       "        text-align: right;\n",
       "    }\n",
       "</style>\n",
       "<table border=\"1\" class=\"dataframe\">\n",
       "  <thead>\n",
       "    <tr style=\"text-align: right;\">\n",
       "      <th></th>\n",
       "      <th>Train Model</th>\n",
       "      <th>Test Model</th>\n",
       "      <th>Train acc</th>\n",
       "      <th>Test acc</th>\n",
       "      <th>CV</th>\n",
       "      <th>MAE</th>\n",
       "    </tr>\n",
       "  </thead>\n",
       "  <tbody>\n",
       "    <tr>\n",
       "      <th>39</th>\n",
       "      <td>0.808875</td>\n",
       "      <td>0.8330</td>\n",
       "      <td>0.808875</td>\n",
       "      <td>0.8330</td>\n",
       "      <td>0.806875</td>\n",
       "      <td>0.1670</td>\n",
       "    </tr>\n",
       "    <tr>\n",
       "      <th>54</th>\n",
       "      <td>0.809500</td>\n",
       "      <td>0.8270</td>\n",
       "      <td>0.809500</td>\n",
       "      <td>0.8270</td>\n",
       "      <td>0.809000</td>\n",
       "      <td>0.1730</td>\n",
       "    </tr>\n",
       "    <tr>\n",
       "      <th>40</th>\n",
       "      <td>0.809875</td>\n",
       "      <td>0.8250</td>\n",
       "      <td>0.809875</td>\n",
       "      <td>0.8250</td>\n",
       "      <td>0.807625</td>\n",
       "      <td>0.1750</td>\n",
       "    </tr>\n",
       "    <tr>\n",
       "      <th>93</th>\n",
       "      <td>0.810250</td>\n",
       "      <td>0.8240</td>\n",
       "      <td>0.810250</td>\n",
       "      <td>0.8240</td>\n",
       "      <td>0.809875</td>\n",
       "      <td>0.1760</td>\n",
       "    </tr>\n",
       "    <tr>\n",
       "      <th>4</th>\n",
       "      <td>0.810500</td>\n",
       "      <td>0.8230</td>\n",
       "      <td>0.810500</td>\n",
       "      <td>0.8230</td>\n",
       "      <td>0.810375</td>\n",
       "      <td>0.1770</td>\n",
       "    </tr>\n",
       "    <tr>\n",
       "      <th>...</th>\n",
       "      <td>...</td>\n",
       "      <td>...</td>\n",
       "      <td>...</td>\n",
       "      <td>...</td>\n",
       "      <td>...</td>\n",
       "      <td>...</td>\n",
       "    </tr>\n",
       "    <tr>\n",
       "      <th>90</th>\n",
       "      <td>0.817125</td>\n",
       "      <td>0.8005</td>\n",
       "      <td>0.817125</td>\n",
       "      <td>0.8005</td>\n",
       "      <td>0.816875</td>\n",
       "      <td>0.1995</td>\n",
       "    </tr>\n",
       "    <tr>\n",
       "      <th>49</th>\n",
       "      <td>0.817250</td>\n",
       "      <td>0.8000</td>\n",
       "      <td>0.817250</td>\n",
       "      <td>0.8000</td>\n",
       "      <td>0.815500</td>\n",
       "      <td>0.2000</td>\n",
       "    </tr>\n",
       "    <tr>\n",
       "      <th>78</th>\n",
       "      <td>0.816000</td>\n",
       "      <td>0.7995</td>\n",
       "      <td>0.816000</td>\n",
       "      <td>0.7995</td>\n",
       "      <td>0.814125</td>\n",
       "      <td>0.2005</td>\n",
       "    </tr>\n",
       "    <tr>\n",
       "      <th>84</th>\n",
       "      <td>0.816875</td>\n",
       "      <td>0.7945</td>\n",
       "      <td>0.816875</td>\n",
       "      <td>0.7945</td>\n",
       "      <td>0.816625</td>\n",
       "      <td>0.2055</td>\n",
       "    </tr>\n",
       "    <tr>\n",
       "      <th>36</th>\n",
       "      <td>0.819125</td>\n",
       "      <td>0.7890</td>\n",
       "      <td>0.819125</td>\n",
       "      <td>0.7890</td>\n",
       "      <td>0.817750</td>\n",
       "      <td>0.2110</td>\n",
       "    </tr>\n",
       "  </tbody>\n",
       "</table>\n",
       "<p>100 rows × 6 columns</p>\n",
       "</div>"
      ],
      "text/plain": [
       "    Train Model  Test Model  Train acc  Test acc        CV     MAE\n",
       "39     0.808875      0.8330   0.808875    0.8330  0.806875  0.1670\n",
       "54     0.809500      0.8270   0.809500    0.8270  0.809000  0.1730\n",
       "40     0.809875      0.8250   0.809875    0.8250  0.807625  0.1750\n",
       "93     0.810250      0.8240   0.810250    0.8240  0.809875  0.1760\n",
       "4      0.810500      0.8230   0.810500    0.8230  0.810375  0.1770\n",
       "..          ...         ...        ...       ...       ...     ...\n",
       "90     0.817125      0.8005   0.817125    0.8005  0.816875  0.1995\n",
       "49     0.817250      0.8000   0.817250    0.8000  0.815500  0.2000\n",
       "78     0.816000      0.7995   0.816000    0.7995  0.814125  0.2005\n",
       "84     0.816875      0.7945   0.816875    0.7945  0.816625  0.2055\n",
       "36     0.819125      0.7890   0.819125    0.7890  0.817750  0.2110\n",
       "\n",
       "[100 rows x 6 columns]"
      ]
     },
     "execution_count": 21,
     "metadata": {},
     "output_type": "execute_result"
    }
   ],
   "source": [
    "ff.sort_values(by = \"MAE\", ascending = True)"
   ]
  },
  {
   "cell_type": "code",
   "execution_count": 22,
   "id": "03c0959a-f976-46f2-a609-7f14a72da67b",
   "metadata": {},
   "outputs": [],
   "source": [
    "X_train, X_test, y_train, y_test = train_test_split(X, y, test_size = 0.2, random_state = 39)\n",
    "scaler = StandardScaler()\n",
    "X_train.loc[:, [\"CreditScore\", \"Age\", \"Balance\", \"EstimatedSalary\"]] = scaler.fit_transform(X_train.loc[:, [\"CreditScore\", \"Age\", \"Balance\", \"EstimatedSalary\"]])\n",
    "X_test.loc[:, [\"CreditScore\", \"Age\", \"Balance\", \"EstimatedSalary\"]]= scaler.transform(X_test.loc[:, [\"CreditScore\", \"Age\", \"Balance\", \"EstimatedSalary\"]])"
   ]
  },
  {
   "cell_type": "markdown",
   "id": "8d595edf-fbce-48f5-b0c9-93c8dc080463",
   "metadata": {},
   "source": [
    "# ***GridSearchCV - SVC***"
   ]
  },
  {
   "cell_type": "code",
   "execution_count": null,
   "id": "edd6068a-da10-4945-9a74-a320d096ebb4",
   "metadata": {},
   "outputs": [],
   "source": [
    "svc_estimator = SVC()\n",
    "\n",
    "svc_param_grid = {\"C\": [0.001, 0.1, 0, 10, 100], \"kernel\": [\"linear\", \"poly\", \"sigmoid\", \"rbf\"]}\n",
    "\n",
    "svc_grid = GridSearchCV(svc_estimator, svc_param_grid, cv = 5, scoring = \"accuracy\")\n",
    "\n",
    "svc_grid.fit(X_train, y_train)\n",
    "\n",
    "svc_grid.best_params_"
   ]
  },
  {
   "cell_type": "markdown",
   "id": "e2add75a-2f90-403b-a907-6f86ba660594",
   "metadata": {},
   "source": [
    "# ***KNeighborsClassifier***"
   ]
  },
  {
   "cell_type": "code",
   "execution_count": 25,
   "id": "aa6be942-8f23-428a-8f88-7dbbeb19d069",
   "metadata": {},
   "outputs": [
    {
     "data": {
      "text/plain": [
       "{'n_neighbors': 11}"
      ]
     },
     "execution_count": 25,
     "metadata": {},
     "output_type": "execute_result"
    }
   ],
   "source": [
    "knn_estimator = KNeighborsClassifier()\n",
    "\n",
    "knn_param_grid = {\"n_neighbors\": list(range(1, 20))}\n",
    "\n",
    "knn_grid = GridSearchCV(knn_estimator, knn_param_grid, cv = 5, scoring = \"accuracy\")\n",
    "\n",
    "knn_grid.fit(X_train, y_train)\n",
    "\n",
    "knn_grid.best_params_"
   ]
  },
  {
   "cell_type": "markdown",
   "id": "1d265340-6ad2-4ec6-9db3-4f4c5ffe5db2",
   "metadata": {},
   "source": [
    "# ***DecisionTreeClassifier***"
   ]
  },
  {
   "cell_type": "code",
   "execution_count": 26,
   "id": "f11ebb7b-9bbb-4c98-9fd3-f856136aefc6",
   "metadata": {},
   "outputs": [
    {
     "data": {
      "text/plain": [
       "{'criterion': 'entropy', 'max_depth': 6}"
      ]
     },
     "execution_count": 26,
     "metadata": {},
     "output_type": "execute_result"
    }
   ],
   "source": [
    "decision_estimator = DecisionTreeClassifier()\n",
    "\n",
    "decision_param_grid = {\"max_depth\": list(range(1, 20)), \"criterion\": [\"gini\", \"entropy\"]}\n",
    "\n",
    "decision_grid = GridSearchCV(decision_estimator, decision_param_grid, cv = 5, scoring = \"accuracy\")\n",
    "\n",
    "decision_grid.fit(X_train, y_train)\n",
    "\n",
    "decision_grid.best_params_"
   ]
  },
  {
   "cell_type": "markdown",
   "id": "6b11df2d-16e1-4c98-9d6e-112e3c416bd0",
   "metadata": {},
   "source": [
    "# ***RandomForestClassifier***"
   ]
  },
  {
   "cell_type": "code",
   "execution_count": 29,
   "id": "6bd99edd-bbca-4154-a8cc-2039d6fade1a",
   "metadata": {},
   "outputs": [
    {
     "data": {
      "text/plain": [
       "{'n_estimators': 17}"
      ]
     },
     "execution_count": 29,
     "metadata": {},
     "output_type": "execute_result"
    }
   ],
   "source": [
    "random_estimator = RandomForestClassifier()\n",
    "\n",
    "random_param_grid = {\"n_estimators\": list(range(1, 20))}\n",
    "\n",
    "random_grid = GridSearchCV(random_estimator, random_param_grid, cv = 5, scoring = \"accuracy\")\n",
    "\n",
    "random_grid.fit(X_train, y_train)\n",
    "\n",
    "random_grid.best_params_"
   ]
  },
  {
   "cell_type": "markdown",
   "id": "d3112746-361f-4f85-9d73-8c788d1e4975",
   "metadata": {},
   "source": [
    "# ***AdaBoostClassifier***"
   ]
  },
  {
   "cell_type": "code",
   "execution_count": 30,
   "id": "97ff5093-3de0-4132-b108-39eff55adb2b",
   "metadata": {},
   "outputs": [
    {
     "data": {
      "text/plain": [
       "{'n_estimators': 13}"
      ]
     },
     "execution_count": 30,
     "metadata": {},
     "output_type": "execute_result"
    }
   ],
   "source": [
    "ada_estimator = AdaBoostClassifier()\n",
    "\n",
    "ada_param_grid = {\"n_estimators\": list(range(1, 20))}\n",
    "\n",
    "ada_grid = GridSearchCV(ada_estimator, ada_param_grid, cv = 5, scoring = \"accuracy\")\n",
    "\n",
    "ada_grid.fit(X_train, y_train)\n",
    "\n",
    "ada_grid.best_params_"
   ]
  },
  {
   "cell_type": "markdown",
   "id": "2faa80df-d3de-45ce-a612-029bde2b3293",
   "metadata": {},
   "source": [
    "# ***GradientBoostingClassifier***"
   ]
  },
  {
   "cell_type": "code",
   "execution_count": 31,
   "id": "531bc089-9c1c-4bab-9375-299c21021c1b",
   "metadata": {},
   "outputs": [
    {
     "data": {
      "text/plain": [
       "{'learning_rate': 0.4, 'n_estimators': 15}"
      ]
     },
     "execution_count": 31,
     "metadata": {},
     "output_type": "execute_result"
    }
   ],
   "source": [
    "gradient_estimator = GradientBoostingClassifier()\n",
    "\n",
    "gradient_param_grid = {\"n_estimators\": list(range(1, 20)), \"learning_rate\" : [0, 0.1, 0.2, 0.3, 0.4, 0.5, 0.6, 0.7, 0.8, 0.9, 1]}\n",
    "\n",
    "gradient_grid = GridSearchCV(gradient_estimator, gradient_param_grid, cv = 5, scoring = \"accuracy\")\n",
    "\n",
    "gradient_grid.fit(X_train, y_train)\n",
    "\n",
    "gradient_grid.best_params_"
   ]
  },
  {
   "cell_type": "markdown",
   "id": "cdd3e4a7-2fb8-48d0-8d7d-458271203b31",
   "metadata": {},
   "source": [
    "# ***XGBClassifier***"
   ]
  },
  {
   "cell_type": "code",
   "execution_count": 32,
   "id": "dfc4d487-ff41-42af-a250-5de11ebebf1f",
   "metadata": {},
   "outputs": [
    {
     "data": {
      "text/plain": [
       "{'gamma': 0.4, 'learning_rate': 0.3, 'n_estimators': 15}"
      ]
     },
     "execution_count": 32,
     "metadata": {},
     "output_type": "execute_result"
    }
   ],
   "source": [
    "xgb_estimator = XGBClassifier()\n",
    "\n",
    "xgb_param_grid = {\"n_estimators\": list(range(5, 20)), \"learning_rate\" : [0, 0.1, 0.2, 0.3, 0.4, 0.5],\n",
    "                 \"gamma\": [0, 0.1, 0.2, 0.3, 0.4, 0.5]}\n",
    "\n",
    "xgb_grid = GridSearchCV(xgb_estimator, xgb_param_grid, cv = 5, scoring = \"accuracy\")\n",
    "\n",
    "xgb_grid.fit(X_train, y_train)\n",
    "\n",
    "xgb_grid.best_params_"
   ]
  },
  {
   "cell_type": "code",
   "execution_count": null,
   "id": "e97f4c4e-11fc-4b54-adea-8b96e4e1d290",
   "metadata": {},
   "outputs": [],
   "source": []
  }
 ],
 "metadata": {
  "kernelspec": {
   "display_name": "Python 3 (ipykernel)",
   "language": "python",
   "name": "python3"
  },
  "language_info": {
   "codemirror_mode": {
    "name": "ipython",
    "version": 3
   },
   "file_extension": ".py",
   "mimetype": "text/x-python",
   "name": "python",
   "nbconvert_exporter": "python",
   "pygments_lexer": "ipython3",
   "version": "3.11.5"
  }
 },
 "nbformat": 4,
 "nbformat_minor": 5
}
