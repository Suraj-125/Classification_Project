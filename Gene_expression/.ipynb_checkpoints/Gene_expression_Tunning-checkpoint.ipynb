{
 "cells": [
  {
   "cell_type": "code",
   "execution_count": 1,
   "id": "338bd5b9-b3ef-4d61-ad55-8aaccf6dbdb9",
   "metadata": {},
   "outputs": [],
   "source": [
    "import numpy as np\n",
    "import pandas as pd\n",
    "\n",
    "import warnings\n",
    "warnings.simplefilter(\"ignore\")"
   ]
  },
  {
   "cell_type": "code",
   "execution_count": 2,
   "id": "27d904ca-52a1-47c6-a412-18ac3edc80c9",
   "metadata": {},
   "outputs": [
    {
     "data": {
      "text/html": [
       "<div>\n",
       "<style scoped>\n",
       "    .dataframe tbody tr th:only-of-type {\n",
       "        vertical-align: middle;\n",
       "    }\n",
       "\n",
       "    .dataframe tbody tr th {\n",
       "        vertical-align: top;\n",
       "    }\n",
       "\n",
       "    .dataframe thead th {\n",
       "        text-align: right;\n",
       "    }\n",
       "</style>\n",
       "<table border=\"1\" class=\"dataframe\">\n",
       "  <thead>\n",
       "    <tr style=\"text-align: right;\">\n",
       "      <th></th>\n",
       "      <th>Gene One</th>\n",
       "      <th>Gene Two</th>\n",
       "      <th>Cancer Present</th>\n",
       "    </tr>\n",
       "  </thead>\n",
       "  <tbody>\n",
       "    <tr>\n",
       "      <th>0</th>\n",
       "      <td>4.3</td>\n",
       "      <td>3.9</td>\n",
       "      <td>1</td>\n",
       "    </tr>\n",
       "    <tr>\n",
       "      <th>1</th>\n",
       "      <td>2.5</td>\n",
       "      <td>6.3</td>\n",
       "      <td>0</td>\n",
       "    </tr>\n",
       "    <tr>\n",
       "      <th>2</th>\n",
       "      <td>5.7</td>\n",
       "      <td>3.9</td>\n",
       "      <td>1</td>\n",
       "    </tr>\n",
       "    <tr>\n",
       "      <th>3</th>\n",
       "      <td>6.1</td>\n",
       "      <td>6.2</td>\n",
       "      <td>0</td>\n",
       "    </tr>\n",
       "    <tr>\n",
       "      <th>4</th>\n",
       "      <td>7.4</td>\n",
       "      <td>3.4</td>\n",
       "      <td>1</td>\n",
       "    </tr>\n",
       "  </tbody>\n",
       "</table>\n",
       "</div>"
      ],
      "text/plain": [
       "   Gene One  Gene Two  Cancer Present\n",
       "0       4.3       3.9               1\n",
       "1       2.5       6.3               0\n",
       "2       5.7       3.9               1\n",
       "3       6.1       6.2               0\n",
       "4       7.4       3.4               1"
      ]
     },
     "execution_count": 2,
     "metadata": {},
     "output_type": "execute_result"
    }
   ],
   "source": [
    "df = pd.read_csv(\"gene_expression_analyzed.csv\")\n",
    "df.head()"
   ]
  },
  {
   "cell_type": "code",
   "execution_count": 3,
   "id": "dcdfa227-b06f-4c52-8658-258b98a640f4",
   "metadata": {},
   "outputs": [],
   "source": [
    "X = df.drop(\"Cancer Present\", axis = 1)\n",
    "y = df[\"Cancer Present\"]"
   ]
  },
  {
   "cell_type": "markdown",
   "id": "8d2020b8-69b8-4cce-a407-9034f9e9ad52",
   "metadata": {},
   "source": [
    "# Train Test Split"
   ]
  },
  {
   "cell_type": "code",
   "execution_count": 5,
   "id": "57d8d935-1f07-4d6c-b733-bebafb9037c9",
   "metadata": {},
   "outputs": [],
   "source": [
    "from sklearn.model_selection import train_test_split, GridSearchCV, cross_val_score\n",
    "from sklearn.linear_model import LogisticRegression\n",
    "from sklearn.svm import SVC\n",
    "from sklearn.neighbors import KNeighborsClassifier\n",
    "from sklearn.tree import DecisionTreeClassifier\n",
    "from sklearn.ensemble import RandomForestClassifier, AdaBoostClassifier, GradientBoostingClassifier\n",
    "from xgboost import XGBClassifier\n",
    "from sklearn.metrics import accuracy_score, confusion_matrix, classification_report, mean_absolute_error"
   ]
  },
  {
   "cell_type": "markdown",
   "id": "5f3aa40b-1bf9-48dd-9d8f-277e8ccefb15",
   "metadata": {},
   "source": [
    "***Finding Best Random State***"
   ]
  },
  {
   "cell_type": "code",
   "execution_count": 10,
   "id": "8025c408-ca7c-4ae7-9701-9f5f4b488585",
   "metadata": {},
   "outputs": [],
   "source": [
    "train = []\n",
    "test = []\n",
    "cv = []\n",
    "mae = []\n",
    "\n",
    "for i in range(100):\n",
    "    X_train, X_test, y_train, y_test = train_test_split(X, y, test_size = 0.2, random_state = i)\n",
    "    \n",
    "    model = LogisticRegression()\n",
    "\n",
    "    model.fit(X_train, y_train)\n",
    "    pred_train = model.predict(X_train)\n",
    "    pred_test = model.predict(X_test)\n",
    "\n",
    "    train_accuracy = model.score(X_train, y_train)\n",
    "    test_accuracy = model.score(X_test, y_test)\n",
    "\n",
    "    mae_score = mean_absolute_error(y_test, pred_test)\n",
    "    cv_score = cross_val_score(model, X_train, y_train, cv = 5).mean()\n",
    "\n",
    "    train.append(train_accuracy)\n",
    "    test.append(test_accuracy)\n",
    "    cv.append(cv_score)\n",
    "    mae.append(mae_score)\n",
    "\n",
    "ff = pd.DataFrame({\n",
    "    \"Train Model\": train,\n",
    "    \"Test Model\": test,\n",
    "    \"CV\": cv,\n",
    "    \"MAE\": mae\n",
    "})"
   ]
  },
  {
   "cell_type": "code",
   "execution_count": 18,
   "id": "dc573d60-2d9a-4ea1-8db2-dd791812e576",
   "metadata": {},
   "outputs": [
    {
     "data": {
      "text/html": [
       "<div>\n",
       "<style scoped>\n",
       "    .dataframe tbody tr th:only-of-type {\n",
       "        vertical-align: middle;\n",
       "    }\n",
       "\n",
       "    .dataframe tbody tr th {\n",
       "        vertical-align: top;\n",
       "    }\n",
       "\n",
       "    .dataframe thead th {\n",
       "        text-align: right;\n",
       "    }\n",
       "</style>\n",
       "<table border=\"1\" class=\"dataframe\">\n",
       "  <thead>\n",
       "    <tr style=\"text-align: right;\">\n",
       "      <th></th>\n",
       "      <th>Train Model</th>\n",
       "      <th>Test Model</th>\n",
       "      <th>CV</th>\n",
       "      <th>MAE</th>\n",
       "    </tr>\n",
       "  </thead>\n",
       "  <tbody>\n",
       "    <tr>\n",
       "      <th>0</th>\n",
       "      <td>0.841520</td>\n",
       "      <td>0.862150</td>\n",
       "      <td>0.839766</td>\n",
       "      <td>0.137850</td>\n",
       "    </tr>\n",
       "    <tr>\n",
       "      <th>1</th>\n",
       "      <td>0.843860</td>\n",
       "      <td>0.857477</td>\n",
       "      <td>0.840351</td>\n",
       "      <td>0.142523</td>\n",
       "    </tr>\n",
       "    <tr>\n",
       "      <th>2</th>\n",
       "      <td>0.850877</td>\n",
       "      <td>0.817757</td>\n",
       "      <td>0.849708</td>\n",
       "      <td>0.182243</td>\n",
       "    </tr>\n",
       "    <tr>\n",
       "      <th>3</th>\n",
       "      <td>0.849708</td>\n",
       "      <td>0.824766</td>\n",
       "      <td>0.847953</td>\n",
       "      <td>0.175234</td>\n",
       "    </tr>\n",
       "    <tr>\n",
       "      <th>4</th>\n",
       "      <td>0.839181</td>\n",
       "      <td>0.864486</td>\n",
       "      <td>0.840936</td>\n",
       "      <td>0.135514</td>\n",
       "    </tr>\n",
       "    <tr>\n",
       "      <th>...</th>\n",
       "      <td>...</td>\n",
       "      <td>...</td>\n",
       "      <td>...</td>\n",
       "      <td>...</td>\n",
       "    </tr>\n",
       "    <tr>\n",
       "      <th>95</th>\n",
       "      <td>0.846199</td>\n",
       "      <td>0.843458</td>\n",
       "      <td>0.845614</td>\n",
       "      <td>0.156542</td>\n",
       "    </tr>\n",
       "    <tr>\n",
       "      <th>96</th>\n",
       "      <td>0.851462</td>\n",
       "      <td>0.827103</td>\n",
       "      <td>0.849123</td>\n",
       "      <td>0.172897</td>\n",
       "    </tr>\n",
       "    <tr>\n",
       "      <th>97</th>\n",
       "      <td>0.843860</td>\n",
       "      <td>0.848131</td>\n",
       "      <td>0.843275</td>\n",
       "      <td>0.151869</td>\n",
       "    </tr>\n",
       "    <tr>\n",
       "      <th>98</th>\n",
       "      <td>0.844444</td>\n",
       "      <td>0.857477</td>\n",
       "      <td>0.844444</td>\n",
       "      <td>0.142523</td>\n",
       "    </tr>\n",
       "    <tr>\n",
       "      <th>99</th>\n",
       "      <td>0.849123</td>\n",
       "      <td>0.838785</td>\n",
       "      <td>0.847368</td>\n",
       "      <td>0.161215</td>\n",
       "    </tr>\n",
       "  </tbody>\n",
       "</table>\n",
       "<p>100 rows × 4 columns</p>\n",
       "</div>"
      ],
      "text/plain": [
       "    Train Model  Test Model        CV       MAE\n",
       "0      0.841520    0.862150  0.839766  0.137850\n",
       "1      0.843860    0.857477  0.840351  0.142523\n",
       "2      0.850877    0.817757  0.849708  0.182243\n",
       "3      0.849708    0.824766  0.847953  0.175234\n",
       "4      0.839181    0.864486  0.840936  0.135514\n",
       "..          ...         ...       ...       ...\n",
       "95     0.846199    0.843458  0.845614  0.156542\n",
       "96     0.851462    0.827103  0.849123  0.172897\n",
       "97     0.843860    0.848131  0.843275  0.151869\n",
       "98     0.844444    0.857477  0.844444  0.142523\n",
       "99     0.849123    0.838785  0.847368  0.161215\n",
       "\n",
       "[100 rows x 4 columns]"
      ]
     },
     "execution_count": 18,
     "metadata": {},
     "output_type": "execute_result"
    }
   ],
   "source": [
    "ff"
   ]
  },
  {
   "cell_type": "code",
   "execution_count": 19,
   "id": "03c0959a-f976-46f2-a609-7f14a72da67b",
   "metadata": {},
   "outputs": [],
   "source": [
    "X_train, X_test, y_train, y_test = train_test_split(X, y, test_size = 0.2, random_state = 0)"
   ]
  },
  {
   "cell_type": "markdown",
   "id": "8d595edf-fbce-48f5-b0c9-93c8dc080463",
   "metadata": {},
   "source": [
    "# ***GridSearchCV - SVC***"
   ]
  },
  {
   "cell_type": "code",
   "execution_count": 20,
   "id": "edd6068a-da10-4945-9a74-a320d096ebb4",
   "metadata": {},
   "outputs": [
    {
     "data": {
      "text/plain": [
       "{'C': 10, 'kernel': 'rbf'}"
      ]
     },
     "execution_count": 20,
     "metadata": {},
     "output_type": "execute_result"
    }
   ],
   "source": [
    "model = SVC()\n",
    "\n",
    "svc_param_grid = {\"C\": [0.001, 0.1, 0, 10, 100], \"kernel\": [\"linear\", \"poly\", \"sigmoid\", \"rbf\"]}\n",
    "\n",
    "svc_grid = GridSearchCV(model, svc_param_grid, cv = 5, scoring = \"accuracy\")\n",
    "\n",
    "svc_grid.fit(X_train, y_train)\n",
    "\n",
    "svc_grid.best_params_"
   ]
  },
  {
   "cell_type": "markdown",
   "id": "e2add75a-2f90-403b-a907-6f86ba660594",
   "metadata": {},
   "source": [
    "# ***KNeighborsClassifier***"
   ]
  },
  {
   "cell_type": "code",
   "execution_count": 21,
   "id": "aa6be942-8f23-428a-8f88-7dbbeb19d069",
   "metadata": {},
   "outputs": [
    {
     "data": {
      "text/plain": [
       "{'n_neighbors': 17}"
      ]
     },
     "execution_count": 21,
     "metadata": {},
     "output_type": "execute_result"
    }
   ],
   "source": [
    "model = KNeighborsClassifier()\n",
    "\n",
    "knn_param_grid = {\"n_neighbors\": list(range(1, 20))}\n",
    "\n",
    "knn_grid = GridSearchCV(model, knn_param_grid, cv = 5, scoring = \"accuracy\")\n",
    "\n",
    "knn_grid.fit(X_train, y_train)\n",
    "\n",
    "knn_grid.best_params_"
   ]
  },
  {
   "cell_type": "markdown",
   "id": "1d265340-6ad2-4ec6-9db3-4f4c5ffe5db2",
   "metadata": {},
   "source": [
    "# ***DecisionTreeClassifier***"
   ]
  },
  {
   "cell_type": "code",
   "execution_count": 22,
   "id": "f11ebb7b-9bbb-4c98-9fd3-f856136aefc6",
   "metadata": {},
   "outputs": [
    {
     "data": {
      "text/plain": [
       "{'criterion': 'entropy', 'max_depth': 6}"
      ]
     },
     "execution_count": 22,
     "metadata": {},
     "output_type": "execute_result"
    }
   ],
   "source": [
    "model = DecisionTreeClassifier()\n",
    "\n",
    "decision_param_grid = {\"max_depth\": list(range(1, 20)), \"criterion\": [\"gini\", \"entropy\"]}\n",
    "\n",
    "decision_grid = GridSearchCV(model, decision_param_grid, cv = 5, scoring = \"accuracy\")\n",
    "\n",
    "decision_grid.fit(X_train, y_train)\n",
    "\n",
    "decision_grid.best_params_"
   ]
  },
  {
   "cell_type": "markdown",
   "id": "6b11df2d-16e1-4c98-9d6e-112e3c416bd0",
   "metadata": {},
   "source": [
    "# ***RandomForestClassifier***"
   ]
  },
  {
   "cell_type": "code",
   "execution_count": 23,
   "id": "6bd99edd-bbca-4154-a8cc-2039d6fade1a",
   "metadata": {},
   "outputs": [
    {
     "data": {
      "text/plain": [
       "{'n_estimators': 9}"
      ]
     },
     "execution_count": 23,
     "metadata": {},
     "output_type": "execute_result"
    }
   ],
   "source": [
    "model = RandomForestClassifier()\n",
    "\n",
    "random_param_grid = {\"n_estimators\": list(range(1, 20))}\n",
    "\n",
    "random_grid = GridSearchCV(model, random_param_grid, cv = 5, scoring = \"accuracy\")\n",
    "\n",
    "random_grid.fit(X_train, y_train)\n",
    "\n",
    "random_grid.best_params_"
   ]
  },
  {
   "cell_type": "markdown",
   "id": "d3112746-361f-4f85-9d73-8c788d1e4975",
   "metadata": {},
   "source": [
    "# ***AdaBoostClassifier***"
   ]
  },
  {
   "cell_type": "code",
   "execution_count": 24,
   "id": "97ff5093-3de0-4132-b108-39eff55adb2b",
   "metadata": {},
   "outputs": [
    {
     "data": {
      "text/plain": [
       "{'n_estimators': 16}"
      ]
     },
     "execution_count": 24,
     "metadata": {},
     "output_type": "execute_result"
    }
   ],
   "source": [
    "model = AdaBoostClassifier()\n",
    "\n",
    "ada_param_grid = {\"n_estimators\": list(range(1, 20))}\n",
    "\n",
    "ada_grid = GridSearchCV(model, ada_param_grid, cv = 5, scoring = \"accuracy\")\n",
    "\n",
    "ada_grid.fit(X_train, y_train)\n",
    "\n",
    "ada_grid.best_params_"
   ]
  },
  {
   "cell_type": "markdown",
   "id": "2faa80df-d3de-45ce-a612-029bde2b3293",
   "metadata": {},
   "source": [
    "# ***GradientBoostingClassifier***"
   ]
  },
  {
   "cell_type": "code",
   "execution_count": 26,
   "id": "531bc089-9c1c-4bab-9375-299c21021c1b",
   "metadata": {},
   "outputs": [
    {
     "data": {
      "text/plain": [
       "{'learning_rate': 0.2, 'n_estimators': 14}"
      ]
     },
     "execution_count": 26,
     "metadata": {},
     "output_type": "execute_result"
    }
   ],
   "source": [
    "model = GradientBoostingClassifier()\n",
    "\n",
    "gradient_param_grid = {\"n_estimators\": list(range(1, 20)), \"learning_rate\" : [0, 0.1, 0.2, 0.3, 0.4, 0.5, 0.6, 0.7, 0.8, 0.9, 1]}\n",
    "\n",
    "gradient_grid = GridSearchCV(model, gradient_param_grid, cv = 5, scoring = \"accuracy\")\n",
    "\n",
    "gradient_grid.fit(X_train, y_train)\n",
    "\n",
    "gradient_grid.best_params_"
   ]
  },
  {
   "cell_type": "markdown",
   "id": "cdd3e4a7-2fb8-48d0-8d7d-458271203b31",
   "metadata": {},
   "source": [
    "# ***XGBClassifier***"
   ]
  },
  {
   "cell_type": "code",
   "execution_count": 27,
   "id": "dfc4d487-ff41-42af-a250-5de11ebebf1f",
   "metadata": {},
   "outputs": [
    {
     "data": {
      "text/plain": [
       "{'gamma': 0.3, 'learning_rate': 0.5, 'n_estimators': 9}"
      ]
     },
     "execution_count": 27,
     "metadata": {},
     "output_type": "execute_result"
    }
   ],
   "source": [
    "model = XGBClassifier()\n",
    "\n",
    "xgb_param_grid = {\"n_estimators\": list(range(1, 20)), \"learning_rate\" : [0, 0.1, 0.2, 0.3, 0.4, 0.5],\n",
    "                 \"gamma\": [0, 0.1, 0.2, 0.3, 0.4, 0.5]}\n",
    "\n",
    "xgb_grid = GridSearchCV(model, xgb_param_grid, cv = 5, scoring = \"accuracy\")\n",
    "\n",
    "xgb_grid.fit(X_train, y_train)\n",
    "\n",
    "xgb_grid.best_params_"
   ]
  }
 ],
 "metadata": {
  "kernelspec": {
   "display_name": "Python 3 (ipykernel)",
   "language": "python",
   "name": "python3"
  },
  "language_info": {
   "codemirror_mode": {
    "name": "ipython",
    "version": 3
   },
   "file_extension": ".py",
   "mimetype": "text/x-python",
   "name": "python",
   "nbconvert_exporter": "python",
   "pygments_lexer": "ipython3",
   "version": "3.11.5"
  }
 },
 "nbformat": 4,
 "nbformat_minor": 5
}
