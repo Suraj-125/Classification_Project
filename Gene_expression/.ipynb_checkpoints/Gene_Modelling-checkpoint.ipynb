{
 "cells": [
  {
   "cell_type": "code",
   "execution_count": 2,
   "id": "02eb5047-2be5-4f16-99a2-982f160587e4",
   "metadata": {},
   "outputs": [],
   "source": [
    "import numpy as np\n",
    "import pandas as pd\n",
    "import matplotlib.pyplot as plt\n",
    "import seaborn as sns\n",
    "\n",
    "import warnings\n",
    "warnings.simplefilter(\"ignore\")"
   ]
  },
  {
   "cell_type": "code",
   "execution_count": 3,
   "id": "c0deca4d-e8f6-4a38-a544-991e6da6443e",
   "metadata": {},
   "outputs": [
    {
     "data": {
      "text/html": [
       "<div>\n",
       "<style scoped>\n",
       "    .dataframe tbody tr th:only-of-type {\n",
       "        vertical-align: middle;\n",
       "    }\n",
       "\n",
       "    .dataframe tbody tr th {\n",
       "        vertical-align: top;\n",
       "    }\n",
       "\n",
       "    .dataframe thead th {\n",
       "        text-align: right;\n",
       "    }\n",
       "</style>\n",
       "<table border=\"1\" class=\"dataframe\">\n",
       "  <thead>\n",
       "    <tr style=\"text-align: right;\">\n",
       "      <th></th>\n",
       "      <th>Gene One</th>\n",
       "      <th>Gene Two</th>\n",
       "      <th>Cancer Present</th>\n",
       "    </tr>\n",
       "  </thead>\n",
       "  <tbody>\n",
       "    <tr>\n",
       "      <th>0</th>\n",
       "      <td>4.3</td>\n",
       "      <td>3.9</td>\n",
       "      <td>1</td>\n",
       "    </tr>\n",
       "    <tr>\n",
       "      <th>1</th>\n",
       "      <td>2.5</td>\n",
       "      <td>6.3</td>\n",
       "      <td>0</td>\n",
       "    </tr>\n",
       "    <tr>\n",
       "      <th>2</th>\n",
       "      <td>5.7</td>\n",
       "      <td>3.9</td>\n",
       "      <td>1</td>\n",
       "    </tr>\n",
       "    <tr>\n",
       "      <th>3</th>\n",
       "      <td>6.1</td>\n",
       "      <td>6.2</td>\n",
       "      <td>0</td>\n",
       "    </tr>\n",
       "    <tr>\n",
       "      <th>4</th>\n",
       "      <td>7.4</td>\n",
       "      <td>3.4</td>\n",
       "      <td>1</td>\n",
       "    </tr>\n",
       "  </tbody>\n",
       "</table>\n",
       "</div>"
      ],
      "text/plain": [
       "   Gene One  Gene Two  Cancer Present\n",
       "0       4.3       3.9               1\n",
       "1       2.5       6.3               0\n",
       "2       5.7       3.9               1\n",
       "3       6.1       6.2               0\n",
       "4       7.4       3.4               1"
      ]
     },
     "execution_count": 3,
     "metadata": {},
     "output_type": "execute_result"
    }
   ],
   "source": [
    "df = pd.read_csv(\"gene_expression_analyzed.csv\")\n",
    "df.head()"
   ]
  },
  {
   "cell_type": "code",
   "execution_count": 4,
   "id": "0803c7c0-be71-4937-b3e3-3544db4c40e8",
   "metadata": {},
   "outputs": [],
   "source": [
    "X = df.drop(\"Cancer Present\", axis = 1)\n",
    "y = df[\"Cancer Present\"]"
   ]
  },
  {
   "cell_type": "markdown",
   "id": "478b3c8b-a6f6-4866-9086-2efbc06dce3a",
   "metadata": {},
   "source": [
    "# ***Libraries***"
   ]
  },
  {
   "cell_type": "code",
   "execution_count": 5,
   "id": "ad1145c9-9b2b-4f4e-b140-5dfa698f8ab3",
   "metadata": {},
   "outputs": [],
   "source": [
    "from sklearn.model_selection import train_test_split, cross_val_score, GridSearchCV\n",
    "from sklearn.pipeline import Pipeline\n",
    "from sklearn.compose import ColumnTransformer\n",
    "from sklearn.preprocessing import StandardScaler, OneHotEncoder\n",
    "from sklearn.metrics import accuracy_score, confusion_matrix, classification_report, mean_absolute_error"
   ]
  },
  {
   "cell_type": "code",
   "execution_count": 6,
   "id": "5095b114-3e69-4ed2-82d6-b46bac35e097",
   "metadata": {},
   "outputs": [],
   "source": [
    "from sklearn.linear_model import LogisticRegression\n",
    "from sklearn.svm import SVC\n",
    "from sklearn.neighbors import KNeighborsClassifier\n",
    "from sklearn.tree import DecisionTreeClassifier\n",
    "from sklearn.ensemble import RandomForestClassifier, AdaBoostClassifier, GradientBoostingClassifier\n",
    "from xgboost import XGBClassifier"
   ]
  },
  {
   "cell_type": "markdown",
   "id": "2f411474-a32a-4bc4-ba0f-dd39d4b3114a",
   "metadata": {},
   "source": [
    "***Train_Test_Split***"
   ]
  },
  {
   "cell_type": "code",
   "execution_count": 46,
   "id": "3cdb7eeb-d53a-4315-8cf6-7e6ee4dc7caf",
   "metadata": {},
   "outputs": [],
   "source": [
    "X_train, X_test, y_train, y_test = train_test_split(X, y, test_size = 0.2, random_state = 0)"
   ]
  },
  {
   "cell_type": "markdown",
   "id": "ba65e733-32b1-4bd2-a70a-ceb2af69318c",
   "metadata": {},
   "source": [
    "# ***LogisticRegression***"
   ]
  },
  {
   "cell_type": "code",
   "execution_count": 47,
   "id": "3b0e92cb-560f-4e70-804e-667164cb0ebe",
   "metadata": {},
   "outputs": [
    {
     "name": "stdout",
     "output_type": "stream",
     "text": [
      "Training Accuracy : 0.8415204678362573\n",
      "Testing Accuracy : 0.8621495327102804\n",
      "CV Score : 0.839766081871345\n",
      "MAE : 0.1378504672897196\n"
     ]
    }
   ],
   "source": [
    "model = LogisticRegression()\n",
    "\n",
    "model.fit(X_train, y_train)\n",
    "pred_test = model.predict(X_test)\n",
    "print(\"Training Accuracy :\", model.score(X_train, y_train))\n",
    "print(\"Testing Accuracy :\", model.score(X_test, y_test))\n",
    "print(\"CV Score :\", cross_val_score(model, X_train, y_train, cv = 5).mean())\n",
    "print(\"MAE :\", mean_absolute_error(y_test, pred_test))"
   ]
  },
  {
   "cell_type": "code",
   "execution_count": 9,
   "id": "dd6ed2c9-0c44-48f7-9edf-d7d0620a9a4b",
   "metadata": {},
   "outputs": [
    {
     "data": {
      "text/plain": [
       "array([[189,  21],\n",
       "       [ 46, 172]], dtype=int64)"
      ]
     },
     "execution_count": 9,
     "metadata": {},
     "output_type": "execute_result"
    }
   ],
   "source": [
    "confusion_matrix(y_test, pred_test)"
   ]
  },
  {
   "cell_type": "code",
   "execution_count": 10,
   "id": "13c3c480-5ce4-4142-8171-bd7bc2574cd3",
   "metadata": {},
   "outputs": [
    {
     "name": "stdout",
     "output_type": "stream",
     "text": [
      "              precision    recall  f1-score   support\n",
      "\n",
      "           0       0.80      0.90      0.85       210\n",
      "           1       0.89      0.79      0.84       218\n",
      "\n",
      "    accuracy                           0.84       428\n",
      "   macro avg       0.85      0.84      0.84       428\n",
      "weighted avg       0.85      0.84      0.84       428\n",
      "\n"
     ]
    }
   ],
   "source": [
    "print(classification_report(y_test, pred_test))"
   ]
  },
  {
   "cell_type": "markdown",
   "id": "0cb3519f-b629-4368-ad45-2b77bbad22ac",
   "metadata": {},
   "source": [
    "# ***SVM - SVC***"
   ]
  },
  {
   "cell_type": "code",
   "execution_count": 11,
   "id": "16ea1db4-f568-467c-ae2a-b1de28b12028",
   "metadata": {},
   "outputs": [
    {
     "name": "stdout",
     "output_type": "stream",
     "text": [
      "Training Accuracy : 0.9198830409356725\n",
      "Testing Accuracy : 0.9158878504672897\n",
      "CV Score : 0.9192982456140351\n",
      "MAE : 0.08411214953271028\n"
     ]
    }
   ],
   "source": [
    "model = SVC(C = 10, kernel = \"rbf\")\n",
    "\n",
    "model.fit(X_train, y_train)\n",
    "pred_test = model.predict(X_test)\n",
    "print(\"Training Accuracy :\", model.score(X_train, y_train))\n",
    "print(\"Testing Accuracy :\", model.score(X_test, y_test))\n",
    "print(\"CV Score :\", cross_val_score(model, X_train, y_train, cv = 5).mean())\n",
    "print(\"MAE :\", mean_absolute_error(y_test, pred_test))"
   ]
  },
  {
   "cell_type": "code",
   "execution_count": 12,
   "id": "24f34c5e-3f84-4dec-98e1-0e1e8c0c8e65",
   "metadata": {},
   "outputs": [
    {
     "data": {
      "text/plain": [
       "array([[201,   9],\n",
       "       [ 27, 191]], dtype=int64)"
      ]
     },
     "execution_count": 12,
     "metadata": {},
     "output_type": "execute_result"
    }
   ],
   "source": [
    "confusion_matrix(y_test, pred_test)"
   ]
  },
  {
   "cell_type": "code",
   "execution_count": 13,
   "id": "300cc121-416c-48af-8c3d-c977d544916a",
   "metadata": {},
   "outputs": [
    {
     "name": "stdout",
     "output_type": "stream",
     "text": [
      "              precision    recall  f1-score   support\n",
      "\n",
      "           0       0.88      0.96      0.92       210\n",
      "           1       0.95      0.88      0.91       218\n",
      "\n",
      "    accuracy                           0.92       428\n",
      "   macro avg       0.92      0.92      0.92       428\n",
      "weighted avg       0.92      0.92      0.92       428\n",
      "\n"
     ]
    }
   ],
   "source": [
    "print(classification_report(y_test, pred_test))"
   ]
  },
  {
   "cell_type": "markdown",
   "id": "d10b5056-f633-4b03-a6b0-fc6f88f8b2fc",
   "metadata": {},
   "source": [
    "# ***KNeighborsClassifier***"
   ]
  },
  {
   "cell_type": "code",
   "execution_count": 14,
   "id": "6db36bda-622b-4740-b6a9-e9715e045088",
   "metadata": {},
   "outputs": [
    {
     "name": "stdout",
     "output_type": "stream",
     "text": [
      "Training Accuracy : 0.9239766081871345\n",
      "Testing Accuracy : 0.9088785046728972\n",
      "CV Score : 0.9169590643274853\n",
      "MAE : 0.0911214953271028\n"
     ]
    }
   ],
   "source": [
    "model = KNeighborsClassifier(n_neighbors = 17)\n",
    "\n",
    "model.fit(X_train, y_train)\n",
    "pred_test = model.predict(X_test)\n",
    "print(\"Training Accuracy :\", model.score(X_train, y_train))\n",
    "print(\"Testing Accuracy :\", model.score(X_test, y_test))\n",
    "print(\"CV Score :\", cross_val_score(model, X_train, y_train, cv = 5).mean())\n",
    "print(\"MAE :\", mean_absolute_error(y_test, pred_test))"
   ]
  },
  {
   "cell_type": "code",
   "execution_count": 15,
   "id": "dddbcfdc-c6af-404c-b484-30d7649d2767",
   "metadata": {},
   "outputs": [
    {
     "data": {
      "text/plain": [
       "array([[199,  11],\n",
       "       [ 28, 190]], dtype=int64)"
      ]
     },
     "execution_count": 15,
     "metadata": {},
     "output_type": "execute_result"
    }
   ],
   "source": [
    "confusion_matrix(y_test, pred_test)"
   ]
  },
  {
   "cell_type": "code",
   "execution_count": 16,
   "id": "e596327f-ffe2-4808-bb45-3cdadc270a6b",
   "metadata": {},
   "outputs": [
    {
     "name": "stdout",
     "output_type": "stream",
     "text": [
      "              precision    recall  f1-score   support\n",
      "\n",
      "           0       0.88      0.95      0.91       210\n",
      "           1       0.95      0.87      0.91       218\n",
      "\n",
      "    accuracy                           0.91       428\n",
      "   macro avg       0.91      0.91      0.91       428\n",
      "weighted avg       0.91      0.91      0.91       428\n",
      "\n"
     ]
    }
   ],
   "source": [
    "print(classification_report(y_test, pred_test))"
   ]
  },
  {
   "cell_type": "markdown",
   "id": "eb483ea4-3cd1-4faf-b573-4669c65b5514",
   "metadata": {},
   "source": [
    "# ***DecisionTreeClassifier***"
   ]
  },
  {
   "cell_type": "code",
   "execution_count": 17,
   "id": "f1a31273-65e4-49ab-bed4-d2c8bde7563d",
   "metadata": {},
   "outputs": [
    {
     "name": "stdout",
     "output_type": "stream",
     "text": [
      "Training Accuracy : 0.9128654970760234\n",
      "Testing Accuracy : 0.8714953271028038\n",
      "CV Score : 0.9134502923976608\n",
      "MAE : 0.12850467289719625\n"
     ]
    }
   ],
   "source": [
    "model = DecisionTreeClassifier(max_depth = 6, criterion = \"entropy\", random_state = 1)\n",
    "\n",
    "model.fit(X_train, y_train)\n",
    "pred_test = model.predict(X_test)\n",
    "print(\"Training Accuracy :\", model.score(X_train, y_train))\n",
    "print(\"Testing Accuracy :\", model.score(X_test, y_test))\n",
    "print(\"CV Score :\", cross_val_score(model, X_train, y_train, cv = 5).mean())\n",
    "print(\"MAE :\", mean_absolute_error(y_test, pred_test))"
   ]
  },
  {
   "cell_type": "code",
   "execution_count": 18,
   "id": "5b577fb0-486e-4168-9f51-ab1ad4d8a9af",
   "metadata": {},
   "outputs": [
    {
     "data": {
      "text/plain": [
       "array([[195,  15],\n",
       "       [ 40, 178]], dtype=int64)"
      ]
     },
     "execution_count": 18,
     "metadata": {},
     "output_type": "execute_result"
    }
   ],
   "source": [
    "confusion_matrix(y_test, pred_test)"
   ]
  },
  {
   "cell_type": "code",
   "execution_count": 19,
   "id": "536973be-de05-4a28-82d8-54c605fd5ef9",
   "metadata": {},
   "outputs": [
    {
     "name": "stdout",
     "output_type": "stream",
     "text": [
      "              precision    recall  f1-score   support\n",
      "\n",
      "           0       0.83      0.93      0.88       210\n",
      "           1       0.92      0.82      0.87       218\n",
      "\n",
      "    accuracy                           0.87       428\n",
      "   macro avg       0.88      0.87      0.87       428\n",
      "weighted avg       0.88      0.87      0.87       428\n",
      "\n"
     ]
    }
   ],
   "source": [
    "print(classification_report(y_test, pred_test))"
   ]
  },
  {
   "cell_type": "markdown",
   "id": "f81d9633-2d75-4bfa-b4fe-d466ff5174a5",
   "metadata": {},
   "source": [
    "# ***RandomForestClassifier***"
   ]
  },
  {
   "cell_type": "code",
   "execution_count": 20,
   "id": "ec7f7b52-60cc-4c84-831d-1c2066a1581a",
   "metadata": {},
   "outputs": [
    {
     "name": "stdout",
     "output_type": "stream",
     "text": [
      "Training Accuracy : 0.9643274853801169\n",
      "Testing Accuracy : 0.8574766355140186\n",
      "CV Score : 0.8859649122807017\n",
      "MAE : 0.1425233644859813\n"
     ]
    }
   ],
   "source": [
    "model = RandomForestClassifier(n_estimators = 9, random_state = 0)\n",
    "\n",
    "model.fit(X_train, y_train)\n",
    "pred_test = model.predict(X_test)\n",
    "print(\"Training Accuracy :\", model.score(X_train, y_train))\n",
    "print(\"Testing Accuracy :\", model.score(X_test, y_test))\n",
    "print(\"CV Score :\", cross_val_score(model, X_train, y_train, cv = 5).mean())\n",
    "print(\"MAE :\", mean_absolute_error(y_test, pred_test))"
   ]
  },
  {
   "cell_type": "code",
   "execution_count": 21,
   "id": "82a448f5-f818-4781-93fb-e3d263c102c7",
   "metadata": {},
   "outputs": [
    {
     "data": {
      "text/plain": [
       "array([[190,  20],\n",
       "       [ 41, 177]], dtype=int64)"
      ]
     },
     "execution_count": 21,
     "metadata": {},
     "output_type": "execute_result"
    }
   ],
   "source": [
    "confusion_matrix(y_test, pred_test)"
   ]
  },
  {
   "cell_type": "code",
   "execution_count": 22,
   "id": "871ccb61-d7aa-4951-81df-36eafe087390",
   "metadata": {},
   "outputs": [
    {
     "name": "stdout",
     "output_type": "stream",
     "text": [
      "              precision    recall  f1-score   support\n",
      "\n",
      "           0       0.82      0.90      0.86       210\n",
      "           1       0.90      0.81      0.85       218\n",
      "\n",
      "    accuracy                           0.86       428\n",
      "   macro avg       0.86      0.86      0.86       428\n",
      "weighted avg       0.86      0.86      0.86       428\n",
      "\n"
     ]
    }
   ],
   "source": [
    "print(classification_report(y_test, pred_test))"
   ]
  },
  {
   "cell_type": "markdown",
   "id": "dac3ea84-1242-4bab-b523-dc203a2461d3",
   "metadata": {},
   "source": [
    "# ***AdaBoostClassifier***"
   ]
  },
  {
   "cell_type": "code",
   "execution_count": 23,
   "id": "3094b159-b20a-46a7-b9b7-2eefac6796f9",
   "metadata": {},
   "outputs": [
    {
     "name": "stdout",
     "output_type": "stream",
     "text": [
      "Training Accuracy : 0.9111111111111111\n",
      "Testing Accuracy : 0.8855140186915887\n",
      "CV Score : 0.9005847953216375\n",
      "MAE : 0.11448598130841121\n"
     ]
    }
   ],
   "source": [
    "model = AdaBoostClassifier(n_estimators = 16, random_state = 0)\n",
    "\n",
    "model.fit(X_train, y_train)\n",
    "pred_test = model.predict(X_test)\n",
    "print(\"Training Accuracy :\", model.score(X_train, y_train))\n",
    "print(\"Testing Accuracy :\", model.score(X_test, y_test))\n",
    "print(\"CV Score :\", cross_val_score(model, X_train, y_train, cv = 5).mean())\n",
    "print(\"MAE :\", mean_absolute_error(y_test, pred_test))"
   ]
  },
  {
   "cell_type": "code",
   "execution_count": 24,
   "id": "6bf286f2-0fc9-4f1e-8e28-9476b4e016c2",
   "metadata": {},
   "outputs": [
    {
     "data": {
      "text/plain": [
       "array([[200,  10],\n",
       "       [ 39, 179]], dtype=int64)"
      ]
     },
     "execution_count": 24,
     "metadata": {},
     "output_type": "execute_result"
    }
   ],
   "source": [
    "confusion_matrix(y_test, pred_test)"
   ]
  },
  {
   "cell_type": "code",
   "execution_count": 25,
   "id": "bd2e6168-c082-4a02-80f7-b3ca3b543ef2",
   "metadata": {},
   "outputs": [
    {
     "name": "stdout",
     "output_type": "stream",
     "text": [
      "              precision    recall  f1-score   support\n",
      "\n",
      "           0       0.84      0.95      0.89       210\n",
      "           1       0.95      0.82      0.88       218\n",
      "\n",
      "    accuracy                           0.89       428\n",
      "   macro avg       0.89      0.89      0.89       428\n",
      "weighted avg       0.89      0.89      0.89       428\n",
      "\n"
     ]
    }
   ],
   "source": [
    "print(classification_report(y_test, pred_test))"
   ]
  },
  {
   "cell_type": "markdown",
   "id": "fa883756-b06b-483e-a2ae-476fe51d815e",
   "metadata": {},
   "source": [
    "# ***GradientBoostingClassifier***"
   ]
  },
  {
   "cell_type": "code",
   "execution_count": 26,
   "id": "a5ffc753-579d-4cfd-8644-daadcdc599a4",
   "metadata": {},
   "outputs": [
    {
     "name": "stdout",
     "output_type": "stream",
     "text": [
      "Training Accuracy : 0.9228070175438596\n",
      "Testing Accuracy : 0.9182242990654206\n",
      "CV Score : 0.9152046783625731\n",
      "MAE : 0.08177570093457943\n"
     ]
    }
   ],
   "source": [
    "model = GradientBoostingClassifier(n_estimators = 14, random_state = 0, learning_rate = 0.2)\n",
    "\n",
    "model.fit(X_train, y_train)\n",
    "pred_test = model.predict(X_test)\n",
    "print(\"Training Accuracy :\", model.score(X_train, y_train))\n",
    "print(\"Testing Accuracy :\", model.score(X_test, y_test))\n",
    "print(\"CV Score :\", cross_val_score(model, X_train, y_train, cv = 5).mean())\n",
    "print(\"MAE :\", mean_absolute_error(y_test, pred_test))"
   ]
  },
  {
   "cell_type": "code",
   "execution_count": 27,
   "id": "9a766cff-bb1e-4104-93b1-706fefda5949",
   "metadata": {},
   "outputs": [
    {
     "data": {
      "text/plain": [
       "array([[199,  11],\n",
       "       [ 24, 194]], dtype=int64)"
      ]
     },
     "execution_count": 27,
     "metadata": {},
     "output_type": "execute_result"
    }
   ],
   "source": [
    "confusion_matrix(y_test, pred_test)"
   ]
  },
  {
   "cell_type": "code",
   "execution_count": 28,
   "id": "512b2508-e467-41ca-8115-4977baccb441",
   "metadata": {},
   "outputs": [
    {
     "name": "stdout",
     "output_type": "stream",
     "text": [
      "              precision    recall  f1-score   support\n",
      "\n",
      "           0       0.89      0.95      0.92       210\n",
      "           1       0.95      0.89      0.92       218\n",
      "\n",
      "    accuracy                           0.92       428\n",
      "   macro avg       0.92      0.92      0.92       428\n",
      "weighted avg       0.92      0.92      0.92       428\n",
      "\n"
     ]
    }
   ],
   "source": [
    "print(classification_report(y_test, pred_test))"
   ]
  },
  {
   "cell_type": "markdown",
   "id": "d19a56c2-f8a3-46c9-a4ce-e3c3f18f2dea",
   "metadata": {},
   "source": [
    "# ***XGBClassifier***"
   ]
  },
  {
   "cell_type": "code",
   "execution_count": 29,
   "id": "c670bcd8-aad6-4c5a-9e8d-de1ad3f49cc8",
   "metadata": {},
   "outputs": [
    {
     "name": "stdout",
     "output_type": "stream",
     "text": [
      "Training Accuracy : 0.9292397660818713\n",
      "Testing Accuracy : 0.897196261682243\n",
      "CV Score : 0.9140350877192983\n",
      "MAE : 0.102803738317757\n"
     ]
    }
   ],
   "source": [
    "model = XGBClassifier(n_estimators = 9, random_state = 0, learning_rate = 0.3, gamma = 0.5)\n",
    "\n",
    "model.fit(X_train, y_train)\n",
    "pred_test = model.predict(X_test)\n",
    "print(\"Training Accuracy :\", model.score(X_train, y_train))\n",
    "print(\"Testing Accuracy :\", model.score(X_test, y_test))\n",
    "print(\"CV Score :\", cross_val_score(model, X_train, y_train, cv = 5).mean())\n",
    "print(\"MAE :\", mean_absolute_error(y_test, pred_test))"
   ]
  },
  {
   "cell_type": "code",
   "execution_count": 30,
   "id": "a645d411-1729-463e-9dfc-fe739a20a7e8",
   "metadata": {},
   "outputs": [
    {
     "data": {
      "text/plain": [
       "array([[202,   8],\n",
       "       [ 36, 182]], dtype=int64)"
      ]
     },
     "execution_count": 30,
     "metadata": {},
     "output_type": "execute_result"
    }
   ],
   "source": [
    "confusion_matrix(y_test, pred_test)"
   ]
  },
  {
   "cell_type": "code",
   "execution_count": 31,
   "id": "b3fa300c-ff67-4bbe-8414-a2d79871f69f",
   "metadata": {},
   "outputs": [
    {
     "name": "stdout",
     "output_type": "stream",
     "text": [
      "              precision    recall  f1-score   support\n",
      "\n",
      "           0       0.85      0.96      0.90       210\n",
      "           1       0.96      0.83      0.89       218\n",
      "\n",
      "    accuracy                           0.90       428\n",
      "   macro avg       0.90      0.90      0.90       428\n",
      "weighted avg       0.90      0.90      0.90       428\n",
      "\n"
     ]
    }
   ],
   "source": [
    "print(classification_report(y_test, pred_test))"
   ]
  },
  {
   "cell_type": "markdown",
   "id": "d8c29b1b-ec5a-4a70-8235-ecbad656b115",
   "metadata": {},
   "source": [
    "# ***FINAL MODEL***"
   ]
  },
  {
   "cell_type": "code",
   "execution_count": 48,
   "id": "784c2389-5826-4cb7-91c2-606e87d967c7",
   "metadata": {},
   "outputs": [
    {
     "name": "stdout",
     "output_type": "stream",
     "text": [
      "Training Accuracy : 0.92046783625731\n",
      "Testing Accuracy : 0.9322429906542056\n",
      "CV Score : 0.9140350877192981\n",
      "MAE : 0.06775700934579439\n"
     ]
    }
   ],
   "source": [
    "model = GradientBoostingClassifier(n_estimators = 14, random_state = 0, learning_rate = 0.2)\n",
    "\n",
    "model.fit(X_train, y_train)\n",
    "pred_test = model.predict(X_test)\n",
    "print(\"Training Accuracy :\", model.score(X_train, y_train))\n",
    "print(\"Testing Accuracy :\", model.score(X_test, y_test))\n",
    "print(\"CV Score :\", cross_val_score(model, X_train, y_train, cv = 5).mean())\n",
    "print(\"MAE :\", mean_absolute_error(y_test, pred_test))"
   ]
  },
  {
   "cell_type": "code",
   "execution_count": 37,
   "id": "582105a3-dd46-471d-ad5a-af2c0cddbe24",
   "metadata": {},
   "outputs": [
    {
     "data": {
      "text/html": [
       "<div>\n",
       "<style scoped>\n",
       "    .dataframe tbody tr th:only-of-type {\n",
       "        vertical-align: middle;\n",
       "    }\n",
       "\n",
       "    .dataframe tbody tr th {\n",
       "        vertical-align: top;\n",
       "    }\n",
       "\n",
       "    .dataframe thead th {\n",
       "        text-align: right;\n",
       "    }\n",
       "</style>\n",
       "<table border=\"1\" class=\"dataframe\">\n",
       "  <thead>\n",
       "    <tr style=\"text-align: right;\">\n",
       "      <th></th>\n",
       "      <th>Gene One</th>\n",
       "      <th>Gene Two</th>\n",
       "      <th>Cancer Present</th>\n",
       "    </tr>\n",
       "  </thead>\n",
       "  <tbody>\n",
       "    <tr>\n",
       "      <th>0</th>\n",
       "      <td>4.3</td>\n",
       "      <td>3.9</td>\n",
       "      <td>1</td>\n",
       "    </tr>\n",
       "  </tbody>\n",
       "</table>\n",
       "</div>"
      ],
      "text/plain": [
       "   Gene One  Gene Two  Cancer Present\n",
       "0       4.3       3.9               1"
      ]
     },
     "execution_count": 37,
     "metadata": {},
     "output_type": "execute_result"
    }
   ],
   "source": [
    "df.head(1)"
   ]
  },
  {
   "cell_type": "code",
   "execution_count": 34,
   "id": "99c6f93a-b38f-4799-8d12-316c15ea2a12",
   "metadata": {},
   "outputs": [],
   "source": [
    "import pickle\n",
    "with open(\"gene_gradient_model.pkl\", \"wb\") as file:\n",
    "    pickle.dump(model, file)"
   ]
  },
  {
   "cell_type": "code",
   "execution_count": 35,
   "id": "a2e06ea0-91b4-4c13-88a5-1e89c40dce14",
   "metadata": {},
   "outputs": [],
   "source": [
    "with open(\"gene_gradient_model.pkl\", \"rb\") as file:\n",
    "    loaded = pickle.load(file)"
   ]
  },
  {
   "cell_type": "code",
   "execution_count": 45,
   "id": "6716635b-d095-45e4-9c0c-4b9bd95afa61",
   "metadata": {},
   "outputs": [
    {
     "name": "stdout",
     "output_type": "stream",
     "text": [
      "Cancer isn't present. You are safe !\n"
     ]
    }
   ],
   "source": [
    "final = pd.DataFrame({\n",
    "    \"Gene One\":5.3,\n",
    "    \"Gene Two\":8.9\n",
    "}, index = [0])\n",
    "\n",
    "output = loaded.predict(final)[0]\n",
    "if output == 1:\n",
    "    print(f\"It seems cancer is present.\")\n",
    "else:\n",
    "    print(\"Cancer isn't present. You are safe !\")"
   ]
  }
 ],
 "metadata": {
  "kernelspec": {
   "display_name": "Python 3 (ipykernel)",
   "language": "python",
   "name": "python3"
  },
  "language_info": {
   "codemirror_mode": {
    "name": "ipython",
    "version": 3
   },
   "file_extension": ".py",
   "mimetype": "text/x-python",
   "name": "python",
   "nbconvert_exporter": "python",
   "pygments_lexer": "ipython3",
   "version": "3.11.5"
  }
 },
 "nbformat": 4,
 "nbformat_minor": 5
}
