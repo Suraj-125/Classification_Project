{
 "cells": [
  {
   "cell_type": "code",
   "execution_count": 1,
   "id": "02eb5047-2be5-4f16-99a2-982f160587e4",
   "metadata": {},
   "outputs": [],
   "source": [
    "import numpy as np\n",
    "import pandas as pd\n",
    "import matplotlib.pyplot as plt\n",
    "import seaborn as sns\n",
    "\n",
    "import warnings\n",
    "warnings.simplefilter(\"ignore\")"
   ]
  },
  {
   "cell_type": "code",
   "execution_count": 2,
   "id": "c0deca4d-e8f6-4a38-a544-991e6da6443e",
   "metadata": {},
   "outputs": [
    {
     "data": {
      "text/html": [
       "<div>\n",
       "<style scoped>\n",
       "    .dataframe tbody tr th:only-of-type {\n",
       "        vertical-align: middle;\n",
       "    }\n",
       "\n",
       "    .dataframe tbody tr th {\n",
       "        vertical-align: top;\n",
       "    }\n",
       "\n",
       "    .dataframe thead th {\n",
       "        text-align: right;\n",
       "    }\n",
       "</style>\n",
       "<table border=\"1\" class=\"dataframe\">\n",
       "  <thead>\n",
       "    <tr style=\"text-align: right;\">\n",
       "      <th></th>\n",
       "      <th>species</th>\n",
       "      <th>island</th>\n",
       "      <th>culmen_length_mm</th>\n",
       "      <th>culmen_depth_mm</th>\n",
       "      <th>flipper_length_mm</th>\n",
       "      <th>body_mass_g</th>\n",
       "      <th>sex</th>\n",
       "    </tr>\n",
       "  </thead>\n",
       "  <tbody>\n",
       "    <tr>\n",
       "      <th>0</th>\n",
       "      <td>Adelie</td>\n",
       "      <td>Torgersen</td>\n",
       "      <td>39.10000</td>\n",
       "      <td>18.70000</td>\n",
       "      <td>181.000000</td>\n",
       "      <td>3750.000000</td>\n",
       "      <td>MALE</td>\n",
       "    </tr>\n",
       "    <tr>\n",
       "      <th>1</th>\n",
       "      <td>Adelie</td>\n",
       "      <td>Torgersen</td>\n",
       "      <td>39.50000</td>\n",
       "      <td>17.40000</td>\n",
       "      <td>186.000000</td>\n",
       "      <td>3800.000000</td>\n",
       "      <td>FEMALE</td>\n",
       "    </tr>\n",
       "    <tr>\n",
       "      <th>2</th>\n",
       "      <td>Adelie</td>\n",
       "      <td>Torgersen</td>\n",
       "      <td>40.30000</td>\n",
       "      <td>18.00000</td>\n",
       "      <td>195.000000</td>\n",
       "      <td>3250.000000</td>\n",
       "      <td>FEMALE</td>\n",
       "    </tr>\n",
       "    <tr>\n",
       "      <th>3</th>\n",
       "      <td>Adelie</td>\n",
       "      <td>Torgersen</td>\n",
       "      <td>43.92193</td>\n",
       "      <td>17.15117</td>\n",
       "      <td>200.915205</td>\n",
       "      <td>4201.754386</td>\n",
       "      <td>MALE</td>\n",
       "    </tr>\n",
       "    <tr>\n",
       "      <th>4</th>\n",
       "      <td>Adelie</td>\n",
       "      <td>Torgersen</td>\n",
       "      <td>36.70000</td>\n",
       "      <td>19.30000</td>\n",
       "      <td>193.000000</td>\n",
       "      <td>3450.000000</td>\n",
       "      <td>FEMALE</td>\n",
       "    </tr>\n",
       "  </tbody>\n",
       "</table>\n",
       "</div>"
      ],
      "text/plain": [
       "  species     island  culmen_length_mm  culmen_depth_mm  flipper_length_mm  \\\n",
       "0  Adelie  Torgersen          39.10000         18.70000         181.000000   \n",
       "1  Adelie  Torgersen          39.50000         17.40000         186.000000   \n",
       "2  Adelie  Torgersen          40.30000         18.00000         195.000000   \n",
       "3  Adelie  Torgersen          43.92193         17.15117         200.915205   \n",
       "4  Adelie  Torgersen          36.70000         19.30000         193.000000   \n",
       "\n",
       "   body_mass_g     sex  \n",
       "0  3750.000000    MALE  \n",
       "1  3800.000000  FEMALE  \n",
       "2  3250.000000  FEMALE  \n",
       "3  4201.754386    MALE  \n",
       "4  3450.000000  FEMALE  "
      ]
     },
     "execution_count": 2,
     "metadata": {},
     "output_type": "execute_result"
    }
   ],
   "source": [
    "df = pd.read_csv(\"penguins_analyzed.csv\")\n",
    "df.head()"
   ]
  },
  {
   "cell_type": "code",
   "execution_count": 3,
   "id": "4bb18712-5175-4de9-9742-97d237a6c2ec",
   "metadata": {},
   "outputs": [
    {
     "data": {
      "text/plain": [
       "(344, 7)"
      ]
     },
     "execution_count": 3,
     "metadata": {},
     "output_type": "execute_result"
    }
   ],
   "source": [
    "df.shape"
   ]
  },
  {
   "cell_type": "code",
   "execution_count": 4,
   "id": "0803c7c0-be71-4937-b3e3-3544db4c40e8",
   "metadata": {},
   "outputs": [],
   "source": [
    "X = df.drop(\"species\", axis = 1)\n",
    "y = df[\"species\"]"
   ]
  },
  {
   "cell_type": "markdown",
   "id": "478b3c8b-a6f6-4866-9086-2efbc06dce3a",
   "metadata": {},
   "source": [
    "# ***Libraries***"
   ]
  },
  {
   "cell_type": "code",
   "execution_count": 9,
   "id": "ad1145c9-9b2b-4f4e-b140-5dfa698f8ab3",
   "metadata": {},
   "outputs": [],
   "source": [
    "from sklearn.model_selection import train_test_split, cross_val_score, GridSearchCV\n",
    "from sklearn.pipeline import Pipeline\n",
    "from sklearn.compose import ColumnTransformer\n",
    "from sklearn.preprocessing import StandardScaler, OneHotEncoder, LabelEncoder\n",
    "from sklearn.metrics import accuracy_score, confusion_matrix, classification_report, mean_absolute_error"
   ]
  },
  {
   "cell_type": "code",
   "execution_count": 6,
   "id": "5095b114-3e69-4ed2-82d6-b46bac35e097",
   "metadata": {},
   "outputs": [],
   "source": [
    "from sklearn.linear_model import LogisticRegression\n",
    "from sklearn.svm import SVC\n",
    "from sklearn.neighbors import KNeighborsClassifier\n",
    "from sklearn.tree import DecisionTreeClassifier\n",
    "from sklearn.ensemble import RandomForestClassifier, AdaBoostClassifier, GradientBoostingClassifier\n",
    "from xgboost import XGBClassifier"
   ]
  },
  {
   "cell_type": "code",
   "execution_count": 10,
   "id": "f7cb9e12-3b11-4346-a579-6f31db12646f",
   "metadata": {},
   "outputs": [],
   "source": [
    "label = LabelEncoder()\n",
    "y = label.fit_transform(y)"
   ]
  },
  {
   "cell_type": "markdown",
   "id": "2f411474-a32a-4bc4-ba0f-dd39d4b3114a",
   "metadata": {},
   "source": [
    "***Train_Test_Split***"
   ]
  },
  {
   "cell_type": "code",
   "execution_count": 11,
   "id": "3cdb7eeb-d53a-4315-8cf6-7e6ee4dc7caf",
   "metadata": {},
   "outputs": [],
   "source": [
    "X_train, X_test, y_train, y_test = train_test_split(X, y, test_size = 0.2, random_state = 0)"
   ]
  },
  {
   "cell_type": "markdown",
   "id": "ba65e733-32b1-4bd2-a70a-ceb2af69318c",
   "metadata": {},
   "source": [
    "# ***LogisticRegression***"
   ]
  },
  {
   "cell_type": "code",
   "execution_count": 12,
   "id": "3b0e92cb-560f-4e70-804e-667164cb0ebe",
   "metadata": {},
   "outputs": [
    {
     "name": "stdout",
     "output_type": "stream",
     "text": [
      "Training Accuracy : 0.9963636363636363\n",
      "Testing Accuracy : 1.0\n",
      "CV Score : 0.9927272727272728\n",
      "MAE : 0.0\n"
     ]
    }
   ],
   "source": [
    "step1 = ColumnTransformer(transformers = [\n",
    "    (\"col_tnf\", OneHotEncoder(sparse = False, drop = \"first\"), [0, 5]),\n",
    "    (\"scaler\", StandardScaler(), [1, 2, 3, 4])\n",
    "], remainder = \"passthrough\")\n",
    "\n",
    "model = LogisticRegression()\n",
    "\n",
    "pipe = Pipeline([\n",
    "    (\"scaler\", step1),\n",
    "    (\"model\", model)\n",
    "])\n",
    "\n",
    "pipe.fit(X_train, y_train)\n",
    "pred_test = pipe.predict(X_test)\n",
    "print(\"Training Accuracy :\", pipe.score(X_train, y_train))\n",
    "print(\"Testing Accuracy :\", pipe.score(X_test, y_test))\n",
    "print(\"CV Score :\", cross_val_score(pipe, X_train, y_train, cv = 5).mean())\n",
    "print(\"MAE :\", mean_absolute_error(y_test, pred_test))"
   ]
  },
  {
   "cell_type": "code",
   "execution_count": 13,
   "id": "dd6ed2c9-0c44-48f7-9edf-d7d0620a9a4b",
   "metadata": {},
   "outputs": [
    {
     "data": {
      "text/plain": [
       "array([[34,  0,  0],\n",
       "       [ 0, 10,  0],\n",
       "       [ 0,  0, 25]], dtype=int64)"
      ]
     },
     "execution_count": 13,
     "metadata": {},
     "output_type": "execute_result"
    }
   ],
   "source": [
    "confusion_matrix(y_test, pred_test)"
   ]
  },
  {
   "cell_type": "code",
   "execution_count": 14,
   "id": "13c3c480-5ce4-4142-8171-bd7bc2574cd3",
   "metadata": {},
   "outputs": [
    {
     "name": "stdout",
     "output_type": "stream",
     "text": [
      "              precision    recall  f1-score   support\n",
      "\n",
      "           0       1.00      1.00      1.00        34\n",
      "           1       1.00      1.00      1.00        10\n",
      "           2       1.00      1.00      1.00        25\n",
      "\n",
      "    accuracy                           1.00        69\n",
      "   macro avg       1.00      1.00      1.00        69\n",
      "weighted avg       1.00      1.00      1.00        69\n",
      "\n"
     ]
    }
   ],
   "source": [
    "print(classification_report(y_test, pred_test))"
   ]
  },
  {
   "cell_type": "markdown",
   "id": "0cb3519f-b629-4368-ad45-2b77bbad22ac",
   "metadata": {},
   "source": [
    "# ***SVM - SVC***"
   ]
  },
  {
   "cell_type": "code",
   "execution_count": 15,
   "id": "16ea1db4-f568-467c-ae2a-b1de28b12028",
   "metadata": {},
   "outputs": [
    {
     "name": "stdout",
     "output_type": "stream",
     "text": [
      "Training Accuracy : 0.9927272727272727\n",
      "Testing Accuracy : 1.0\n",
      "CV Score : 0.9927272727272728\n",
      "MAE : 0.0\n"
     ]
    }
   ],
   "source": [
    "step1 = ColumnTransformer(transformers = [\n",
    "    (\"col_tnf\", OneHotEncoder(sparse = False, drop = \"first\"), [0, 5]),\n",
    "    (\"scaler\", StandardScaler(), [1, 2, 3, 4])\n",
    "], remainder = \"passthrough\")\n",
    "\n",
    "model = SVC(C = 0.1, kernel = \"linear\")\n",
    "\n",
    "pipe = Pipeline([\n",
    "    (\"scaler\", step1),\n",
    "    (\"model\", model)\n",
    "])\n",
    "\n",
    "pipe.fit(X_train, y_train)\n",
    "pred_test = pipe.predict(X_test)\n",
    "print(\"Training Accuracy :\", pipe.score(X_train, y_train))\n",
    "print(\"Testing Accuracy :\", pipe.score(X_test, y_test))\n",
    "print(\"CV Score :\", cross_val_score(pipe, X_train, y_train, cv = 5).mean())\n",
    "print(\"MAE :\", mean_absolute_error(y_test, pred_test))"
   ]
  },
  {
   "cell_type": "code",
   "execution_count": 16,
   "id": "24f34c5e-3f84-4dec-98e1-0e1e8c0c8e65",
   "metadata": {},
   "outputs": [
    {
     "data": {
      "text/plain": [
       "array([[34,  0,  0],\n",
       "       [ 0, 10,  0],\n",
       "       [ 0,  0, 25]], dtype=int64)"
      ]
     },
     "execution_count": 16,
     "metadata": {},
     "output_type": "execute_result"
    }
   ],
   "source": [
    "confusion_matrix(y_test, pred_test)"
   ]
  },
  {
   "cell_type": "code",
   "execution_count": 17,
   "id": "300cc121-416c-48af-8c3d-c977d544916a",
   "metadata": {},
   "outputs": [
    {
     "name": "stdout",
     "output_type": "stream",
     "text": [
      "              precision    recall  f1-score   support\n",
      "\n",
      "           0       1.00      1.00      1.00        34\n",
      "           1       1.00      1.00      1.00        10\n",
      "           2       1.00      1.00      1.00        25\n",
      "\n",
      "    accuracy                           1.00        69\n",
      "   macro avg       1.00      1.00      1.00        69\n",
      "weighted avg       1.00      1.00      1.00        69\n",
      "\n"
     ]
    }
   ],
   "source": [
    "print(classification_report(y_test, pred_test))"
   ]
  },
  {
   "cell_type": "markdown",
   "id": "d10b5056-f633-4b03-a6b0-fc6f88f8b2fc",
   "metadata": {},
   "source": [
    "# ***KNeighborsClassifier***"
   ]
  },
  {
   "cell_type": "code",
   "execution_count": 18,
   "id": "6db36bda-622b-4740-b6a9-e9715e045088",
   "metadata": {},
   "outputs": [
    {
     "name": "stdout",
     "output_type": "stream",
     "text": [
      "Training Accuracy : 0.9963636363636363\n",
      "Testing Accuracy : 0.9855072463768116\n",
      "CV Score : 0.9963636363636365\n",
      "MAE : 0.014492753623188406\n"
     ]
    }
   ],
   "source": [
    "step1 = ColumnTransformer(transformers = [\n",
    "    (\"col_tnf\", OneHotEncoder(sparse = False, drop = \"first\"), [0, 5]),\n",
    "    (\"scaler\", StandardScaler(), [1, 2, 3, 4])\n",
    "], remainder = \"passthrough\")\n",
    "\n",
    "model = KNeighborsClassifier(n_neighbors = 2)\n",
    "\n",
    "pipe = Pipeline([\n",
    "    (\"scaler\", step1),\n",
    "    (\"model\", model)\n",
    "])\n",
    "\n",
    "pipe.fit(X_train, y_train)\n",
    "pred_test = pipe.predict(X_test)\n",
    "print(\"Training Accuracy :\", pipe.score(X_train, y_train))\n",
    "print(\"Testing Accuracy :\", pipe.score(X_test, y_test))\n",
    "print(\"CV Score :\", cross_val_score(pipe, X_train, y_train, cv = 5).mean())\n",
    "print(\"MAE :\", mean_absolute_error(y_test, pred_test))"
   ]
  },
  {
   "cell_type": "code",
   "execution_count": 19,
   "id": "dddbcfdc-c6af-404c-b484-30d7649d2767",
   "metadata": {},
   "outputs": [
    {
     "data": {
      "text/plain": [
       "array([[33,  1,  0],\n",
       "       [ 0, 10,  0],\n",
       "       [ 0,  0, 25]], dtype=int64)"
      ]
     },
     "execution_count": 19,
     "metadata": {},
     "output_type": "execute_result"
    }
   ],
   "source": [
    "confusion_matrix(y_test, pred_test)"
   ]
  },
  {
   "cell_type": "code",
   "execution_count": 20,
   "id": "e596327f-ffe2-4808-bb45-3cdadc270a6b",
   "metadata": {},
   "outputs": [
    {
     "name": "stdout",
     "output_type": "stream",
     "text": [
      "              precision    recall  f1-score   support\n",
      "\n",
      "           0       1.00      0.97      0.99        34\n",
      "           1       0.91      1.00      0.95        10\n",
      "           2       1.00      1.00      1.00        25\n",
      "\n",
      "    accuracy                           0.99        69\n",
      "   macro avg       0.97      0.99      0.98        69\n",
      "weighted avg       0.99      0.99      0.99        69\n",
      "\n"
     ]
    }
   ],
   "source": [
    "print(classification_report(y_test, pred_test))"
   ]
  },
  {
   "cell_type": "markdown",
   "id": "eb483ea4-3cd1-4faf-b573-4669c65b5514",
   "metadata": {},
   "source": [
    "# ***DecisionTreeClassifier***"
   ]
  },
  {
   "cell_type": "code",
   "execution_count": 21,
   "id": "f1a31273-65e4-49ab-bed4-d2c8bde7563d",
   "metadata": {},
   "outputs": [
    {
     "name": "stdout",
     "output_type": "stream",
     "text": [
      "Training Accuracy : 1.0\n",
      "Testing Accuracy : 0.9855072463768116\n",
      "CV Score : 0.9781818181818182\n",
      "MAE : 0.014492753623188406\n"
     ]
    }
   ],
   "source": [
    "step1 = ColumnTransformer(transformers = [\n",
    "    (\"col_tnf\", OneHotEncoder(sparse = False, drop = \"first\"), [0, 5]),\n",
    "    (\"scaler\", StandardScaler(), [1, 2, 3, 4])\n",
    "], remainder = \"passthrough\")\n",
    "\n",
    "model = DecisionTreeClassifier(max_depth = 8, criterion = \"entropy\", random_state = 1)\n",
    "\n",
    "pipe = Pipeline([\n",
    "    (\"scaler\", step1),\n",
    "    (\"model\", model)\n",
    "])\n",
    "\n",
    "pipe.fit(X_train, y_train)\n",
    "pred_test = pipe.predict(X_test)\n",
    "print(\"Training Accuracy :\", pipe.score(X_train, y_train))\n",
    "print(\"Testing Accuracy :\", pipe.score(X_test, y_test))\n",
    "print(\"CV Score :\", cross_val_score(pipe, X_train, y_train, cv = 5).mean())\n",
    "print(\"MAE :\", mean_absolute_error(y_test, pred_test))"
   ]
  },
  {
   "cell_type": "code",
   "execution_count": 22,
   "id": "5b577fb0-486e-4168-9f51-ab1ad4d8a9af",
   "metadata": {},
   "outputs": [
    {
     "data": {
      "text/plain": [
       "array([[34,  0,  0],\n",
       "       [ 0,  9,  1],\n",
       "       [ 0,  0, 25]], dtype=int64)"
      ]
     },
     "execution_count": 22,
     "metadata": {},
     "output_type": "execute_result"
    }
   ],
   "source": [
    "confusion_matrix(y_test, pred_test)"
   ]
  },
  {
   "cell_type": "code",
   "execution_count": 23,
   "id": "536973be-de05-4a28-82d8-54c605fd5ef9",
   "metadata": {},
   "outputs": [
    {
     "name": "stdout",
     "output_type": "stream",
     "text": [
      "              precision    recall  f1-score   support\n",
      "\n",
      "           0       1.00      1.00      1.00        34\n",
      "           1       1.00      0.90      0.95        10\n",
      "           2       0.96      1.00      0.98        25\n",
      "\n",
      "    accuracy                           0.99        69\n",
      "   macro avg       0.99      0.97      0.98        69\n",
      "weighted avg       0.99      0.99      0.99        69\n",
      "\n"
     ]
    }
   ],
   "source": [
    "print(classification_report(y_test, pred_test))"
   ]
  },
  {
   "cell_type": "markdown",
   "id": "f81d9633-2d75-4bfa-b4fe-d466ff5174a5",
   "metadata": {},
   "source": [
    "# ***RandomForestClassifier***"
   ]
  },
  {
   "cell_type": "code",
   "execution_count": 24,
   "id": "ec7f7b52-60cc-4c84-831d-1c2066a1581a",
   "metadata": {},
   "outputs": [
    {
     "name": "stdout",
     "output_type": "stream",
     "text": [
      "Training Accuracy : 0.9963636363636363\n",
      "Testing Accuracy : 0.9855072463768116\n",
      "CV Score : 0.9709090909090909\n",
      "MAE : 0.014492753623188406\n"
     ]
    }
   ],
   "source": [
    "step1 = ColumnTransformer(transformers = [\n",
    "    (\"col_tnf\", OneHotEncoder(sparse = False, drop = \"first\"), [0, 5]),\n",
    "    (\"scaler\", StandardScaler(), [1, 2, 3, 4])\n",
    "], remainder = \"passthrough\")\n",
    "\n",
    "model = RandomForestClassifier(n_estimators = 4, random_state = 0)\n",
    "\n",
    "pipe = Pipeline([\n",
    "    (\"scaler\", step1),\n",
    "    (\"model\", model)\n",
    "])\n",
    "\n",
    "pipe.fit(X_train, y_train)\n",
    "pred_test = pipe.predict(X_test)\n",
    "print(\"Training Accuracy :\", pipe.score(X_train, y_train))\n",
    "print(\"Testing Accuracy :\", pipe.score(X_test, y_test))\n",
    "print(\"CV Score :\", cross_val_score(pipe, X_train, y_train, cv = 5).mean())\n",
    "print(\"MAE :\", mean_absolute_error(y_test, pred_test))"
   ]
  },
  {
   "cell_type": "code",
   "execution_count": 25,
   "id": "82a448f5-f818-4781-93fb-e3d263c102c7",
   "metadata": {},
   "outputs": [
    {
     "data": {
      "text/plain": [
       "array([[34,  0,  0],\n",
       "       [ 1,  9,  0],\n",
       "       [ 0,  0, 25]], dtype=int64)"
      ]
     },
     "execution_count": 25,
     "metadata": {},
     "output_type": "execute_result"
    }
   ],
   "source": [
    "confusion_matrix(y_test, pred_test)"
   ]
  },
  {
   "cell_type": "code",
   "execution_count": 26,
   "id": "871ccb61-d7aa-4951-81df-36eafe087390",
   "metadata": {},
   "outputs": [
    {
     "name": "stdout",
     "output_type": "stream",
     "text": [
      "              precision    recall  f1-score   support\n",
      "\n",
      "           0       0.97      1.00      0.99        34\n",
      "           1       1.00      0.90      0.95        10\n",
      "           2       1.00      1.00      1.00        25\n",
      "\n",
      "    accuracy                           0.99        69\n",
      "   macro avg       0.99      0.97      0.98        69\n",
      "weighted avg       0.99      0.99      0.99        69\n",
      "\n"
     ]
    }
   ],
   "source": [
    "print(classification_report(y_test, pred_test))"
   ]
  },
  {
   "cell_type": "markdown",
   "id": "dac3ea84-1242-4bab-b523-dc203a2461d3",
   "metadata": {},
   "source": [
    "# ***AdaBoostClassifier***"
   ]
  },
  {
   "cell_type": "code",
   "execution_count": 27,
   "id": "3094b159-b20a-46a7-b9b7-2eefac6796f9",
   "metadata": {},
   "outputs": [
    {
     "name": "stdout",
     "output_type": "stream",
     "text": [
      "Training Accuracy : 0.9854545454545455\n",
      "Testing Accuracy : 0.9855072463768116\n",
      "CV Score : 0.9745454545454546\n",
      "MAE : 0.014492753623188406\n"
     ]
    }
   ],
   "source": [
    "step1 = ColumnTransformer(transformers = [\n",
    "    (\"col_tnf\", OneHotEncoder(sparse = False, drop = \"first\"), [0, 5]),\n",
    "    (\"scaler\", StandardScaler(), [1, 2, 3, 4])\n",
    "], remainder = \"passthrough\")\n",
    "\n",
    "model = AdaBoostClassifier(n_estimators = 6, random_state = 0, learning_rate = 0.8)\n",
    "\n",
    "pipe = Pipeline([\n",
    "    (\"scaler\", step1),\n",
    "    (\"model\", model)\n",
    "])\n",
    "\n",
    "pipe.fit(X_train, y_train)\n",
    "pred_test = pipe.predict(X_test)\n",
    "print(\"Training Accuracy :\", pipe.score(X_train, y_train))\n",
    "print(\"Testing Accuracy :\", pipe.score(X_test, y_test))\n",
    "print(\"CV Score :\", cross_val_score(pipe, X_train, y_train, cv = 5).mean())\n",
    "print(\"MAE :\", mean_absolute_error(y_test, pred_test))"
   ]
  },
  {
   "cell_type": "code",
   "execution_count": 28,
   "id": "6bf286f2-0fc9-4f1e-8e28-9476b4e016c2",
   "metadata": {},
   "outputs": [
    {
     "data": {
      "text/plain": [
       "array([[34,  0,  0],\n",
       "       [ 1,  9,  0],\n",
       "       [ 0,  0, 25]], dtype=int64)"
      ]
     },
     "execution_count": 28,
     "metadata": {},
     "output_type": "execute_result"
    }
   ],
   "source": [
    "confusion_matrix(y_test, pred_test)"
   ]
  },
  {
   "cell_type": "code",
   "execution_count": 29,
   "id": "bd2e6168-c082-4a02-80f7-b3ca3b543ef2",
   "metadata": {},
   "outputs": [
    {
     "name": "stdout",
     "output_type": "stream",
     "text": [
      "              precision    recall  f1-score   support\n",
      "\n",
      "           0       0.97      1.00      0.99        34\n",
      "           1       1.00      0.90      0.95        10\n",
      "           2       1.00      1.00      1.00        25\n",
      "\n",
      "    accuracy                           0.99        69\n",
      "   macro avg       0.99      0.97      0.98        69\n",
      "weighted avg       0.99      0.99      0.99        69\n",
      "\n"
     ]
    }
   ],
   "source": [
    "print(classification_report(y_test, pred_test))"
   ]
  },
  {
   "cell_type": "markdown",
   "id": "fa883756-b06b-483e-a2ae-476fe51d815e",
   "metadata": {},
   "source": [
    "# ***GradientBoostingClassifier***"
   ]
  },
  {
   "cell_type": "code",
   "execution_count": 30,
   "id": "a5ffc753-579d-4cfd-8644-daadcdc599a4",
   "metadata": {},
   "outputs": [
    {
     "name": "stdout",
     "output_type": "stream",
     "text": [
      "Training Accuracy : 1.0\n",
      "Testing Accuracy : 1.0\n",
      "CV Score : 0.9818181818181818\n",
      "MAE : 0.0\n"
     ]
    }
   ],
   "source": [
    "step1 = ColumnTransformer(transformers = [\n",
    "    (\"col_tnf\", OneHotEncoder(sparse = False, drop = \"first\"), [0, 5]),\n",
    "    (\"scaler\", StandardScaler(), [1, 2, 3, 4])\n",
    "], remainder = \"passthrough\")\n",
    "\n",
    "model = GradientBoostingClassifier(n_estimators = 7, random_state = 0, learning_rate = 0.9)\n",
    "\n",
    "pipe = Pipeline([\n",
    "    (\"scaler\", step1),\n",
    "    (\"model\", model)\n",
    "])\n",
    "\n",
    "pipe.fit(X_train, y_train)\n",
    "pred_test = pipe.predict(X_test)\n",
    "print(\"Training Accuracy :\", pipe.score(X_train, y_train))\n",
    "print(\"Testing Accuracy :\", pipe.score(X_test, y_test))\n",
    "print(\"CV Score :\", cross_val_score(pipe, X_train, y_train, cv = 5).mean())\n",
    "print(\"MAE :\", mean_absolute_error(y_test, pred_test))"
   ]
  },
  {
   "cell_type": "code",
   "execution_count": 31,
   "id": "9a766cff-bb1e-4104-93b1-706fefda5949",
   "metadata": {},
   "outputs": [
    {
     "data": {
      "text/plain": [
       "array([[34,  0,  0],\n",
       "       [ 0, 10,  0],\n",
       "       [ 0,  0, 25]], dtype=int64)"
      ]
     },
     "execution_count": 31,
     "metadata": {},
     "output_type": "execute_result"
    }
   ],
   "source": [
    "confusion_matrix(y_test, pred_test)"
   ]
  },
  {
   "cell_type": "code",
   "execution_count": 32,
   "id": "512b2508-e467-41ca-8115-4977baccb441",
   "metadata": {},
   "outputs": [
    {
     "name": "stdout",
     "output_type": "stream",
     "text": [
      "              precision    recall  f1-score   support\n",
      "\n",
      "           0       1.00      1.00      1.00        34\n",
      "           1       1.00      1.00      1.00        10\n",
      "           2       1.00      1.00      1.00        25\n",
      "\n",
      "    accuracy                           1.00        69\n",
      "   macro avg       1.00      1.00      1.00        69\n",
      "weighted avg       1.00      1.00      1.00        69\n",
      "\n"
     ]
    }
   ],
   "source": [
    "print(classification_report(y_test, pred_test))"
   ]
  },
  {
   "cell_type": "markdown",
   "id": "d19a56c2-f8a3-46c9-a4ce-e3c3f18f2dea",
   "metadata": {},
   "source": [
    "# ***XGBClassifier***"
   ]
  },
  {
   "cell_type": "code",
   "execution_count": 34,
   "id": "c670bcd8-aad6-4c5a-9e8d-de1ad3f49cc8",
   "metadata": {},
   "outputs": [
    {
     "name": "stdout",
     "output_type": "stream",
     "text": [
      "Training Accuracy : 0.9963636363636363\n",
      "Testing Accuracy : 1.0\n",
      "CV Score : 0.9818181818181818\n",
      "MAE : 0.0\n"
     ]
    }
   ],
   "source": [
    "step1 = ColumnTransformer(transformers = [\n",
    "    (\"col_tnf\", OneHotEncoder(sparse = False, drop = \"first\"), [0, 5]),\n",
    "    (\"scaler\", StandardScaler(), [1, 2, 3, 4])\n",
    "], remainder = \"passthrough\")\n",
    "\n",
    "model = XGBClassifier(n_estimators = 8, random_state = 0, learning_rate = 0.1, gamma = 0)\n",
    "\n",
    "pipe = Pipeline([\n",
    "    (\"scaler\", step1),\n",
    "    (\"model\", model)\n",
    "])\n",
    "\n",
    "pipe.fit(X_train, y_train)\n",
    "pred_test = pipe.predict(X_test)\n",
    "print(\"Training Accuracy :\", pipe.score(X_train, y_train))\n",
    "print(\"Testing Accuracy :\", pipe.score(X_test, y_test))\n",
    "print(\"CV Score :\", cross_val_score(pipe, X_train, y_train, cv = 5).mean())\n",
    "print(\"MAE :\", mean_absolute_error(y_test, pred_test))"
   ]
  },
  {
   "cell_type": "code",
   "execution_count": 35,
   "id": "a645d411-1729-463e-9dfc-fe739a20a7e8",
   "metadata": {},
   "outputs": [
    {
     "data": {
      "text/plain": [
       "array([[34,  0,  0],\n",
       "       [ 0, 10,  0],\n",
       "       [ 0,  0, 25]], dtype=int64)"
      ]
     },
     "execution_count": 35,
     "metadata": {},
     "output_type": "execute_result"
    }
   ],
   "source": [
    "confusion_matrix(y_test, pred_test)"
   ]
  },
  {
   "cell_type": "code",
   "execution_count": 36,
   "id": "b3fa300c-ff67-4bbe-8414-a2d79871f69f",
   "metadata": {},
   "outputs": [
    {
     "name": "stdout",
     "output_type": "stream",
     "text": [
      "              precision    recall  f1-score   support\n",
      "\n",
      "           0       1.00      1.00      1.00        34\n",
      "           1       1.00      1.00      1.00        10\n",
      "           2       1.00      1.00      1.00        25\n",
      "\n",
      "    accuracy                           1.00        69\n",
      "   macro avg       1.00      1.00      1.00        69\n",
      "weighted avg       1.00      1.00      1.00        69\n",
      "\n"
     ]
    }
   ],
   "source": [
    "print(classification_report(y_test, pred_test))"
   ]
  },
  {
   "cell_type": "markdown",
   "id": "d8c29b1b-ec5a-4a70-8235-ecbad656b115",
   "metadata": {},
   "source": [
    "# ***FINAL MODEL***"
   ]
  },
  {
   "cell_type": "code",
   "execution_count": 37,
   "id": "784c2389-5826-4cb7-91c2-606e87d967c7",
   "metadata": {},
   "outputs": [
    {
     "name": "stdout",
     "output_type": "stream",
     "text": [
      "Training Accuracy : 1.0\n",
      "Testing Accuracy : 1.0\n",
      "CV Score : 0.9818181818181818\n",
      "MAE : 0.0\n"
     ]
    }
   ],
   "source": [
    "step1 = ColumnTransformer(transformers = [\n",
    "    (\"col_tnf\", OneHotEncoder(sparse = False, drop = \"first\"), [0, 5]),\n",
    "    (\"scaler\", StandardScaler(), [1, 2, 3, 4])\n",
    "], remainder = \"passthrough\")\n",
    "\n",
    "model = GradientBoostingClassifier(n_estimators = 7, random_state = 0, learning_rate = 0.9)\n",
    "\n",
    "pipe = Pipeline([\n",
    "    (\"scaler\", step1),\n",
    "    (\"model\", model)\n",
    "])\n",
    "\n",
    "pipe.fit(X_train, y_train)\n",
    "pred_test = pipe.predict(X_test)\n",
    "print(\"Training Accuracy :\", pipe.score(X_train, y_train))\n",
    "print(\"Testing Accuracy :\", pipe.score(X_test, y_test))\n",
    "print(\"CV Score :\", cross_val_score(pipe, X_train, y_train, cv = 5).mean())\n",
    "print(\"MAE :\", mean_absolute_error(y_test, pred_test))"
   ]
  },
  {
   "cell_type": "code",
   "execution_count": 45,
   "id": "9f98138e-410f-4f40-902e-671797cfc944",
   "metadata": {},
   "outputs": [
    {
     "data": {
      "text/plain": [
       "array(['Adelie', 'Chinstrap', 'Gentoo'], dtype=object)"
      ]
     },
     "execution_count": 45,
     "metadata": {},
     "output_type": "execute_result"
    }
   ],
   "source": [
    "df[\"species\"].unique()"
   ]
  },
  {
   "cell_type": "code",
   "execution_count": 46,
   "id": "6716635b-d095-45e4-9c0c-4b9bd95afa61",
   "metadata": {},
   "outputs": [
    {
     "name": "stdout",
     "output_type": "stream",
     "text": [
      "This penguins belongs to Adelie species\n"
     ]
    }
   ],
   "source": [
    "final = pd.DataFrame({\n",
    "    'island': \"Torgersen\" ,\n",
    "    'culmen_length_mm': 39.1, \n",
    "    'culmen_depth_mm': 18.7, \n",
    "    'flipper_length_mm': 181.0,\n",
    "    'body_mass_g': 3750.0, \n",
    "    'sex': \"MALE\"\n",
    "    }, index = [0])\n",
    "\n",
    "species = pipe.predict(final)[0]\n",
    "if species == 0:\n",
    "    print(\"This penguins belongs to Adelie species\")\n",
    "elif species == 1:\n",
    "    print(\"This penguins belongs to Chinstrap species.\")\n",
    "else:\n",
    "    print(\"This penguins belongs to Gentoo species.\")"
   ]
  },
  {
   "cell_type": "code",
   "execution_count": 47,
   "id": "99c6f93a-b38f-4799-8d12-316c15ea2a12",
   "metadata": {},
   "outputs": [],
   "source": [
    "import pickle\n",
    "with open(\"penguin_gradient_model.pkl\", \"wb\") as file:\n",
    "    pickle.dump(pipe, file)"
   ]
  },
  {
   "cell_type": "code",
   "execution_count": 48,
   "id": "a2e06ea0-91b4-4c13-88a5-1e89c40dce14",
   "metadata": {},
   "outputs": [],
   "source": [
    "with open(\"penguin_gradient_model.pkl\", \"rb\") as file:\n",
    "    loaded = pickle.load(file)"
   ]
  },
  {
   "cell_type": "code",
   "execution_count": null,
   "id": "40e53e7a-b3f4-42be-a3a6-8d2ca07724ad",
   "metadata": {},
   "outputs": [],
   "source": []
  }
 ],
 "metadata": {
  "kernelspec": {
   "display_name": "Python 3 (ipykernel)",
   "language": "python",
   "name": "python3"
  },
  "language_info": {
   "codemirror_mode": {
    "name": "ipython",
    "version": 3
   },
   "file_extension": ".py",
   "mimetype": "text/x-python",
   "name": "python",
   "nbconvert_exporter": "python",
   "pygments_lexer": "ipython3",
   "version": "3.11.5"
  }
 },
 "nbformat": 4,
 "nbformat_minor": 5
}
