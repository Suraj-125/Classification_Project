{
 "cells": [
  {
   "cell_type": "code",
   "execution_count": 1,
   "id": "338bd5b9-b3ef-4d61-ad55-8aaccf6dbdb9",
   "metadata": {},
   "outputs": [],
   "source": [
    "import numpy as np\n",
    "import pandas as pd\n",
    "\n",
    "import warnings\n",
    "warnings.simplefilter(\"ignore\")"
   ]
  },
  {
   "cell_type": "code",
   "execution_count": 24,
   "id": "27d904ca-52a1-47c6-a412-18ac3edc80c9",
   "metadata": {},
   "outputs": [
    {
     "data": {
      "text/html": [
       "<div>\n",
       "<style scoped>\n",
       "    .dataframe tbody tr th:only-of-type {\n",
       "        vertical-align: middle;\n",
       "    }\n",
       "\n",
       "    .dataframe tbody tr th {\n",
       "        vertical-align: top;\n",
       "    }\n",
       "\n",
       "    .dataframe thead th {\n",
       "        text-align: right;\n",
       "    }\n",
       "</style>\n",
       "<table border=\"1\" class=\"dataframe\">\n",
       "  <thead>\n",
       "    <tr style=\"text-align: right;\">\n",
       "      <th></th>\n",
       "      <th>species</th>\n",
       "      <th>island</th>\n",
       "      <th>culmen_length_mm</th>\n",
       "      <th>culmen_depth_mm</th>\n",
       "      <th>flipper_length_mm</th>\n",
       "      <th>body_mass_g</th>\n",
       "      <th>sex</th>\n",
       "    </tr>\n",
       "  </thead>\n",
       "  <tbody>\n",
       "    <tr>\n",
       "      <th>0</th>\n",
       "      <td>Adelie</td>\n",
       "      <td>Torgersen</td>\n",
       "      <td>39.10000</td>\n",
       "      <td>18.70000</td>\n",
       "      <td>181.000000</td>\n",
       "      <td>3750.000000</td>\n",
       "      <td>MALE</td>\n",
       "    </tr>\n",
       "    <tr>\n",
       "      <th>1</th>\n",
       "      <td>Adelie</td>\n",
       "      <td>Torgersen</td>\n",
       "      <td>39.50000</td>\n",
       "      <td>17.40000</td>\n",
       "      <td>186.000000</td>\n",
       "      <td>3800.000000</td>\n",
       "      <td>FEMALE</td>\n",
       "    </tr>\n",
       "    <tr>\n",
       "      <th>2</th>\n",
       "      <td>Adelie</td>\n",
       "      <td>Torgersen</td>\n",
       "      <td>40.30000</td>\n",
       "      <td>18.00000</td>\n",
       "      <td>195.000000</td>\n",
       "      <td>3250.000000</td>\n",
       "      <td>FEMALE</td>\n",
       "    </tr>\n",
       "    <tr>\n",
       "      <th>3</th>\n",
       "      <td>Adelie</td>\n",
       "      <td>Torgersen</td>\n",
       "      <td>43.92193</td>\n",
       "      <td>17.15117</td>\n",
       "      <td>200.915205</td>\n",
       "      <td>4201.754386</td>\n",
       "      <td>MALE</td>\n",
       "    </tr>\n",
       "    <tr>\n",
       "      <th>4</th>\n",
       "      <td>Adelie</td>\n",
       "      <td>Torgersen</td>\n",
       "      <td>36.70000</td>\n",
       "      <td>19.30000</td>\n",
       "      <td>193.000000</td>\n",
       "      <td>3450.000000</td>\n",
       "      <td>FEMALE</td>\n",
       "    </tr>\n",
       "  </tbody>\n",
       "</table>\n",
       "</div>"
      ],
      "text/plain": [
       "  species     island  culmen_length_mm  culmen_depth_mm  flipper_length_mm  \\\n",
       "0  Adelie  Torgersen          39.10000         18.70000         181.000000   \n",
       "1  Adelie  Torgersen          39.50000         17.40000         186.000000   \n",
       "2  Adelie  Torgersen          40.30000         18.00000         195.000000   \n",
       "3  Adelie  Torgersen          43.92193         17.15117         200.915205   \n",
       "4  Adelie  Torgersen          36.70000         19.30000         193.000000   \n",
       "\n",
       "   body_mass_g     sex  \n",
       "0  3750.000000    MALE  \n",
       "1  3800.000000  FEMALE  \n",
       "2  3250.000000  FEMALE  \n",
       "3  4201.754386    MALE  \n",
       "4  3450.000000  FEMALE  "
      ]
     },
     "execution_count": 24,
     "metadata": {},
     "output_type": "execute_result"
    }
   ],
   "source": [
    "df = pd.read_csv(\"penguins_analyzed.csv\")\n",
    "df.head()"
   ]
  },
  {
   "cell_type": "code",
   "execution_count": 10,
   "id": "dcdfa227-b06f-4c52-8658-258b98a640f4",
   "metadata": {},
   "outputs": [],
   "source": [
    "X = df.drop(\"species\", axis = 1)\n",
    "y = df[\"species\"]"
   ]
  },
  {
   "cell_type": "markdown",
   "id": "8d2020b8-69b8-4cce-a407-9034f9e9ad52",
   "metadata": {},
   "source": [
    "# Train Test Split"
   ]
  },
  {
   "cell_type": "code",
   "execution_count": 15,
   "id": "57d8d935-1f07-4d6c-b733-bebafb9037c9",
   "metadata": {},
   "outputs": [],
   "source": [
    "from sklearn.model_selection import train_test_split, GridSearchCV, cross_val_score\n",
    "from sklearn.preprocessing import StandardScaler, OneHotEncoder, LabelEncoder\n",
    "from sklearn.compose import ColumnTransformer\n",
    "from sklearn.pipeline import Pipeline\n",
    "from sklearn.linear_model import LogisticRegression\n",
    "from sklearn.svm import SVC\n",
    "from sklearn.neighbors import KNeighborsClassifier\n",
    "from sklearn.tree import DecisionTreeClassifier\n",
    "from sklearn.ensemble import RandomForestClassifier, AdaBoostClassifier, GradientBoostingClassifier\n",
    "from xgboost import XGBClassifier\n",
    "from sklearn.metrics import accuracy_score, confusion_matrix, classification_report, mean_absolute_error"
   ]
  },
  {
   "cell_type": "code",
   "execution_count": 16,
   "id": "dde90825-2fa4-454e-b7e8-cc873c796f6c",
   "metadata": {},
   "outputs": [],
   "source": [
    "label = LabelEncoder()\n",
    "y = label.fit_transform(y)"
   ]
  },
  {
   "cell_type": "markdown",
   "id": "5f3aa40b-1bf9-48dd-9d8f-277e8ccefb15",
   "metadata": {},
   "source": [
    "***Finding Best Random State***"
   ]
  },
  {
   "cell_type": "code",
   "execution_count": 18,
   "id": "8025c408-ca7c-4ae7-9701-9f5f4b488585",
   "metadata": {},
   "outputs": [],
   "source": [
    "train = []\n",
    "test = []\n",
    "cv = []\n",
    "mae = []\n",
    "\n",
    "for i in range(100):\n",
    "    X_train, X_test, y_train, y_test = train_test_split(X, y, test_size = 0.2, random_state = i)\n",
    "\n",
    "    step = ColumnTransformer(transformers = [\n",
    "        (\"col_tnf\", OneHotEncoder(sparse = False, drop = \"first\"), [0, 5]),\n",
    "        (\"scaler\", StandardScaler(), [1, 2, 3, 4])\n",
    "    ], remainder = \"passthrough\")\n",
    "\n",
    "    pipe = Pipeline([\n",
    "        (\"step\", step),\n",
    "        (\"model\", LogisticRegression())\n",
    "    ])\n",
    "\n",
    "    pipe.fit(X_train, y_train)\n",
    "    pred_train = pipe.predict(X_train)\n",
    "    pred_test = pipe.predict(X_test)\n",
    "\n",
    "    train_accuracy = pipe.score(X_train, y_train)\n",
    "    test_accuracy = pipe.score(X_test, y_test)\n",
    "\n",
    "    mae_score = mean_absolute_error(y_test, pred_test)\n",
    "    cv_score = cross_val_score(pipe, X_train, y_train, cv = 5).mean()\n",
    "\n",
    "    train.append(train_accuracy)\n",
    "    test.append(test_accuracy)\n",
    "    cv.append(cv_score)\n",
    "    mae.append(mae_score)\n",
    "\n",
    "ff = pd.DataFrame({\n",
    "    \"Train Model\": train,\n",
    "    \"Test Model\": test,\n",
    "    \"CV\": cv,\n",
    "    \"MAE\": mae\n",
    "})"
   ]
  },
  {
   "cell_type": "code",
   "execution_count": 21,
   "id": "dc573d60-2d9a-4ea1-8db2-dd791812e576",
   "metadata": {},
   "outputs": [
    {
     "data": {
      "text/html": [
       "<div>\n",
       "<style scoped>\n",
       "    .dataframe tbody tr th:only-of-type {\n",
       "        vertical-align: middle;\n",
       "    }\n",
       "\n",
       "    .dataframe tbody tr th {\n",
       "        vertical-align: top;\n",
       "    }\n",
       "\n",
       "    .dataframe thead th {\n",
       "        text-align: right;\n",
       "    }\n",
       "</style>\n",
       "<table border=\"1\" class=\"dataframe\">\n",
       "  <thead>\n",
       "    <tr style=\"text-align: right;\">\n",
       "      <th></th>\n",
       "      <th>Train Model</th>\n",
       "      <th>Test Model</th>\n",
       "      <th>CV</th>\n",
       "      <th>MAE</th>\n",
       "    </tr>\n",
       "  </thead>\n",
       "  <tbody>\n",
       "    <tr>\n",
       "      <th>0</th>\n",
       "      <td>0.996364</td>\n",
       "      <td>1.000000</td>\n",
       "      <td>0.992727</td>\n",
       "      <td>0.000000</td>\n",
       "    </tr>\n",
       "    <tr>\n",
       "      <th>33</th>\n",
       "      <td>0.996364</td>\n",
       "      <td>1.000000</td>\n",
       "      <td>0.985455</td>\n",
       "      <td>0.000000</td>\n",
       "    </tr>\n",
       "    <tr>\n",
       "      <th>34</th>\n",
       "      <td>0.996364</td>\n",
       "      <td>1.000000</td>\n",
       "      <td>0.989091</td>\n",
       "      <td>0.000000</td>\n",
       "    </tr>\n",
       "    <tr>\n",
       "      <th>35</th>\n",
       "      <td>0.992727</td>\n",
       "      <td>1.000000</td>\n",
       "      <td>0.985455</td>\n",
       "      <td>0.000000</td>\n",
       "    </tr>\n",
       "    <tr>\n",
       "      <th>75</th>\n",
       "      <td>0.992727</td>\n",
       "      <td>1.000000</td>\n",
       "      <td>0.992727</td>\n",
       "      <td>0.000000</td>\n",
       "    </tr>\n",
       "    <tr>\n",
       "      <th>...</th>\n",
       "      <td>...</td>\n",
       "      <td>...</td>\n",
       "      <td>...</td>\n",
       "      <td>...</td>\n",
       "    </tr>\n",
       "    <tr>\n",
       "      <th>30</th>\n",
       "      <td>0.996364</td>\n",
       "      <td>0.971014</td>\n",
       "      <td>0.996364</td>\n",
       "      <td>0.043478</td>\n",
       "    </tr>\n",
       "    <tr>\n",
       "      <th>87</th>\n",
       "      <td>0.996364</td>\n",
       "      <td>0.971014</td>\n",
       "      <td>0.996364</td>\n",
       "      <td>0.043478</td>\n",
       "    </tr>\n",
       "    <tr>\n",
       "      <th>4</th>\n",
       "      <td>0.996364</td>\n",
       "      <td>0.971014</td>\n",
       "      <td>0.996364</td>\n",
       "      <td>0.043478</td>\n",
       "    </tr>\n",
       "    <tr>\n",
       "      <th>14</th>\n",
       "      <td>1.000000</td>\n",
       "      <td>0.971014</td>\n",
       "      <td>0.996364</td>\n",
       "      <td>0.043478</td>\n",
       "    </tr>\n",
       "    <tr>\n",
       "      <th>93</th>\n",
       "      <td>1.000000</td>\n",
       "      <td>0.956522</td>\n",
       "      <td>1.000000</td>\n",
       "      <td>0.057971</td>\n",
       "    </tr>\n",
       "  </tbody>\n",
       "</table>\n",
       "<p>100 rows × 4 columns</p>\n",
       "</div>"
      ],
      "text/plain": [
       "    Train Model  Test Model        CV       MAE\n",
       "0      0.996364    1.000000  0.992727  0.000000\n",
       "33     0.996364    1.000000  0.985455  0.000000\n",
       "34     0.996364    1.000000  0.989091  0.000000\n",
       "35     0.992727    1.000000  0.985455  0.000000\n",
       "75     0.992727    1.000000  0.992727  0.000000\n",
       "..          ...         ...       ...       ...\n",
       "30     0.996364    0.971014  0.996364  0.043478\n",
       "87     0.996364    0.971014  0.996364  0.043478\n",
       "4      0.996364    0.971014  0.996364  0.043478\n",
       "14     1.000000    0.971014  0.996364  0.043478\n",
       "93     1.000000    0.956522  1.000000  0.057971\n",
       "\n",
       "[100 rows x 4 columns]"
      ]
     },
     "execution_count": 21,
     "metadata": {},
     "output_type": "execute_result"
    }
   ],
   "source": [
    "ff.sort_values(by = \"MAE\", ascending = True)"
   ]
  },
  {
   "cell_type": "code",
   "execution_count": 25,
   "id": "03c0959a-f976-46f2-a609-7f14a72da67b",
   "metadata": {},
   "outputs": [],
   "source": [
    "X_train, X_test, y_train, y_test = train_test_split(X, y, test_size = 0.2, random_state = 0)"
   ]
  },
  {
   "cell_type": "markdown",
   "id": "8d595edf-fbce-48f5-b0c9-93c8dc080463",
   "metadata": {},
   "source": [
    "# ***GridSearchCV - SVC***"
   ]
  },
  {
   "cell_type": "code",
   "execution_count": 26,
   "id": "edd6068a-da10-4945-9a74-a320d096ebb4",
   "metadata": {},
   "outputs": [
    {
     "data": {
      "text/plain": [
       "{'model__C': 0.1, 'model__kernel': 'linear'}"
      ]
     },
     "execution_count": 26,
     "metadata": {},
     "output_type": "execute_result"
    }
   ],
   "source": [
    "step = ColumnTransformer(transformers = [\n",
    "    (\"col_tnf\", OneHotEncoder(sparse = False, drop = \"first\"), [0, 5]),\n",
    "    (\"scaler\", StandardScaler(), [1, 2, 3, 4])\n",
    "], remainder = \"passthrough\")\n",
    "\n",
    "pipe = Pipeline([\n",
    "    (\"step\", step),\n",
    "    (\"model\", SVC())\n",
    "])\n",
    "\n",
    "svc_param_grid = {\"model__C\": [0.001, 0.1, 0, 10, 100], \"model__kernel\": [\"linear\", \"poly\", \"sigmoid\", \"rbf\"]}\n",
    "\n",
    "svc_grid = GridSearchCV(pipe, svc_param_grid, cv = 5, scoring = \"accuracy\")\n",
    "\n",
    "svc_grid.fit(X_train, y_train)\n",
    "\n",
    "svc_grid.best_params_"
   ]
  },
  {
   "cell_type": "markdown",
   "id": "e2add75a-2f90-403b-a907-6f86ba660594",
   "metadata": {},
   "source": [
    "# ***KNeighborsClassifier***"
   ]
  },
  {
   "cell_type": "code",
   "execution_count": 27,
   "id": "aa6be942-8f23-428a-8f88-7dbbeb19d069",
   "metadata": {},
   "outputs": [
    {
     "data": {
      "text/plain": [
       "{'model__n_neighbors': 2}"
      ]
     },
     "execution_count": 27,
     "metadata": {},
     "output_type": "execute_result"
    }
   ],
   "source": [
    "step = ColumnTransformer(transformers = [\n",
    "    (\"col_tnf\", OneHotEncoder(sparse = False, drop = \"first\"), [0, 5]),\n",
    "    (\"scaler\", StandardScaler(), [1, 2, 3, 4])\n",
    "], remainder = \"passthrough\")\n",
    "\n",
    "pipe = Pipeline([\n",
    "    (\"step\", step),\n",
    "    (\"model\", KNeighborsClassifier())\n",
    "])\n",
    "\n",
    "knn_param_grid = {\"model__n_neighbors\": list(range(1, 20))}\n",
    "\n",
    "knn_grid = GridSearchCV(pipe, knn_param_grid, cv = 5, scoring = \"accuracy\")\n",
    "\n",
    "knn_grid.fit(X_train, y_train)\n",
    "\n",
    "knn_grid.best_params_"
   ]
  },
  {
   "cell_type": "markdown",
   "id": "1d265340-6ad2-4ec6-9db3-4f4c5ffe5db2",
   "metadata": {},
   "source": [
    "# ***DecisionTreeClassifier***"
   ]
  },
  {
   "cell_type": "code",
   "execution_count": 29,
   "id": "f11ebb7b-9bbb-4c98-9fd3-f856136aefc6",
   "metadata": {},
   "outputs": [
    {
     "data": {
      "text/plain": [
       "{'model__criterion': 'entropy', 'model__max_depth': 8}"
      ]
     },
     "execution_count": 29,
     "metadata": {},
     "output_type": "execute_result"
    }
   ],
   "source": [
    "step = ColumnTransformer(transformers = [\n",
    "    (\"col_tnf\", OneHotEncoder(sparse = False, drop = \"first\"), [0, 5]),\n",
    "    (\"scaler\", StandardScaler(), [1, 2, 3, 4])\n",
    "], remainder = \"passthrough\")\n",
    "\n",
    "pipe = Pipeline([\n",
    "    (\"step\", step),\n",
    "    (\"model\", DecisionTreeClassifier())\n",
    "])\n",
    "\n",
    "decision_param_grid = {\"model__max_depth\": list(range(1, 40)), \"model__criterion\": [\"gini\", \"entropy\"]}\n",
    "\n",
    "decision_grid = GridSearchCV(pipe, decision_param_grid, cv = 5, scoring = \"accuracy\")\n",
    "\n",
    "decision_grid.fit(X_train, y_train)\n",
    "\n",
    "decision_grid.best_params_"
   ]
  },
  {
   "cell_type": "markdown",
   "id": "6b11df2d-16e1-4c98-9d6e-112e3c416bd0",
   "metadata": {},
   "source": [
    "# ***RandomForestClassifier***"
   ]
  },
  {
   "cell_type": "code",
   "execution_count": 30,
   "id": "6bd99edd-bbca-4154-a8cc-2039d6fade1a",
   "metadata": {},
   "outputs": [
    {
     "data": {
      "text/plain": [
       "{'model__n_estimators': 4}"
      ]
     },
     "execution_count": 30,
     "metadata": {},
     "output_type": "execute_result"
    }
   ],
   "source": [
    "step = ColumnTransformer(transformers = [\n",
    "    (\"col_tnf\", OneHotEncoder(sparse = False, drop = \"first\"), [0, 5]),\n",
    "    (\"scaler\", StandardScaler(), [1, 2, 3, 4])\n",
    "], remainder = \"passthrough\")\n",
    "\n",
    "pipe = Pipeline([\n",
    "    (\"step\", step),\n",
    "    (\"model\", RandomForestClassifier())\n",
    "])\n",
    "\n",
    "random_param_grid = {\"model__n_estimators\": list(range(1, 20))}\n",
    "\n",
    "random_grid = GridSearchCV(pipe, random_param_grid, cv = 5, scoring = \"accuracy\")\n",
    "\n",
    "random_grid.fit(X_train, y_train)\n",
    "\n",
    "random_grid.best_params_"
   ]
  },
  {
   "cell_type": "markdown",
   "id": "d3112746-361f-4f85-9d73-8c788d1e4975",
   "metadata": {},
   "source": [
    "# ***AdaBoostClassifier***"
   ]
  },
  {
   "cell_type": "code",
   "execution_count": 31,
   "id": "97ff5093-3de0-4132-b108-39eff55adb2b",
   "metadata": {},
   "outputs": [
    {
     "data": {
      "text/plain": [
       "{'model__n_estimators': 6}"
      ]
     },
     "execution_count": 31,
     "metadata": {},
     "output_type": "execute_result"
    }
   ],
   "source": [
    "step = ColumnTransformer(transformers = [\n",
    "    (\"col_tnf\", OneHotEncoder(sparse = False, drop = \"first\"), [0, 5]),\n",
    "    (\"scaler\", StandardScaler(), [1, 2, 3, 4])\n",
    "], remainder = \"passthrough\")\n",
    "\n",
    "pipe = Pipeline([\n",
    "    (\"step\", step),\n",
    "    (\"model\", AdaBoostClassifier())\n",
    "])\n",
    "\n",
    "ada_param_grid = {\"model__n_estimators\": list(range(1, 20))}\n",
    "\n",
    "ada_grid = GridSearchCV(pipe, ada_param_grid, cv = 5, scoring = \"accuracy\")\n",
    "\n",
    "ada_grid.fit(X_train, y_train)\n",
    "\n",
    "ada_grid.best_params_"
   ]
  },
  {
   "cell_type": "markdown",
   "id": "2faa80df-d3de-45ce-a612-029bde2b3293",
   "metadata": {},
   "source": [
    "# ***GradientBoostingClassifier***"
   ]
  },
  {
   "cell_type": "code",
   "execution_count": 32,
   "id": "531bc089-9c1c-4bab-9375-299c21021c1b",
   "metadata": {},
   "outputs": [
    {
     "data": {
      "text/plain": [
       "{'model__learning_rate': 0.9, 'model__n_estimators': 7}"
      ]
     },
     "execution_count": 32,
     "metadata": {},
     "output_type": "execute_result"
    }
   ],
   "source": [
    "step = ColumnTransformer(transformers = [\n",
    "    (\"col_tnf\", OneHotEncoder(sparse = False, drop = \"first\"), [0, 5]),\n",
    "    (\"scaler\", StandardScaler(), [1, 2, 3, 4])\n",
    "], remainder = \"passthrough\")\n",
    "\n",
    "pipe = Pipeline([\n",
    "    (\"step\", step),\n",
    "    (\"model\", GradientBoostingClassifier())\n",
    "])\n",
    "\n",
    "gradient_param_grid = {\"model__n_estimators\": list(range(1, 10)), \"model__learning_rate\" : [0, 0.1, 0.2, 0.3, 0.4, 0.5, 0.6, 0.7, 0.8, 0.9, 1]}\n",
    "\n",
    "gradient_grid = GridSearchCV(pipe, gradient_param_grid, cv = 5, scoring = \"accuracy\")\n",
    "\n",
    "gradient_grid.fit(X_train, y_train)\n",
    "\n",
    "gradient_grid.best_params_"
   ]
  },
  {
   "cell_type": "markdown",
   "id": "cdd3e4a7-2fb8-48d0-8d7d-458271203b31",
   "metadata": {},
   "source": [
    "# ***XGBClassifier***"
   ]
  },
  {
   "cell_type": "code",
   "execution_count": 33,
   "id": "dfc4d487-ff41-42af-a250-5de11ebebf1f",
   "metadata": {},
   "outputs": [
    {
     "data": {
      "text/plain": [
       "{'model__gamma': 0, 'model__learning_rate': 0.1, 'model__n_estimators': 8}"
      ]
     },
     "execution_count": 33,
     "metadata": {},
     "output_type": "execute_result"
    }
   ],
   "source": [
    "step = ColumnTransformer(transformers = [\n",
    "    (\"col_tnf\", OneHotEncoder(sparse = False, drop = \"first\"), [0, 5]),\n",
    "    (\"scaler\", StandardScaler(), [1, 2, 3, 4])\n",
    "], remainder = \"passthrough\")\n",
    "\n",
    "pipe = Pipeline([\n",
    "    (\"step\", step),\n",
    "    (\"model\", XGBClassifier())\n",
    "])\n",
    "\n",
    "xgb_param_grid = {\"model__n_estimators\": list(range(1, 10)), \"model__learning_rate\" : [0, 0.1, 0.2, 0.3, 0.4, 0.5],\n",
    "                 \"model__gamma\": [0, 0.1, 0.2, 0.3, 0.4, 0.5]}\n",
    "\n",
    "xgb_grid = GridSearchCV(pipe, xgb_param_grid, cv = 5, scoring = \"accuracy\")\n",
    "\n",
    "xgb_grid.fit(X_train, y_train)\n",
    "\n",
    "xgb_grid.best_params_"
   ]
  },
  {
   "cell_type": "code",
   "execution_count": null,
   "id": "e97f4c4e-11fc-4b54-adea-8b96e4e1d290",
   "metadata": {},
   "outputs": [],
   "source": []
  }
 ],
 "metadata": {
  "kernelspec": {
   "display_name": "Python 3 (ipykernel)",
   "language": "python",
   "name": "python3"
  },
  "language_info": {
   "codemirror_mode": {
    "name": "ipython",
    "version": 3
   },
   "file_extension": ".py",
   "mimetype": "text/x-python",
   "name": "python",
   "nbconvert_exporter": "python",
   "pygments_lexer": "ipython3",
   "version": "3.11.5"
  }
 },
 "nbformat": 4,
 "nbformat_minor": 5
}
